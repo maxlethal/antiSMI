{
 "cells": [
  {
   "cell_type": "code",
   "execution_count": 1,
   "metadata": {
    "collapsed": true,
    "pycharm": {
     "name": "#%%\n"
    }
   },
   "outputs": [],
   "source": [
    "import numpy as np\n",
    "import re\n",
    "import pandas as pd\n",
    "import datetime\n",
    "from navec import Navec\n",
    "from matplotlib import pyplot as pl\n",
    "\n",
    "# from sklearn.cluster import KMeans\n",
    "# from sklearn.linear_model import LinearRegression\n",
    "# from sklearn.metrics import mean_squared_error\n",
    "# from sklearn.metrics.pairwise import cosine_similarity\n",
    "# from sklearn.metrics.pairwise import euclidean_distances"
   ]
  },
  {
   "cell_type": "code",
   "execution_count": 6,
   "outputs": [],
   "source": [
    "pd.set_option('max_colwidth', 120)\n",
    "pd.set_option('display.width', 500)"
   ],
   "metadata": {
    "collapsed": false,
    "pycharm": {
     "name": "#%%\n"
    }
   }
  },
  {
   "cell_type": "code",
   "execution_count": 2,
   "outputs": [],
   "source": [
    "path = 'natasha_bd//navec_news_v1_1B_250K_300d_100q.tar'\n",
    "navec = Navec.load(path)"
   ],
   "metadata": {
    "collapsed": false,
    "pycharm": {
     "name": "#%%\n"
    }
   }
  },
  {
   "cell_type": "code",
   "execution_count": 7,
   "outputs": [],
   "source": [
    "def get_clean_word(word: str) -> str:\n",
    "\tword = re.sub('[^a-zа-яё-]', '', word, flags=re.IGNORECASE)\n",
    "\tword = word.strip('-')\n",
    "\treturn word"
   ],
   "metadata": {
    "collapsed": false,
    "pycharm": {
     "name": "#%%\n"
    }
   }
  },
  {
   "cell_type": "code",
   "execution_count": 8,
   "outputs": [],
   "source": [
    "def news2emb(news:str) -> np.ndarray:\n",
    "    \"\"\"Предложение в эмбеддинг. Универсальная реализация\"\"\"\n",
    "    news_clean = [get_clean_word(word) for word in news.split()]\n",
    "    embeddings_list = []\n",
    "    for word in news_clean:\n",
    "        try:\n",
    "            embeddings_list.append(navec[word.lower()])\n",
    "        except KeyError:  # если OUV, эмбеддинг = спецэмбедингу unknown для natasha\n",
    "            embeddings_list.append(navec['<unk>'])\n",
    "    news_emb = np.mean(embeddings_list, axis=0)\n",
    "    return news_emb"
   ],
   "metadata": {
    "collapsed": false,
    "pycharm": {
     "name": "#%%\n"
    }
   }
  },
  {
   "cell_type": "code",
   "execution_count": 18,
   "outputs": [],
   "source": [
    "def date_news(date):\n",
    "    \"\"\"новости на дату в формате YYYY-MM-DD -> dataframe, short_news_list, embeddings\"\"\"\n",
    "    news_df = pd.read_pickle('table_news.pkl')\n",
    "    news_df['short_date'] = news_df.date.apply(lambda x: x.strftime('%Y-%m-%d'))\n",
    "    news_df = news_df[news_df.short_date == date]\n",
    "    list_news = news_df.title[news_df.short_date == date].to_list()\n",
    "    news_df.drop('short_date', axis=1, inplace=True)\n",
    "    embeddings = [news2emb(news) for news in list_news]\n",
    "    return news_df, list_news, embeddings"
   ],
   "metadata": {
    "collapsed": false,
    "pycharm": {
     "name": "#%%\n"
    }
   }
  },
  {
   "cell_type": "code",
   "execution_count": 19,
   "outputs": [
    {
     "data": {
      "text/plain": "                     date                                                                                                           title                                                                                                               short_news                                                                                                               first_link  \\\n65041 2022-07-20 23:59:18                                                                           «Медуза» начнет онлайн 148 дней войны  «Медуза» начнет онлайн 148 дня войны в 8 часов утра по московскому времени. На этом мы приостанавливаем трансляцию с...                                                                                                                      NaN   \n65040 2022-07-20 23:53:09                                                                                 Фото и видео пожара в Скадовске  Украинские СМИ публикуют фото и видео пожара в Скадовске Херсонской области. Город контролируют российские военные М...                                                                                               https://t.me/UAonlii/33523   \n65039 2022-07-20 23:47:32                           Белорусский авиадиспетчер тайно записал переговоры во время посадки самолета в Минске  Белорусский авиадиспетчер тайно записал переговоры во время посадки самолета Ryanair в Минске, в результате которых ...  https://meduza.io/feature/2022/07/20/kakoy-kod-ugrozy-nu-puskay-budet-krasnyy?utm_source=telegram&utm_medium=live&ut...   \n65038 2022-07-20 23:38:03                                                                               Монатик выступил в Киевском метро  Легендарный украинский музыкант Монатик выступил в Киевском метро. Видео выступления на станции «Майдан Незалежности...                                                                                          https://t.me/c/1210003725/21408   \n65037 2022-07-20 23:27:59  На 72-летнюю пенсионерку, прикрепившую антивоенную записку к флагу, составили протокол о «дискредитации армии»  На 72-летнюю пенсионерку, которая прикрепила антивоенную записку к российскому флагу, составили протокол о «дискреди...                                                                                           https://t.me/ovdinfolive/11669   \n...                   ...                                                                                                             ...                                                                                                                      ...                                                                                                                      ...   \n15002 2022-07-20 08:10:24                                              Вложения инвесторов в акции упали до рекордного уровня с 2008 года  По итогам июльского опроса управляющих фондами выяснилось, что вложения инвесторов в акции упали до уровня, который ...                                                                                                                      NaN   \n15001 2022-07-20 07:41:54                        Народный Банк Китая сохранил ставку среднесрочного кредитования на отметке 3.70% годовых  На фоне резкого падения потребительских цен в Китае Народный Банк Китая (НБК), как и ожидалось, сохранил ставку сред...                                                                                                                      NaN   \n15000 2022-07-20 07:22:41                              На заокеанских фондовых рынках сохраняется лучшая динамика за последние три недели  На заокеанских фондовых рынках сохраняется лучшая динамика за последние три недели. Наибольший спрос в высокотехноло...                                                                                                                      NaN   \n64939 2022-07-20 00:08:34                                               Поставки газа в ЕС по «Северному потоку — 1» возобновятся 21 июля  Поставки российского газа в ЕС по газопроводу «Северный поток — 1» возобновятся 21 июля. При этом ЕС планирует ослаб...                                                                                                                      NaN   \n64938 2022-07-20 00:01:18                                                             В порту Рени загорелись три автоцистерны с топливом  В порту города Рени Одесской области загорелись три автоцистерны с топливом. 44-летний работник порта получил ожоги ...                                                                                              https://t.me/stranaua/53347   \n\n                                                                                                                      raw_news category        agency  \n65041  На этом мы приостанавливаем трансляцию событий российского вторжения в Украину. «Медуза» начнет онлайн 148 дня войны...  society    meduzalive  \n65040  Украинские СМИ публикуют фото и видео пожара в Скадовске Херсонской области. Город контролируют российские военные  ...  society    meduzalive  \n65039  «Какой код угрозы? Ну, пускай будет красный». Диспетчер аэропорта тайно записал переговоры во время посадки рейса Ry...  society    meduzalive  \n65038  Украинский музыкант Монатик вернулся на родину и выступил в Киевском метро   \\n.  Видео выступления на станции «Майд...  society    meduzalive  \n65037  На 72-летнюю пенсионерку составили протокол о «дискредитации армии» после доноса настоятеля Храма Святого Людовика  ...  society    meduzalive  \n...                                                                                                                        ...      ...           ...  \n15002  BofA: GLOBAL FUND MANAGERS SURVEY – МАКСИМАЛЬНЫЙ РЫНОЧНЫЙ ПЕССИМИЗМ, ОПАСЕНИЯ РЕЦЕССИИ ТАКЖЕ ВЗЛЕТАЮТ ВВЕРХ  Итог ию...  economy  russianmacro  \n15001  БАНК КИТАЯ ПО ИТОГАМ СВОЕГО ЗАСЕДАНИЯ ВНОВЬ НЕ СТАЛ МЕНЯТЬ ГОДИЧНУЮ КЛЮЧЕВУЮ СТАВКУ   Народный Банк Китая (НБК), как...  economy  russianmacro  \n15000  🟢 - лучшая динамика за последние три недели на заокеанских рынках, WallStreet показал довольно уверенный рост из-за ...  economy  russianmacro  \n64939  Итоги сто сорок шестого дня войны  \\n  ➤По данным Reuters, поставки российского газа в ЕС по газопроводу «Северный п...  society    meduzalive  \n64938  В порту города Рени Одесской области загорелись три автоцистерны с топливом  \\n  Спасатели ликвидировали пожар. 44-л...  society    meduzalive  \n\n[165 rows x 7 columns]",
      "text/html": "<div>\n<style scoped>\n    .dataframe tbody tr th:only-of-type {\n        vertical-align: middle;\n    }\n\n    .dataframe tbody tr th {\n        vertical-align: top;\n    }\n\n    .dataframe thead th {\n        text-align: right;\n    }\n</style>\n<table border=\"1\" class=\"dataframe\">\n  <thead>\n    <tr style=\"text-align: right;\">\n      <th></th>\n      <th>date</th>\n      <th>title</th>\n      <th>short_news</th>\n      <th>first_link</th>\n      <th>raw_news</th>\n      <th>category</th>\n      <th>agency</th>\n    </tr>\n  </thead>\n  <tbody>\n    <tr>\n      <th>65041</th>\n      <td>2022-07-20 23:59:18</td>\n      <td>«Медуза» начнет онлайн 148 дней войны</td>\n      <td>«Медуза» начнет онлайн 148 дня войны в 8 часов утра по московскому времени. На этом мы приостанавливаем трансляцию с...</td>\n      <td>NaN</td>\n      <td>На этом мы приостанавливаем трансляцию событий российского вторжения в Украину. «Медуза» начнет онлайн 148 дня войны...</td>\n      <td>society</td>\n      <td>meduzalive</td>\n    </tr>\n    <tr>\n      <th>65040</th>\n      <td>2022-07-20 23:53:09</td>\n      <td>Фото и видео пожара в Скадовске</td>\n      <td>Украинские СМИ публикуют фото и видео пожара в Скадовске Херсонской области. Город контролируют российские военные М...</td>\n      <td>https://t.me/UAonlii/33523</td>\n      <td>Украинские СМИ публикуют фото и видео пожара в Скадовске Херсонской области. Город контролируют российские военные  ...</td>\n      <td>society</td>\n      <td>meduzalive</td>\n    </tr>\n    <tr>\n      <th>65039</th>\n      <td>2022-07-20 23:47:32</td>\n      <td>Белорусский авиадиспетчер тайно записал переговоры во время посадки самолета в Минске</td>\n      <td>Белорусский авиадиспетчер тайно записал переговоры во время посадки самолета Ryanair в Минске, в результате которых ...</td>\n      <td>https://meduza.io/feature/2022/07/20/kakoy-kod-ugrozy-nu-puskay-budet-krasnyy?utm_source=telegram&amp;utm_medium=live&amp;ut...</td>\n      <td>«Какой код угрозы? Ну, пускай будет красный». Диспетчер аэропорта тайно записал переговоры во время посадки рейса Ry...</td>\n      <td>society</td>\n      <td>meduzalive</td>\n    </tr>\n    <tr>\n      <th>65038</th>\n      <td>2022-07-20 23:38:03</td>\n      <td>Монатик выступил в Киевском метро</td>\n      <td>Легендарный украинский музыкант Монатик выступил в Киевском метро. Видео выступления на станции «Майдан Незалежности...</td>\n      <td>https://t.me/c/1210003725/21408</td>\n      <td>Украинский музыкант Монатик вернулся на родину и выступил в Киевском метро   \\n.  Видео выступления на станции «Майд...</td>\n      <td>society</td>\n      <td>meduzalive</td>\n    </tr>\n    <tr>\n      <th>65037</th>\n      <td>2022-07-20 23:27:59</td>\n      <td>На 72-летнюю пенсионерку, прикрепившую антивоенную записку к флагу, составили протокол о «дискредитации армии»</td>\n      <td>На 72-летнюю пенсионерку, которая прикрепила антивоенную записку к российскому флагу, составили протокол о «дискреди...</td>\n      <td>https://t.me/ovdinfolive/11669</td>\n      <td>На 72-летнюю пенсионерку составили протокол о «дискредитации армии» после доноса настоятеля Храма Святого Людовика  ...</td>\n      <td>society</td>\n      <td>meduzalive</td>\n    </tr>\n    <tr>\n      <th>...</th>\n      <td>...</td>\n      <td>...</td>\n      <td>...</td>\n      <td>...</td>\n      <td>...</td>\n      <td>...</td>\n      <td>...</td>\n    </tr>\n    <tr>\n      <th>15002</th>\n      <td>2022-07-20 08:10:24</td>\n      <td>Вложения инвесторов в акции упали до рекордного уровня с 2008 года</td>\n      <td>По итогам июльского опроса управляющих фондами выяснилось, что вложения инвесторов в акции упали до уровня, который ...</td>\n      <td>NaN</td>\n      <td>BofA: GLOBAL FUND MANAGERS SURVEY – МАКСИМАЛЬНЫЙ РЫНОЧНЫЙ ПЕССИМИЗМ, ОПАСЕНИЯ РЕЦЕССИИ ТАКЖЕ ВЗЛЕТАЮТ ВВЕРХ  Итог ию...</td>\n      <td>economy</td>\n      <td>russianmacro</td>\n    </tr>\n    <tr>\n      <th>15001</th>\n      <td>2022-07-20 07:41:54</td>\n      <td>Народный Банк Китая сохранил ставку среднесрочного кредитования на отметке 3.70% годовых</td>\n      <td>На фоне резкого падения потребительских цен в Китае Народный Банк Китая (НБК), как и ожидалось, сохранил ставку сред...</td>\n      <td>NaN</td>\n      <td>БАНК КИТАЯ ПО ИТОГАМ СВОЕГО ЗАСЕДАНИЯ ВНОВЬ НЕ СТАЛ МЕНЯТЬ ГОДИЧНУЮ КЛЮЧЕВУЮ СТАВКУ   Народный Банк Китая (НБК), как...</td>\n      <td>economy</td>\n      <td>russianmacro</td>\n    </tr>\n    <tr>\n      <th>15000</th>\n      <td>2022-07-20 07:22:41</td>\n      <td>На заокеанских фондовых рынках сохраняется лучшая динамика за последние три недели</td>\n      <td>На заокеанских фондовых рынках сохраняется лучшая динамика за последние три недели. Наибольший спрос в высокотехноло...</td>\n      <td>NaN</td>\n      <td>🟢 - лучшая динамика за последние три недели на заокеанских рынках, WallStreet показал довольно уверенный рост из-за ...</td>\n      <td>economy</td>\n      <td>russianmacro</td>\n    </tr>\n    <tr>\n      <th>64939</th>\n      <td>2022-07-20 00:08:34</td>\n      <td>Поставки газа в ЕС по «Северному потоку — 1» возобновятся 21 июля</td>\n      <td>Поставки российского газа в ЕС по газопроводу «Северный поток — 1» возобновятся 21 июля. При этом ЕС планирует ослаб...</td>\n      <td>NaN</td>\n      <td>Итоги сто сорок шестого дня войны  \\n  ➤По данным Reuters, поставки российского газа в ЕС по газопроводу «Северный п...</td>\n      <td>society</td>\n      <td>meduzalive</td>\n    </tr>\n    <tr>\n      <th>64938</th>\n      <td>2022-07-20 00:01:18</td>\n      <td>В порту Рени загорелись три автоцистерны с топливом</td>\n      <td>В порту города Рени Одесской области загорелись три автоцистерны с топливом. 44-летний работник порта получил ожоги ...</td>\n      <td>https://t.me/stranaua/53347</td>\n      <td>В порту города Рени Одесской области загорелись три автоцистерны с топливом  \\n  Спасатели ликвидировали пожар. 44-л...</td>\n      <td>society</td>\n      <td>meduzalive</td>\n    </tr>\n  </tbody>\n</table>\n<p>165 rows × 7 columns</p>\n</div>"
     },
     "execution_count": 19,
     "metadata": {},
     "output_type": "execute_result"
    }
   ],
   "source": [
    "date_news('2022-07-20')[0]"
   ],
   "metadata": {
    "collapsed": false,
    "pycharm": {
     "name": "#%%\n"
    }
   }
  },
  {
   "cell_type": "code",
   "execution_count": 20,
   "outputs": [],
   "source": [
    "date_df, day_news_list, embeddings = date_news('2022-07-20')"
   ],
   "metadata": {
    "collapsed": false,
    "pycharm": {
     "name": "#%%\n"
    }
   }
  },
  {
   "cell_type": "code",
   "execution_count": 22,
   "outputs": [],
   "source": [
    "# day_news_list"
   ],
   "metadata": {
    "collapsed": false,
    "pycharm": {
     "name": "#%%\n"
    }
   }
  },
  {
   "cell_type": "code",
   "execution_count": 24,
   "outputs": [],
   "source": [
    "# embeddings"
   ],
   "metadata": {
    "collapsed": false,
    "pycharm": {
     "name": "#%%\n"
    }
   }
  },
  {
   "cell_type": "markdown",
   "source": [
    "### Кластеризация лучших четырёх моделей"
   ],
   "metadata": {
    "collapsed": false,
    "pycharm": {
     "name": "#%% md\n"
    }
   }
  },
  {
   "cell_type": "code",
   "execution_count": null,
   "outputs": [],
   "source": [
    "# pip install diameter-clustering"
   ],
   "metadata": {
    "collapsed": false,
    "pycharm": {
     "name": "#%%\n"
    }
   }
  },
  {
   "cell_type": "code",
   "execution_count": 34,
   "outputs": [],
   "source": [
    "import sklearn.neighbors\n",
    "from diameter_clustering import MaxDiameterClustering, LeaderClustering, QTClustering\n",
    "from diameter_clustering.dist_matrix import compute_sparse_dist_matrix\n",
    "from sklearn.cluster import (DBSCAN, OPTICS, AffinityPropagation,\n",
    "                             AgglomerativeClustering, Birch, KMeans, MeanShift,\n",
    "                             MiniBatchKMeans)"
   ],
   "metadata": {
    "collapsed": false,
    "pycharm": {
     "name": "#%%\n"
    }
   }
  },
  {
   "cell_type": "code",
   "execution_count": 37,
   "outputs": [],
   "source": [
    "dist_matrix = compute_sparse_dist_matrix(list(embeddings), metric='cosine')"
   ],
   "metadata": {
    "collapsed": false,
    "pycharm": {
     "name": "#%%\n"
    }
   }
  },
  {
   "cell_type": "code",
   "execution_count": 38,
   "outputs": [],
   "source": [
    "model_Birch = Birch(n_clusters=None, threshold=0.75, branching_factor=50)\n",
    "model_AgglomerativeClustering = AgglomerativeClustering(n_clusters=None, affinity='cosine', linkage='complete',\n",
    "                                        distance_threshold=0.3)\n",
    "model_MaxDiameterClustering = MaxDiameterClustering(max_distance=0.5, metric=sorted(sklearn.neighbors.VALID_METRICS['brute']), precomputed_dist=True)\n",
    "model_LeaderClustering = LeaderClustering(max_radius=0.3, metric=sorted(sklearn.neighbors.VALID_METRICS['brute']), precomputed_dist=True)\n",
    "model_QTClustering = QTClustering(max_radius=0.3, metric=sorted(sklearn.neighbors.VALID_METRICS['brute']),\n",
    "                             min_cluster_size=2, precomputed_dist=True)"
   ],
   "metadata": {
    "collapsed": false,
    "pycharm": {
     "name": "#%%\n"
    }
   }
  },
  {
   "cell_type": "code",
   "execution_count": 40,
   "outputs": [
    {
     "name": "stderr",
     "output_type": "stream",
     "text": [
      "MaxDiameterClustering fit: 100%|██████████| 164/164 [00:00<00:00, 5655.40it/s]\n",
      "LeaderClustering fit: 100%|██████████| 164/164 [00:00<00:00, 6067.44it/s]\n",
      "QTClustering fit. Current cluster size 2.0, total count 20.0:  12%|█▏        | 20.0/165 [00:00<00:00, 2222.15it/s]\n"
     ]
    }
   ],
   "source": [
    "labels_Birch = model_Birch.fit_predict(list(embeddings))\n",
    "labels_AgglomerativeClustering = model_AgglomerativeClustering.fit_predict(list(embeddings))\n",
    "labels_MaxDiameterClustering = model_MaxDiameterClustering.fit_predict(compute_sparse_dist_matrix(list(embeddings), metric='cosine'))\n",
    "labels_LeaderClustering = model_LeaderClustering.fit_predict(compute_sparse_dist_matrix(list(embeddings), metric='cosine'))\n",
    "labels_QTClustering = model_QTClustering.fit_predict(compute_sparse_dist_matrix(list(embeddings), metric='cosine'))"
   ],
   "metadata": {
    "collapsed": false,
    "pycharm": {
     "name": "#%%\n"
    }
   }
  },
  {
   "cell_type": "code",
   "execution_count": 45,
   "outputs": [],
   "source": [
    "def show_clusters(labels):\n",
    "    \"\"\"Визуализация работы алгоритмов кластеризации: labels -> pandas.df\"\"\"\n",
    "    df = pd.DataFrame()\n",
    "    df['text'] = date_df.title\n",
    "    df['label'] = labels\n",
    "    df['count'] = df.groupby('label')['label'].transform('count')\n",
    "    df = df.sort_values(by=['count', 'label'], ascending=[False, True]).loc[:,['text', 'label']]\n",
    "    num_clusters = len(df.label.value_counts())\n",
    "    return num_clusters, df"
   ],
   "metadata": {
    "collapsed": false,
    "pycharm": {
     "name": "#%%\n"
    }
   }
  },
  {
   "cell_type": "code",
   "execution_count": 44,
   "outputs": [
    {
     "data": {
      "text/plain": "165"
     },
     "execution_count": 44,
     "metadata": {},
     "output_type": "execute_result"
    }
   ],
   "source": [
    "len(date_df)"
   ],
   "metadata": {
    "collapsed": false,
    "pycharm": {
     "name": "#%%\n"
    }
   }
  },
  {
   "cell_type": "code",
   "execution_count": 49,
   "outputs": [
    {
     "name": "stdout",
     "output_type": "stream",
     "text": [
      "Birch: 159\n",
      "Agglomerative: 133\n",
      "MaxDiameterClusterin: 155\n",
      "LeaderClustering: 155\n",
      "QTClustering: 9\n"
     ]
    }
   ],
   "source": [
    "print(f'Birch: {show_clusters(labels_Birch)[0]}')\n",
    "print(f'Agglomerative: {show_clusters(labels_AgglomerativeClustering)[0]}')\n",
    "print(f'MaxDiameterClusterin: {show_clusters(labels_MaxDiameterClustering)[0]}')\n",
    "print(f'LeaderClustering: {show_clusters(labels_LeaderClustering)[0]}')\n",
    "print(f'QTClustering: {show_clusters(labels_QTClustering)[0]}')\n"
   ],
   "metadata": {
    "collapsed": false,
    "pycharm": {
     "name": "#%%\n"
    }
   }
  },
  {
   "cell_type": "code",
   "execution_count": 50,
   "outputs": [
    {
     "data": {
      "text/plain": "                                                                                                                 text  label\n35701                                ЦБ предложил запретить неквалифицированным инвесторам покупать иностранные акции    149\n35700                       ЦБ хочет ограничить возможность неквалифицированным инвесторам покупать иностранные акции    149\n19063                                ЦБ предложил запретить неквалифицированным инвесторам покупать иностранные акции    149\n65027                           Российские власти пытаются заставить «Википедию» удалить статьи о вторжении в Украину     57\n6556   Российские власти пытаются заставить «Википедию» удалить статьи о вторжении в Украину. Самое время их прочесть     57\n57643                                                      Карлсен отказался защищать титул чемпиона мира по шахматам     92\n64997                                              Магнус Карлсен отказался защищать звание чемпиона мира по шахматам     92\n35687                                                              «АвтоВАЗ» выпустит ограниченную партию Lada Largus    103\n64965                                                              «АвтоВАЗ» выпустит ограниченную партию Lada Largus    103\n57637                           «АвтоВАЗ» сделает ограниченную партию Lada Largus из накопленных на складах запчастей    104\n23513                                         АвтоВАЗ выпустит 1800 Lada Largus из накопленных на складах компонентов    104\n65040                                                                                 Фото и видео пожара в Скадовске      0\n65038                                                                               Монатик выступил в Киевском метро      1\n65037  На 72-летнюю пенсионерку, прикрепившую антивоенную записку к флагу, составили протокол о «дискредитации армии»      2\n65035  Суд в Гааге может начать рассмотрение первого дела о преступлениях российских военных в Украине уже этой зимой      3\n23540                                    Доля нефтегазового сектора в ВВП России в I квартале 2022 г. составила 21,7%      4\n65030                                      Путин вербовал в качестве агента одного из лидеров неонацистского движения      5\n23538                                                                                    В России ускорилась дефляция      6\n23537                                                Путин выступил с инициативами в области детства и антиглобализма      7\n65026                                                    В Мариуполе опубликовали фото роддома с «той самой девушкой»      8\n10197                                            В «Крыльевах» опровергли информацию об отправке Пиняева в реанимацию      9\n19071                                                                    Росстат снова зафиксировал в России дефляцию     10\n23535                                    Сунак и Трасс вышли в финальный раунд борьбы за пост премьера Великобритании     11\n23534                                                                  В полиции ввели масочный режим для сотрудников     12\n10196                                           Сергея Пиняева увезли в реанимацию после тренировки «Крыльев Советов»     13\n23529                                                 В Минцифре создан экспертный совет по литературной деятельности     14\n65002                                                          В Украине под критерии «олигархов» попадают 86 человек     15\n5784                                                                 Бортник: Зеленский отправил силовиков в отставку     16\n65001                                В России появились билборды с призывом «трудоустроиться» в ЧВК и стать наемником     17\n64999                                                     Ученый Петр Парпулов вышел из колонии по состоянию здоровья     18",
      "text/html": "<div>\n<style scoped>\n    .dataframe tbody tr th:only-of-type {\n        vertical-align: middle;\n    }\n\n    .dataframe tbody tr th {\n        vertical-align: top;\n    }\n\n    .dataframe thead th {\n        text-align: right;\n    }\n</style>\n<table border=\"1\" class=\"dataframe\">\n  <thead>\n    <tr style=\"text-align: right;\">\n      <th></th>\n      <th>text</th>\n      <th>label</th>\n    </tr>\n  </thead>\n  <tbody>\n    <tr>\n      <th>35701</th>\n      <td>ЦБ предложил запретить неквалифицированным инвесторам покупать иностранные акции</td>\n      <td>149</td>\n    </tr>\n    <tr>\n      <th>35700</th>\n      <td>ЦБ хочет ограничить возможность неквалифицированным инвесторам покупать иностранные акции</td>\n      <td>149</td>\n    </tr>\n    <tr>\n      <th>19063</th>\n      <td>ЦБ предложил запретить неквалифицированным инвесторам покупать иностранные акции</td>\n      <td>149</td>\n    </tr>\n    <tr>\n      <th>65027</th>\n      <td>Российские власти пытаются заставить «Википедию» удалить статьи о вторжении в Украину</td>\n      <td>57</td>\n    </tr>\n    <tr>\n      <th>6556</th>\n      <td>Российские власти пытаются заставить «Википедию» удалить статьи о вторжении в Украину. Самое время их прочесть</td>\n      <td>57</td>\n    </tr>\n    <tr>\n      <th>57643</th>\n      <td>Карлсен отказался защищать титул чемпиона мира по шахматам</td>\n      <td>92</td>\n    </tr>\n    <tr>\n      <th>64997</th>\n      <td>Магнус Карлсен отказался защищать звание чемпиона мира по шахматам</td>\n      <td>92</td>\n    </tr>\n    <tr>\n      <th>35687</th>\n      <td>«АвтоВАЗ» выпустит ограниченную партию Lada Largus</td>\n      <td>103</td>\n    </tr>\n    <tr>\n      <th>64965</th>\n      <td>«АвтоВАЗ» выпустит ограниченную партию Lada Largus</td>\n      <td>103</td>\n    </tr>\n    <tr>\n      <th>57637</th>\n      <td>«АвтоВАЗ» сделает ограниченную партию Lada Largus из накопленных на складах запчастей</td>\n      <td>104</td>\n    </tr>\n    <tr>\n      <th>23513</th>\n      <td>АвтоВАЗ выпустит 1800 Lada Largus из накопленных на складах компонентов</td>\n      <td>104</td>\n    </tr>\n    <tr>\n      <th>65040</th>\n      <td>Фото и видео пожара в Скадовске</td>\n      <td>0</td>\n    </tr>\n    <tr>\n      <th>65038</th>\n      <td>Монатик выступил в Киевском метро</td>\n      <td>1</td>\n    </tr>\n    <tr>\n      <th>65037</th>\n      <td>На 72-летнюю пенсионерку, прикрепившую антивоенную записку к флагу, составили протокол о «дискредитации армии»</td>\n      <td>2</td>\n    </tr>\n    <tr>\n      <th>65035</th>\n      <td>Суд в Гааге может начать рассмотрение первого дела о преступлениях российских военных в Украине уже этой зимой</td>\n      <td>3</td>\n    </tr>\n    <tr>\n      <th>23540</th>\n      <td>Доля нефтегазового сектора в ВВП России в I квартале 2022 г. составила 21,7%</td>\n      <td>4</td>\n    </tr>\n    <tr>\n      <th>65030</th>\n      <td>Путин вербовал в качестве агента одного из лидеров неонацистского движения</td>\n      <td>5</td>\n    </tr>\n    <tr>\n      <th>23538</th>\n      <td>В России ускорилась дефляция</td>\n      <td>6</td>\n    </tr>\n    <tr>\n      <th>23537</th>\n      <td>Путин выступил с инициативами в области детства и антиглобализма</td>\n      <td>7</td>\n    </tr>\n    <tr>\n      <th>65026</th>\n      <td>В Мариуполе опубликовали фото роддома с «той самой девушкой»</td>\n      <td>8</td>\n    </tr>\n    <tr>\n      <th>10197</th>\n      <td>В «Крыльевах» опровергли информацию об отправке Пиняева в реанимацию</td>\n      <td>9</td>\n    </tr>\n    <tr>\n      <th>19071</th>\n      <td>Росстат снова зафиксировал в России дефляцию</td>\n      <td>10</td>\n    </tr>\n    <tr>\n      <th>23535</th>\n      <td>Сунак и Трасс вышли в финальный раунд борьбы за пост премьера Великобритании</td>\n      <td>11</td>\n    </tr>\n    <tr>\n      <th>23534</th>\n      <td>В полиции ввели масочный режим для сотрудников</td>\n      <td>12</td>\n    </tr>\n    <tr>\n      <th>10196</th>\n      <td>Сергея Пиняева увезли в реанимацию после тренировки «Крыльев Советов»</td>\n      <td>13</td>\n    </tr>\n    <tr>\n      <th>23529</th>\n      <td>В Минцифре создан экспертный совет по литературной деятельности</td>\n      <td>14</td>\n    </tr>\n    <tr>\n      <th>65002</th>\n      <td>В Украине под критерии «олигархов» попадают 86 человек</td>\n      <td>15</td>\n    </tr>\n    <tr>\n      <th>5784</th>\n      <td>Бортник: Зеленский отправил силовиков в отставку</td>\n      <td>16</td>\n    </tr>\n    <tr>\n      <th>65001</th>\n      <td>В России появились билборды с призывом «трудоустроиться» в ЧВК и стать наемником</td>\n      <td>17</td>\n    </tr>\n    <tr>\n      <th>64999</th>\n      <td>Ученый Петр Парпулов вышел из колонии по состоянию здоровья</td>\n      <td>18</td>\n    </tr>\n  </tbody>\n</table>\n</div>"
     },
     "execution_count": 50,
     "metadata": {},
     "output_type": "execute_result"
    }
   ],
   "source": [
    "show_clusters(labels_Birch)[1].head(30)"
   ],
   "metadata": {
    "collapsed": false,
    "pycharm": {
     "name": "#%%\n"
    }
   }
  },
  {
   "cell_type": "code",
   "execution_count": 51,
   "outputs": [
    {
     "data": {
      "text/plain": "                                                                                                          text  label\n35687                                                       «АвтоВАЗ» выпустит ограниченную партию Lada Largus      4\n57637                    «АвтоВАЗ» сделает ограниченную партию Lada Largus из накопленных на складах запчастей      4\n64965                                                       «АвтоВАЗ» выпустит ограниченную партию Lada Largus      4\n23513                                  АвтоВАЗ выпустит 1800 Lada Largus из накопленных на складах компонентов      4\n35701                         ЦБ предложил запретить неквалифицированным инвесторам покупать иностранные акции     40\n35700                ЦБ хочет ограничить возможность неквалифицированным инвесторам покупать иностранные акции     40\n19063                         ЦБ предложил запретить неквалифицированным инвесторам покупать иностранные акции     40\n35689                    ЦБ предлагает запретить неквалифицированным инвесторам сделки с иностранными бумагами     40\n65032                  Новак: Россия не будет поставлять нефть на мировые рынки, если страны G7 ограничат цену      0\n23541                             Испания не одобряет идею Еврокомиссии по ограничению потребления газа на 15%      0\n23511                                   Германия может добровольно сократить потребление газа на 15% с августа      0\n15007                                               Цены на овощи начали дешеветь раньше и быстрее, чем обычно      3\n35698                        Росавиация: цены на билеты для полётов внутри России остались на уровне 2021 года      3\n15003                                         В июне в Великобритании выросли цены на топливо и продовольствие      3\n64998                                  В Петербурге прекращено уголовное преследование блогера Юрия Хованского     19\n6554                                                              Суд прекратил уголовное дело Юрия Хованского     19\n57642                                            Суд прекратил дело Юрия Хованского об «оправдании терроризма»     19\n23533                                               Постпреды ЕС утвердили седьмой пакет санкций против России     25\n6555                                                    Германия утвердила седьмой пакет санкций против России     25\n19066                                               В Евросоюзе утвердили седьмой пакет антироссийских санкций     25\n57643                                               Карлсен отказался защищать титул чемпиона мира по шахматам     46\n64997                                       Магнус Карлсен отказался защищать звание чемпиона мира по шахматам     46\n10190                                           Карлсен отказался играть с Непомнящимом за титул чемпиона мира     46\n35695                     Компания TikTok сократила международный бизнес и сосредоточилась на азиатских рынках      1\n23525  Кувейтская Alshaya Group начала поиск покупателей на бренд детской одежды и товаров Mothercare в России      1\n23520                                        В Госдуме рассказали, что апартаменты не будут приравнены к жилью      2\n5779                                                      Эксперты рассказали, какими будут выборы этой осенью      2\n64994                                                    Лавров заявил, что переговоры с Украиной бессмысленны      5\n19062                                                       Лавров заявил о расширении спецоперации на Украине      5\n6551                     «Википедию» обяжут помечать как нарушителя законов РФ из-за неудаления статей о войне      6",
      "text/html": "<div>\n<style scoped>\n    .dataframe tbody tr th:only-of-type {\n        vertical-align: middle;\n    }\n\n    .dataframe tbody tr th {\n        vertical-align: top;\n    }\n\n    .dataframe thead th {\n        text-align: right;\n    }\n</style>\n<table border=\"1\" class=\"dataframe\">\n  <thead>\n    <tr style=\"text-align: right;\">\n      <th></th>\n      <th>text</th>\n      <th>label</th>\n    </tr>\n  </thead>\n  <tbody>\n    <tr>\n      <th>35687</th>\n      <td>«АвтоВАЗ» выпустит ограниченную партию Lada Largus</td>\n      <td>4</td>\n    </tr>\n    <tr>\n      <th>57637</th>\n      <td>«АвтоВАЗ» сделает ограниченную партию Lada Largus из накопленных на складах запчастей</td>\n      <td>4</td>\n    </tr>\n    <tr>\n      <th>64965</th>\n      <td>«АвтоВАЗ» выпустит ограниченную партию Lada Largus</td>\n      <td>4</td>\n    </tr>\n    <tr>\n      <th>23513</th>\n      <td>АвтоВАЗ выпустит 1800 Lada Largus из накопленных на складах компонентов</td>\n      <td>4</td>\n    </tr>\n    <tr>\n      <th>35701</th>\n      <td>ЦБ предложил запретить неквалифицированным инвесторам покупать иностранные акции</td>\n      <td>40</td>\n    </tr>\n    <tr>\n      <th>35700</th>\n      <td>ЦБ хочет ограничить возможность неквалифицированным инвесторам покупать иностранные акции</td>\n      <td>40</td>\n    </tr>\n    <tr>\n      <th>19063</th>\n      <td>ЦБ предложил запретить неквалифицированным инвесторам покупать иностранные акции</td>\n      <td>40</td>\n    </tr>\n    <tr>\n      <th>35689</th>\n      <td>ЦБ предлагает запретить неквалифицированным инвесторам сделки с иностранными бумагами</td>\n      <td>40</td>\n    </tr>\n    <tr>\n      <th>65032</th>\n      <td>Новак: Россия не будет поставлять нефть на мировые рынки, если страны G7 ограничат цену</td>\n      <td>0</td>\n    </tr>\n    <tr>\n      <th>23541</th>\n      <td>Испания не одобряет идею Еврокомиссии по ограничению потребления газа на 15%</td>\n      <td>0</td>\n    </tr>\n    <tr>\n      <th>23511</th>\n      <td>Германия может добровольно сократить потребление газа на 15% с августа</td>\n      <td>0</td>\n    </tr>\n    <tr>\n      <th>15007</th>\n      <td>Цены на овощи начали дешеветь раньше и быстрее, чем обычно</td>\n      <td>3</td>\n    </tr>\n    <tr>\n      <th>35698</th>\n      <td>Росавиация: цены на билеты для полётов внутри России остались на уровне 2021 года</td>\n      <td>3</td>\n    </tr>\n    <tr>\n      <th>15003</th>\n      <td>В июне в Великобритании выросли цены на топливо и продовольствие</td>\n      <td>3</td>\n    </tr>\n    <tr>\n      <th>64998</th>\n      <td>В Петербурге прекращено уголовное преследование блогера Юрия Хованского</td>\n      <td>19</td>\n    </tr>\n    <tr>\n      <th>6554</th>\n      <td>Суд прекратил уголовное дело Юрия Хованского</td>\n      <td>19</td>\n    </tr>\n    <tr>\n      <th>57642</th>\n      <td>Суд прекратил дело Юрия Хованского об «оправдании терроризма»</td>\n      <td>19</td>\n    </tr>\n    <tr>\n      <th>23533</th>\n      <td>Постпреды ЕС утвердили седьмой пакет санкций против России</td>\n      <td>25</td>\n    </tr>\n    <tr>\n      <th>6555</th>\n      <td>Германия утвердила седьмой пакет санкций против России</td>\n      <td>25</td>\n    </tr>\n    <tr>\n      <th>19066</th>\n      <td>В Евросоюзе утвердили седьмой пакет антироссийских санкций</td>\n      <td>25</td>\n    </tr>\n    <tr>\n      <th>57643</th>\n      <td>Карлсен отказался защищать титул чемпиона мира по шахматам</td>\n      <td>46</td>\n    </tr>\n    <tr>\n      <th>64997</th>\n      <td>Магнус Карлсен отказался защищать звание чемпиона мира по шахматам</td>\n      <td>46</td>\n    </tr>\n    <tr>\n      <th>10190</th>\n      <td>Карлсен отказался играть с Непомнящимом за титул чемпиона мира</td>\n      <td>46</td>\n    </tr>\n    <tr>\n      <th>35695</th>\n      <td>Компания TikTok сократила международный бизнес и сосредоточилась на азиатских рынках</td>\n      <td>1</td>\n    </tr>\n    <tr>\n      <th>23525</th>\n      <td>Кувейтская Alshaya Group начала поиск покупателей на бренд детской одежды и товаров Mothercare в России</td>\n      <td>1</td>\n    </tr>\n    <tr>\n      <th>23520</th>\n      <td>В Госдуме рассказали, что апартаменты не будут приравнены к жилью</td>\n      <td>2</td>\n    </tr>\n    <tr>\n      <th>5779</th>\n      <td>Эксперты рассказали, какими будут выборы этой осенью</td>\n      <td>2</td>\n    </tr>\n    <tr>\n      <th>64994</th>\n      <td>Лавров заявил, что переговоры с Украиной бессмысленны</td>\n      <td>5</td>\n    </tr>\n    <tr>\n      <th>19062</th>\n      <td>Лавров заявил о расширении спецоперации на Украине</td>\n      <td>5</td>\n    </tr>\n    <tr>\n      <th>6551</th>\n      <td>«Википедию» обяжут помечать как нарушителя законов РФ из-за неудаления статей о войне</td>\n      <td>6</td>\n    </tr>\n  </tbody>\n</table>\n</div>"
     },
     "execution_count": 51,
     "metadata": {},
     "output_type": "execute_result"
    }
   ],
   "source": [
    "show_clusters(labels_AgglomerativeClustering)[1].head(30)"
   ],
   "metadata": {
    "collapsed": false,
    "pycharm": {
     "name": "#%%\n"
    }
   }
  },
  {
   "cell_type": "code",
   "execution_count": 52,
   "outputs": [
    {
     "data": {
      "text/plain": "                                                                                                                 text  label\n23533                                                      Постпреды ЕС утвердили седьмой пакет санкций против России     16\n6555                                                           Германия утвердила седьмой пакет санкций против России     16\n19066                                                      В Евросоюзе утвердили седьмой пакет антироссийских санкций     16\n57643                                                      Карлсен отказался защищать титул чемпиона мира по шахматам     52\n64997                                              Магнус Карлсен отказался защищать звание чемпиона мира по шахматам     52\n10190                                                  Карлсен отказался играть с Непомнящимом за титул чемпиона мира     52\n35701                                ЦБ предложил запретить неквалифицированным инвесторам покупать иностранные акции      1\n35700                       ЦБ хочет ограничить возможность неквалифицированным инвесторам покупать иностранные акции      1\n57644                                                                      ЕС готовится к «зиме без российского газа»      8\n23524                                                        В ЕС готовятся провести первую зиму без российского газа      8\n6554                                                                     Суд прекратил уголовное дело Юрия Хованского     10\n57642                                                   Суд прекратил дело Юрия Хованского об «оправдании терроризма»     10\n6553          Лавров заявил, что спецоперация в Донбассе не только ДНР и ЛНР, но и ряд других территорий спецоперации     18\n6552                                                          Лавров: Донбасс — далеко не только территория ДНР и ЛНР     18\n65027                           Российские власти пытаются заставить «Википедию» удалить статьи о вторжении в Украину     20\n6556   Российские власти пытаются заставить «Википедию» удалить статьи о вторжении в Украину. Самое время их прочесть     20\n57637                           «АвтоВАЗ» сделает ограниченную партию Lada Largus из накопленных на складах запчастей     38\n23513                                         АвтоВАЗ выпустит 1800 Lada Largus из накопленных на складах компонентов     38\n19071                                                                    Росстат снова зафиксировал в России дефляцию      0\n19058                                     Эрдоган и Путин обсудят отказ от доллара в расчетах Турции за энергоресурсы      2\n64968                                                    «Тритэ» Михалкова попросила у государства деньги на 2 фильма      3\n23529                                                 В Минцифре создан экспертный совет по литературной деятельности      4\n18136                                                    В заказнике Блин-Вудс в Великобритании появились дикие зубры      5\n10193                             Софья Тартакова: «После эфира 20 июля теннисисты перестанут общаться с телеканалом»      6\n23526                                              ФАС подготовила законопроект для оперативного пресечения роста цен      7\n65029                                    В Пентагоне заявили, что США и союзники передадут Украине 20 ракетных систем      9\n15005                                             Российский бизнес выигрывает на аренде, но выигрывает в инвестициях     11\n57648                                      Роднянский назвал блогера «трусливой мразью», которая «работает на Кремль»     12\n64966                                                                       Мэрь Новой Каховки покинул город и общину     13\n57653             «Матч ТВ» отстранил Касаткину за критику ток-шоу, где осуждали каминг-аут лучшей теннисистки России     14",
      "text/html": "<div>\n<style scoped>\n    .dataframe tbody tr th:only-of-type {\n        vertical-align: middle;\n    }\n\n    .dataframe tbody tr th {\n        vertical-align: top;\n    }\n\n    .dataframe thead th {\n        text-align: right;\n    }\n</style>\n<table border=\"1\" class=\"dataframe\">\n  <thead>\n    <tr style=\"text-align: right;\">\n      <th></th>\n      <th>text</th>\n      <th>label</th>\n    </tr>\n  </thead>\n  <tbody>\n    <tr>\n      <th>23533</th>\n      <td>Постпреды ЕС утвердили седьмой пакет санкций против России</td>\n      <td>16</td>\n    </tr>\n    <tr>\n      <th>6555</th>\n      <td>Германия утвердила седьмой пакет санкций против России</td>\n      <td>16</td>\n    </tr>\n    <tr>\n      <th>19066</th>\n      <td>В Евросоюзе утвердили седьмой пакет антироссийских санкций</td>\n      <td>16</td>\n    </tr>\n    <tr>\n      <th>57643</th>\n      <td>Карлсен отказался защищать титул чемпиона мира по шахматам</td>\n      <td>52</td>\n    </tr>\n    <tr>\n      <th>64997</th>\n      <td>Магнус Карлсен отказался защищать звание чемпиона мира по шахматам</td>\n      <td>52</td>\n    </tr>\n    <tr>\n      <th>10190</th>\n      <td>Карлсен отказался играть с Непомнящимом за титул чемпиона мира</td>\n      <td>52</td>\n    </tr>\n    <tr>\n      <th>35701</th>\n      <td>ЦБ предложил запретить неквалифицированным инвесторам покупать иностранные акции</td>\n      <td>1</td>\n    </tr>\n    <tr>\n      <th>35700</th>\n      <td>ЦБ хочет ограничить возможность неквалифицированным инвесторам покупать иностранные акции</td>\n      <td>1</td>\n    </tr>\n    <tr>\n      <th>57644</th>\n      <td>ЕС готовится к «зиме без российского газа»</td>\n      <td>8</td>\n    </tr>\n    <tr>\n      <th>23524</th>\n      <td>В ЕС готовятся провести первую зиму без российского газа</td>\n      <td>8</td>\n    </tr>\n    <tr>\n      <th>6554</th>\n      <td>Суд прекратил уголовное дело Юрия Хованского</td>\n      <td>10</td>\n    </tr>\n    <tr>\n      <th>57642</th>\n      <td>Суд прекратил дело Юрия Хованского об «оправдании терроризма»</td>\n      <td>10</td>\n    </tr>\n    <tr>\n      <th>6553</th>\n      <td>Лавров заявил, что спецоперация в Донбассе не только ДНР и ЛНР, но и ряд других территорий спецоперации</td>\n      <td>18</td>\n    </tr>\n    <tr>\n      <th>6552</th>\n      <td>Лавров: Донбасс — далеко не только территория ДНР и ЛНР</td>\n      <td>18</td>\n    </tr>\n    <tr>\n      <th>65027</th>\n      <td>Российские власти пытаются заставить «Википедию» удалить статьи о вторжении в Украину</td>\n      <td>20</td>\n    </tr>\n    <tr>\n      <th>6556</th>\n      <td>Российские власти пытаются заставить «Википедию» удалить статьи о вторжении в Украину. Самое время их прочесть</td>\n      <td>20</td>\n    </tr>\n    <tr>\n      <th>57637</th>\n      <td>«АвтоВАЗ» сделает ограниченную партию Lada Largus из накопленных на складах запчастей</td>\n      <td>38</td>\n    </tr>\n    <tr>\n      <th>23513</th>\n      <td>АвтоВАЗ выпустит 1800 Lada Largus из накопленных на складах компонентов</td>\n      <td>38</td>\n    </tr>\n    <tr>\n      <th>19071</th>\n      <td>Росстат снова зафиксировал в России дефляцию</td>\n      <td>0</td>\n    </tr>\n    <tr>\n      <th>19058</th>\n      <td>Эрдоган и Путин обсудят отказ от доллара в расчетах Турции за энергоресурсы</td>\n      <td>2</td>\n    </tr>\n    <tr>\n      <th>64968</th>\n      <td>«Тритэ» Михалкова попросила у государства деньги на 2 фильма</td>\n      <td>3</td>\n    </tr>\n    <tr>\n      <th>23529</th>\n      <td>В Минцифре создан экспертный совет по литературной деятельности</td>\n      <td>4</td>\n    </tr>\n    <tr>\n      <th>18136</th>\n      <td>В заказнике Блин-Вудс в Великобритании появились дикие зубры</td>\n      <td>5</td>\n    </tr>\n    <tr>\n      <th>10193</th>\n      <td>Софья Тартакова: «После эфира 20 июля теннисисты перестанут общаться с телеканалом»</td>\n      <td>6</td>\n    </tr>\n    <tr>\n      <th>23526</th>\n      <td>ФАС подготовила законопроект для оперативного пресечения роста цен</td>\n      <td>7</td>\n    </tr>\n    <tr>\n      <th>65029</th>\n      <td>В Пентагоне заявили, что США и союзники передадут Украине 20 ракетных систем</td>\n      <td>9</td>\n    </tr>\n    <tr>\n      <th>15005</th>\n      <td>Российский бизнес выигрывает на аренде, но выигрывает в инвестициях</td>\n      <td>11</td>\n    </tr>\n    <tr>\n      <th>57648</th>\n      <td>Роднянский назвал блогера «трусливой мразью», которая «работает на Кремль»</td>\n      <td>12</td>\n    </tr>\n    <tr>\n      <th>64966</th>\n      <td>Мэрь Новой Каховки покинул город и общину</td>\n      <td>13</td>\n    </tr>\n    <tr>\n      <th>57653</th>\n      <td>«Матч ТВ» отстранил Касаткину за критику ток-шоу, где осуждали каминг-аут лучшей теннисистки России</td>\n      <td>14</td>\n    </tr>\n  </tbody>\n</table>\n</div>"
     },
     "execution_count": 52,
     "metadata": {},
     "output_type": "execute_result"
    }
   ],
   "source": [
    "show_clusters(labels_MaxDiameterClustering)[1].head(30)"
   ],
   "metadata": {
    "collapsed": false,
    "pycharm": {
     "name": "#%%\n"
    }
   }
  },
  {
   "cell_type": "code",
   "execution_count": 53,
   "outputs": [
    {
     "data": {
      "text/plain": "                                                                                                                       text  label\n57643                                                            Карлсен отказался защищать титул чемпиона мира по шахматам     16\n64997                                                    Магнус Карлсен отказался защищать звание чемпиона мира по шахматам     16\n10190                                                        Карлсен отказался играть с Непомнящимом за титул чемпиона мира     16\n23533                                                            Постпреды ЕС утвердили седьмой пакет санкций против России     27\n6555                                                                 Германия утвердила седьмой пакет санкций против России     27\n19066                                                            В Евросоюзе утвердили седьмой пакет антироссийских санкций     27\n35700                             ЦБ хочет ограничить возможность неквалифицированным инвесторам покупать иностранные акции      1\n19063                                      ЦБ предложил запретить неквалифицированным инвесторам покупать иностранные акции      1\n64998                                               В Петербурге прекращено уголовное преследование блогера Юрия Хованского      8\n6554                                                                           Суд прекратил уголовное дело Юрия Хованского      8\n57637                                 «АвтоВАЗ» сделает ограниченную партию Lada Largus из накопленных на складах запчастей     39\n23513                                               АвтоВАЗ выпустит 1800 Lada Largus из накопленных на складах компонентов     39\n57644                                                                            ЕС готовится к «зиме без российского газа»     45\n23524                                                              В ЕС готовятся провести первую зиму без российского газа     45\n65027                                 Российские власти пытаются заставить «Википедию» удалить статьи о вторжении в Украину     53\n6556         Российские власти пытаются заставить «Википедию» удалить статьи о вторжении в Украину. Самое время их прочесть     53\n6553                Лавров заявил, что спецоперация в Донбассе не только ДНР и ЛНР, но и ряд других территорий спецоперации    113\n6552                                                                Лавров: Донбасс — далеко не только территория ДНР и ЛНР    113\n19072                                                     Основатель Optic привлек $11 млн в посевном раунде финансирования      0\n23527                                   Российские вузы вошли в лидеры Шанхайского глобального рейтинга высшего образования      2\n10192                                         В Кремле отреагировали на отказ Карлсена играть чемпионский матч с Непомнящим      3\n35702                            UX Writer (Localization Team) Semrush, от 150 000 ₽, Удалённо Junior Accounting Specialist      4\n65033  Зеленский: Российский террор должен проиграть, и это будет нашей общей победой – украинского и американского народов      5\n19068                           Единственный кандидат на пост премьера Великоборитании стал экс-министр финансов Риши Сунак      6\n15002                                                    Вложения инвесторов в акции упали до рекордного уровня с 2008 года      7\n23540                                          Доля нефтегазового сектора в ВВП России в I квартале 2022 г. составила 21,7%      9\n65002                                                                В Украине под критерии «олигархов» попадают 86 человек     10\n65039                                 Белорусский авиадиспетчер тайно записал переговоры во время посадки самолета в Минске     11\n6557                                             Евгений Пригожин потребовал объявить «Медузу» «нежелательной организацией»     12\n57641            В соцсетях набирает популярность игра за бездомного кота, который может мяукать, драть ковёр и драть ковёр     13",
      "text/html": "<div>\n<style scoped>\n    .dataframe tbody tr th:only-of-type {\n        vertical-align: middle;\n    }\n\n    .dataframe tbody tr th {\n        vertical-align: top;\n    }\n\n    .dataframe thead th {\n        text-align: right;\n    }\n</style>\n<table border=\"1\" class=\"dataframe\">\n  <thead>\n    <tr style=\"text-align: right;\">\n      <th></th>\n      <th>text</th>\n      <th>label</th>\n    </tr>\n  </thead>\n  <tbody>\n    <tr>\n      <th>57643</th>\n      <td>Карлсен отказался защищать титул чемпиона мира по шахматам</td>\n      <td>16</td>\n    </tr>\n    <tr>\n      <th>64997</th>\n      <td>Магнус Карлсен отказался защищать звание чемпиона мира по шахматам</td>\n      <td>16</td>\n    </tr>\n    <tr>\n      <th>10190</th>\n      <td>Карлсен отказался играть с Непомнящимом за титул чемпиона мира</td>\n      <td>16</td>\n    </tr>\n    <tr>\n      <th>23533</th>\n      <td>Постпреды ЕС утвердили седьмой пакет санкций против России</td>\n      <td>27</td>\n    </tr>\n    <tr>\n      <th>6555</th>\n      <td>Германия утвердила седьмой пакет санкций против России</td>\n      <td>27</td>\n    </tr>\n    <tr>\n      <th>19066</th>\n      <td>В Евросоюзе утвердили седьмой пакет антироссийских санкций</td>\n      <td>27</td>\n    </tr>\n    <tr>\n      <th>35700</th>\n      <td>ЦБ хочет ограничить возможность неквалифицированным инвесторам покупать иностранные акции</td>\n      <td>1</td>\n    </tr>\n    <tr>\n      <th>19063</th>\n      <td>ЦБ предложил запретить неквалифицированным инвесторам покупать иностранные акции</td>\n      <td>1</td>\n    </tr>\n    <tr>\n      <th>64998</th>\n      <td>В Петербурге прекращено уголовное преследование блогера Юрия Хованского</td>\n      <td>8</td>\n    </tr>\n    <tr>\n      <th>6554</th>\n      <td>Суд прекратил уголовное дело Юрия Хованского</td>\n      <td>8</td>\n    </tr>\n    <tr>\n      <th>57637</th>\n      <td>«АвтоВАЗ» сделает ограниченную партию Lada Largus из накопленных на складах запчастей</td>\n      <td>39</td>\n    </tr>\n    <tr>\n      <th>23513</th>\n      <td>АвтоВАЗ выпустит 1800 Lada Largus из накопленных на складах компонентов</td>\n      <td>39</td>\n    </tr>\n    <tr>\n      <th>57644</th>\n      <td>ЕС готовится к «зиме без российского газа»</td>\n      <td>45</td>\n    </tr>\n    <tr>\n      <th>23524</th>\n      <td>В ЕС готовятся провести первую зиму без российского газа</td>\n      <td>45</td>\n    </tr>\n    <tr>\n      <th>65027</th>\n      <td>Российские власти пытаются заставить «Википедию» удалить статьи о вторжении в Украину</td>\n      <td>53</td>\n    </tr>\n    <tr>\n      <th>6556</th>\n      <td>Российские власти пытаются заставить «Википедию» удалить статьи о вторжении в Украину. Самое время их прочесть</td>\n      <td>53</td>\n    </tr>\n    <tr>\n      <th>6553</th>\n      <td>Лавров заявил, что спецоперация в Донбассе не только ДНР и ЛНР, но и ряд других территорий спецоперации</td>\n      <td>113</td>\n    </tr>\n    <tr>\n      <th>6552</th>\n      <td>Лавров: Донбасс — далеко не только территория ДНР и ЛНР</td>\n      <td>113</td>\n    </tr>\n    <tr>\n      <th>19072</th>\n      <td>Основатель Optic привлек $11 млн в посевном раунде финансирования</td>\n      <td>0</td>\n    </tr>\n    <tr>\n      <th>23527</th>\n      <td>Российские вузы вошли в лидеры Шанхайского глобального рейтинга высшего образования</td>\n      <td>2</td>\n    </tr>\n    <tr>\n      <th>10192</th>\n      <td>В Кремле отреагировали на отказ Карлсена играть чемпионский матч с Непомнящим</td>\n      <td>3</td>\n    </tr>\n    <tr>\n      <th>35702</th>\n      <td>UX Writer (Localization Team) Semrush, от 150 000 ₽, Удалённо Junior Accounting Specialist</td>\n      <td>4</td>\n    </tr>\n    <tr>\n      <th>65033</th>\n      <td>Зеленский: Российский террор должен проиграть, и это будет нашей общей победой – украинского и американского народов</td>\n      <td>5</td>\n    </tr>\n    <tr>\n      <th>19068</th>\n      <td>Единственный кандидат на пост премьера Великоборитании стал экс-министр финансов Риши Сунак</td>\n      <td>6</td>\n    </tr>\n    <tr>\n      <th>15002</th>\n      <td>Вложения инвесторов в акции упали до рекордного уровня с 2008 года</td>\n      <td>7</td>\n    </tr>\n    <tr>\n      <th>23540</th>\n      <td>Доля нефтегазового сектора в ВВП России в I квартале 2022 г. составила 21,7%</td>\n      <td>9</td>\n    </tr>\n    <tr>\n      <th>65002</th>\n      <td>В Украине под критерии «олигархов» попадают 86 человек</td>\n      <td>10</td>\n    </tr>\n    <tr>\n      <th>65039</th>\n      <td>Белорусский авиадиспетчер тайно записал переговоры во время посадки самолета в Минске</td>\n      <td>11</td>\n    </tr>\n    <tr>\n      <th>6557</th>\n      <td>Евгений Пригожин потребовал объявить «Медузу» «нежелательной организацией»</td>\n      <td>12</td>\n    </tr>\n    <tr>\n      <th>57641</th>\n      <td>В соцсетях набирает популярность игра за бездомного кота, который может мяукать, драть ковёр и драть ковёр</td>\n      <td>13</td>\n    </tr>\n  </tbody>\n</table>\n</div>"
     },
     "execution_count": 53,
     "metadata": {},
     "output_type": "execute_result"
    }
   ],
   "source": [
    "show_clusters(labels_LeaderClustering)[1].head(30)"
   ],
   "metadata": {
    "collapsed": false,
    "pycharm": {
     "name": "#%%\n"
    }
   }
  },
  {
   "cell_type": "code",
   "execution_count": 58,
   "outputs": [
    {
     "data": {
      "text/plain": "                                                                                                                 text  label\n35701                                ЦБ предложил запретить неквалифицированным инвесторам покупать иностранные акции      0\n35700                       ЦБ хочет ограничить возможность неквалифицированным инвесторам покупать иностранные акции      0\n19063                                ЦБ предложил запретить неквалифицированным инвесторам покупать иностранные акции      0\n23533                                                      Постпреды ЕС утвердили седьмой пакет санкций против России      1\n6555                                                           Германия утвердила седьмой пакет санкций против России      1\n19066                                                      В Евросоюзе утвердили седьмой пакет антироссийских санкций      1\n57643                                                      Карлсен отказался защищать титул чемпиона мира по шахматам      2\n64997                                              Магнус Карлсен отказался защищать звание чемпиона мира по шахматам      2\n10190                                                  Карлсен отказался играть с Непомнящимом за титул чемпиона мира      2\n64998                                         В Петербурге прекращено уголовное преследование блогера Юрия Хованского      3\n6554                                                                     Суд прекратил уголовное дело Юрия Хованского      3\n57642                                                   Суд прекратил дело Юрия Хованского об «оправдании терроризма»      3\n65027                           Российские власти пытаются заставить «Википедию» удалить статьи о вторжении в Украину      4\n6556   Российские власти пытаются заставить «Википедию» удалить статьи о вторжении в Украину. Самое время их прочесть      4\n57644                                                                      ЕС готовится к «зиме без российского газа»      5\n23524                                                        В ЕС готовятся провести первую зиму без российского газа      5\n6553          Лавров заявил, что спецоперация в Донбассе не только ДНР и ЛНР, но и ряд других территорий спецоперации      6\n6552                                                          Лавров: Донбасс — далеко не только территория ДНР и ЛНР      6\n57637                           «АвтоВАЗ» сделает ограниченную партию Lada Largus из накопленных на складах запчастей      7\n23513                                         АвтоВАЗ выпустит 1800 Lada Largus из накопленных на складах компонентов      7",
      "text/html": "<div>\n<style scoped>\n    .dataframe tbody tr th:only-of-type {\n        vertical-align: middle;\n    }\n\n    .dataframe tbody tr th {\n        vertical-align: top;\n    }\n\n    .dataframe thead th {\n        text-align: right;\n    }\n</style>\n<table border=\"1\" class=\"dataframe\">\n  <thead>\n    <tr style=\"text-align: right;\">\n      <th></th>\n      <th>text</th>\n      <th>label</th>\n    </tr>\n  </thead>\n  <tbody>\n    <tr>\n      <th>35701</th>\n      <td>ЦБ предложил запретить неквалифицированным инвесторам покупать иностранные акции</td>\n      <td>0</td>\n    </tr>\n    <tr>\n      <th>35700</th>\n      <td>ЦБ хочет ограничить возможность неквалифицированным инвесторам покупать иностранные акции</td>\n      <td>0</td>\n    </tr>\n    <tr>\n      <th>19063</th>\n      <td>ЦБ предложил запретить неквалифицированным инвесторам покупать иностранные акции</td>\n      <td>0</td>\n    </tr>\n    <tr>\n      <th>23533</th>\n      <td>Постпреды ЕС утвердили седьмой пакет санкций против России</td>\n      <td>1</td>\n    </tr>\n    <tr>\n      <th>6555</th>\n      <td>Германия утвердила седьмой пакет санкций против России</td>\n      <td>1</td>\n    </tr>\n    <tr>\n      <th>19066</th>\n      <td>В Евросоюзе утвердили седьмой пакет антироссийских санкций</td>\n      <td>1</td>\n    </tr>\n    <tr>\n      <th>57643</th>\n      <td>Карлсен отказался защищать титул чемпиона мира по шахматам</td>\n      <td>2</td>\n    </tr>\n    <tr>\n      <th>64997</th>\n      <td>Магнус Карлсен отказался защищать звание чемпиона мира по шахматам</td>\n      <td>2</td>\n    </tr>\n    <tr>\n      <th>10190</th>\n      <td>Карлсен отказался играть с Непомнящимом за титул чемпиона мира</td>\n      <td>2</td>\n    </tr>\n    <tr>\n      <th>64998</th>\n      <td>В Петербурге прекращено уголовное преследование блогера Юрия Хованского</td>\n      <td>3</td>\n    </tr>\n    <tr>\n      <th>6554</th>\n      <td>Суд прекратил уголовное дело Юрия Хованского</td>\n      <td>3</td>\n    </tr>\n    <tr>\n      <th>57642</th>\n      <td>Суд прекратил дело Юрия Хованского об «оправдании терроризма»</td>\n      <td>3</td>\n    </tr>\n    <tr>\n      <th>65027</th>\n      <td>Российские власти пытаются заставить «Википедию» удалить статьи о вторжении в Украину</td>\n      <td>4</td>\n    </tr>\n    <tr>\n      <th>6556</th>\n      <td>Российские власти пытаются заставить «Википедию» удалить статьи о вторжении в Украину. Самое время их прочесть</td>\n      <td>4</td>\n    </tr>\n    <tr>\n      <th>57644</th>\n      <td>ЕС готовится к «зиме без российского газа»</td>\n      <td>5</td>\n    </tr>\n    <tr>\n      <th>23524</th>\n      <td>В ЕС готовятся провести первую зиму без российского газа</td>\n      <td>5</td>\n    </tr>\n    <tr>\n      <th>6553</th>\n      <td>Лавров заявил, что спецоперация в Донбассе не только ДНР и ЛНР, но и ряд других территорий спецоперации</td>\n      <td>6</td>\n    </tr>\n    <tr>\n      <th>6552</th>\n      <td>Лавров: Донбасс — далеко не только территория ДНР и ЛНР</td>\n      <td>6</td>\n    </tr>\n    <tr>\n      <th>57637</th>\n      <td>«АвтоВАЗ» сделает ограниченную партию Lada Largus из накопленных на складах запчастей</td>\n      <td>7</td>\n    </tr>\n    <tr>\n      <th>23513</th>\n      <td>АвтоВАЗ выпустит 1800 Lada Largus из накопленных на складах компонентов</td>\n      <td>7</td>\n    </tr>\n  </tbody>\n</table>\n</div>"
     },
     "execution_count": 58,
     "metadata": {},
     "output_type": "execute_result"
    }
   ],
   "source": [
    "show_clusters(labels_QTClustering)[1].tail(20)"
   ],
   "metadata": {
    "collapsed": false,
    "pycharm": {
     "name": "#%%\n"
    }
   }
  },
  {
   "cell_type": "markdown",
   "source": [
    "### Для бота выбираем агломеративную кластеризацию"
   ],
   "metadata": {
    "collapsed": false,
    "pycharm": {
     "name": "#%% md\n"
    }
   }
  },
  {
   "cell_type": "code",
   "execution_count": 67,
   "outputs": [],
   "source": [
    "def show_date(date):\n",
    "    \"\"\"Визуализация работы алгоритмов кластеризации: labels -> pandas.df\"\"\"\n",
    "    date_df, day_news_list, embeddings = date_news(date)\n",
    "    clast_model = AgglomerativeClustering(n_clusters=None, affinity='cosine', linkage='complete',\n",
    "                                        distance_threshold=0.3)\n",
    "    labels = clast_model.fit_predict(list(embeddings))\n",
    "    date_df['label'] = labels\n",
    "    date_df['count'] = date_df.groupby('label')['label'].transform('count')\n",
    "    date_df = date_df.sort_values(by=['count', 'label'], ascending=[False, True])\n",
    "    date_df.drop('count', axis=1, inplace=True)\n",
    "    return date_df"
   ],
   "metadata": {
    "collapsed": false,
    "pycharm": {
     "name": "#%%\n"
    }
   }
  },
  {
   "cell_type": "code",
   "execution_count": 68,
   "outputs": [
    {
     "data": {
      "text/plain": "                     date                                                                                  title                                                                                                               short_news                                                                                                               first_link                                                                                                                 raw_news    category  \\\n35687 2022-07-20 12:41:14                                     «АвтоВАЗ» выпустит ограниченную партию Lada Largus  «АвтоВАЗ» выпустит ограниченную партию Lada Largus — не менее 1800 машин, их начнут собирать до конца июля. Автомоби...                                                                                                   vc.ru/transport/466225  «АвтоВАЗ» выпустит ограниченную партию Lada Largus — не менее 1800 машин, их начнут собирать до конца июля.  Автомоб...  technology   \n57637 2022-07-20 12:29:08  «АвтоВАЗ» сделает ограниченную партию Lada Largus из накопленных на складах запчастей  «АвтоВАЗ» сделает ограниченную партию Lada Largus из накопленных на складах запчастей. Компания запланировала выпуст...                                                                                          https://tjournal.ru/news/684880  «АвтоВАЗ» сделает ограниченную партию Lada Largus из накопленных на складах запчастей.  Компания запланировала выпус...  technology   \n64965 2022-07-20 11:10:48                                     «АвтоВАЗ» выпустит ограниченную партию Lada Largus  «АвтоВАЗ» выпустит ограниченную партию Lada Largus — из скопившихся на складах запчастей. Ранее компания возобновила...  https://meduza.io/news/2022/07/20/avtovaz-vypustit-ogranichennuyu-partiyu-lada-largus-iz-skopivshihsya-na-skladah-za...  «АвтоВАЗ» выпустит ограниченную партию Lada Largus — из скопившихся на складах запчастей  \\n  В течение почти всего ...  technology   \n23513 2022-07-20 11:05:00                АвтоВАЗ выпустит 1800 Lada Largus из накопленных на складах компонентов  «АвтоВАЗ» выпустит 1800 Lada Largus из накопленных на складах компонентов из-за нехватки комплектующих. К концу лета...                                                                                                    http://vdmsti.ru/gEOn  «АвтоВАЗ» выпустит 1800 Lada Largus из накопленных на складах компонентов, сообщила пресс-служба компании.   В мае п...  technology   \n35701 2022-07-20 19:45:23       ЦБ предложил запретить неквалифицированным инвесторам покупать иностранные акции  В преддверии выборов в Госдуму ЦБ предлагает запретить неквалифицированным инвесторам покупать иностранные акции «ус...                                                                                                     vc.ru/finance/466661  Предложение ЦБ запретить неквалифицированным инвесторам покупать иностранные акции «усилит недоверие частных инвесто...     economy   \n...                   ...                                                                                    ...                                                                                                                      ...                                                                                                                      ...                                                                                                                      ...         ...   \n4983  2022-07-20 20:13:29                                      Google приостановит прием на работу на две недели  Google приостановит прием на работу на две недели, не затрагивая уже сделанные предложения. И это после того как на ...                                                    https://www.theinformation.com/articles/google-announces-hiring-pause  Google приостановит прием на работу на две недели, не затрагивая уже сделанные предложения. И это после того как на ...     society   \n19067 2022-07-20 18:00:21           ЦБ запретил торговлю иностранными акциями для неквалифицированных инвесторов  ЦБ запретил торговлю иностранными акциями для неквалифицированных инвесторов. Продавать акции и закрывать короткие п...                                                                                https://cbr.ru/Crosscut/LawActs/File/5955  Запрет на торговлю иностранными акциями для неквалифицированных инвесторов еще не заработал, но ЦБ уже действует: в ...     society   \n15006 2022-07-20 19:02:19            Россияне не осознают того, что нам грозит в условиях усиливающейся изоляции  На фоне нарастающих проблем и углубляющегося спада экономики близкий к рекордному оптимизму россиян выглядит иррацио...                                                          https://cbr.ru/Collection/Collection/File/42183/inFOM_22-07.pdf  ПОТРЕБИТЕЛЬСКИЕ НАСТРОЕНИЯ: ОПТИМИЗМ УСИЛИВАЕТСЯ  Опрос населения инФОМ, проводившийся с 29 июня по 8 июля, зафиксир...     economy   \n35699 2022-07-20 18:35:29                              МТС купила разработчика сервисов для видеозвонков Webinar  МТС купила разработчика сервисов для видеозвонков Webinar. Сумма сделки могла составить 2 млрд рублей. На её базе МТ...                                                                                                    vc.ru/services/466573  МТС купил разработчика сервисов для видеозвонков Webinar. Сумма сделки могла составить 2 млрд рублей.   По собственн...  technology   \n65029 2022-07-20 20:48:45           В Пентагоне заявили, что США и союзники передадут Украине 20 ракетных систем  В Пентагоне заявили, что США и союзники передадут Украине 20 ракетных систем HIMARS. По словам генерала Марка Милли,...                                                           https://twitter.com/CaitlinDoornbos/status/1549800752801005569  В Пентагоне заявили, что США и союзники передадут Украине 20 ракетных систем HIMARS  \\n  Глава объединенного комитет...     society   \n\n             agency  label  \n35687        vcnews      4  \n57637      TJournal      4  \n64965    meduzalive      4  \n23513     vedomosti      4  \n35701        vcnews     40  \n...             ...    ...  \n4983        addmeto    128  \n19067    thebell_io    129  \n15006  russianmacro    130  \n35699        vcnews    131  \n65029    meduzalive    132  \n\n[165 rows x 8 columns]",
      "text/html": "<div>\n<style scoped>\n    .dataframe tbody tr th:only-of-type {\n        vertical-align: middle;\n    }\n\n    .dataframe tbody tr th {\n        vertical-align: top;\n    }\n\n    .dataframe thead th {\n        text-align: right;\n    }\n</style>\n<table border=\"1\" class=\"dataframe\">\n  <thead>\n    <tr style=\"text-align: right;\">\n      <th></th>\n      <th>date</th>\n      <th>title</th>\n      <th>short_news</th>\n      <th>first_link</th>\n      <th>raw_news</th>\n      <th>category</th>\n      <th>agency</th>\n      <th>label</th>\n    </tr>\n  </thead>\n  <tbody>\n    <tr>\n      <th>35687</th>\n      <td>2022-07-20 12:41:14</td>\n      <td>«АвтоВАЗ» выпустит ограниченную партию Lada Largus</td>\n      <td>«АвтоВАЗ» выпустит ограниченную партию Lada Largus — не менее 1800 машин, их начнут собирать до конца июля. Автомоби...</td>\n      <td>vc.ru/transport/466225</td>\n      <td>«АвтоВАЗ» выпустит ограниченную партию Lada Largus — не менее 1800 машин, их начнут собирать до конца июля.  Автомоб...</td>\n      <td>technology</td>\n      <td>vcnews</td>\n      <td>4</td>\n    </tr>\n    <tr>\n      <th>57637</th>\n      <td>2022-07-20 12:29:08</td>\n      <td>«АвтоВАЗ» сделает ограниченную партию Lada Largus из накопленных на складах запчастей</td>\n      <td>«АвтоВАЗ» сделает ограниченную партию Lada Largus из накопленных на складах запчастей. Компания запланировала выпуст...</td>\n      <td>https://tjournal.ru/news/684880</td>\n      <td>«АвтоВАЗ» сделает ограниченную партию Lada Largus из накопленных на складах запчастей.  Компания запланировала выпус...</td>\n      <td>technology</td>\n      <td>TJournal</td>\n      <td>4</td>\n    </tr>\n    <tr>\n      <th>64965</th>\n      <td>2022-07-20 11:10:48</td>\n      <td>«АвтоВАЗ» выпустит ограниченную партию Lada Largus</td>\n      <td>«АвтоВАЗ» выпустит ограниченную партию Lada Largus — из скопившихся на складах запчастей. Ранее компания возобновила...</td>\n      <td>https://meduza.io/news/2022/07/20/avtovaz-vypustit-ogranichennuyu-partiyu-lada-largus-iz-skopivshihsya-na-skladah-za...</td>\n      <td>«АвтоВАЗ» выпустит ограниченную партию Lada Largus — из скопившихся на складах запчастей  \\n  В течение почти всего ...</td>\n      <td>technology</td>\n      <td>meduzalive</td>\n      <td>4</td>\n    </tr>\n    <tr>\n      <th>23513</th>\n      <td>2022-07-20 11:05:00</td>\n      <td>АвтоВАЗ выпустит 1800 Lada Largus из накопленных на складах компонентов</td>\n      <td>«АвтоВАЗ» выпустит 1800 Lada Largus из накопленных на складах компонентов из-за нехватки комплектующих. К концу лета...</td>\n      <td>http://vdmsti.ru/gEOn</td>\n      <td>«АвтоВАЗ» выпустит 1800 Lada Largus из накопленных на складах компонентов, сообщила пресс-служба компании.   В мае п...</td>\n      <td>technology</td>\n      <td>vedomosti</td>\n      <td>4</td>\n    </tr>\n    <tr>\n      <th>35701</th>\n      <td>2022-07-20 19:45:23</td>\n      <td>ЦБ предложил запретить неквалифицированным инвесторам покупать иностранные акции</td>\n      <td>В преддверии выборов в Госдуму ЦБ предлагает запретить неквалифицированным инвесторам покупать иностранные акции «ус...</td>\n      <td>vc.ru/finance/466661</td>\n      <td>Предложение ЦБ запретить неквалифицированным инвесторам покупать иностранные акции «усилит недоверие частных инвесто...</td>\n      <td>economy</td>\n      <td>vcnews</td>\n      <td>40</td>\n    </tr>\n    <tr>\n      <th>...</th>\n      <td>...</td>\n      <td>...</td>\n      <td>...</td>\n      <td>...</td>\n      <td>...</td>\n      <td>...</td>\n      <td>...</td>\n      <td>...</td>\n    </tr>\n    <tr>\n      <th>4983</th>\n      <td>2022-07-20 20:13:29</td>\n      <td>Google приостановит прием на работу на две недели</td>\n      <td>Google приостановит прием на работу на две недели, не затрагивая уже сделанные предложения. И это после того как на ...</td>\n      <td>https://www.theinformation.com/articles/google-announces-hiring-pause</td>\n      <td>Google приостановит прием на работу на две недели, не затрагивая уже сделанные предложения. И это после того как на ...</td>\n      <td>society</td>\n      <td>addmeto</td>\n      <td>128</td>\n    </tr>\n    <tr>\n      <th>19067</th>\n      <td>2022-07-20 18:00:21</td>\n      <td>ЦБ запретил торговлю иностранными акциями для неквалифицированных инвесторов</td>\n      <td>ЦБ запретил торговлю иностранными акциями для неквалифицированных инвесторов. Продавать акции и закрывать короткие п...</td>\n      <td>https://cbr.ru/Crosscut/LawActs/File/5955</td>\n      <td>Запрет на торговлю иностранными акциями для неквалифицированных инвесторов еще не заработал, но ЦБ уже действует: в ...</td>\n      <td>society</td>\n      <td>thebell_io</td>\n      <td>129</td>\n    </tr>\n    <tr>\n      <th>15006</th>\n      <td>2022-07-20 19:02:19</td>\n      <td>Россияне не осознают того, что нам грозит в условиях усиливающейся изоляции</td>\n      <td>На фоне нарастающих проблем и углубляющегося спада экономики близкий к рекордному оптимизму россиян выглядит иррацио...</td>\n      <td>https://cbr.ru/Collection/Collection/File/42183/inFOM_22-07.pdf</td>\n      <td>ПОТРЕБИТЕЛЬСКИЕ НАСТРОЕНИЯ: ОПТИМИЗМ УСИЛИВАЕТСЯ  Опрос населения инФОМ, проводившийся с 29 июня по 8 июля, зафиксир...</td>\n      <td>economy</td>\n      <td>russianmacro</td>\n      <td>130</td>\n    </tr>\n    <tr>\n      <th>35699</th>\n      <td>2022-07-20 18:35:29</td>\n      <td>МТС купила разработчика сервисов для видеозвонков Webinar</td>\n      <td>МТС купила разработчика сервисов для видеозвонков Webinar. Сумма сделки могла составить 2 млрд рублей. На её базе МТ...</td>\n      <td>vc.ru/services/466573</td>\n      <td>МТС купил разработчика сервисов для видеозвонков Webinar. Сумма сделки могла составить 2 млрд рублей.   По собственн...</td>\n      <td>technology</td>\n      <td>vcnews</td>\n      <td>131</td>\n    </tr>\n    <tr>\n      <th>65029</th>\n      <td>2022-07-20 20:48:45</td>\n      <td>В Пентагоне заявили, что США и союзники передадут Украине 20 ракетных систем</td>\n      <td>В Пентагоне заявили, что США и союзники передадут Украине 20 ракетных систем HIMARS. По словам генерала Марка Милли,...</td>\n      <td>https://twitter.com/CaitlinDoornbos/status/1549800752801005569</td>\n      <td>В Пентагоне заявили, что США и союзники передадут Украине 20 ракетных систем HIMARS  \\n  Глава объединенного комитет...</td>\n      <td>society</td>\n      <td>meduzalive</td>\n      <td>132</td>\n    </tr>\n  </tbody>\n</table>\n<p>165 rows × 8 columns</p>\n</div>"
     },
     "execution_count": 68,
     "metadata": {},
     "output_type": "execute_result"
    }
   ],
   "source": [
    "show_date('2022-07-20')"
   ],
   "metadata": {
    "collapsed": false,
    "pycharm": {
     "name": "#%%\n"
    }
   }
  },
  {
   "cell_type": "code",
   "execution_count": 69,
   "outputs": [],
   "source": [
    "final_df = show_date('2022-07-20')"
   ],
   "metadata": {
    "collapsed": false,
    "pycharm": {
     "name": "#%%\n"
    }
   }
  },
  {
   "cell_type": "code",
   "execution_count": 70,
   "outputs": [],
   "source": [
    "final_df.to_excel('2022-07-20.xlsx')"
   ],
   "metadata": {
    "collapsed": false,
    "pycharm": {
     "name": "#%%\n"
    }
   }
  },
  {
   "cell_type": "code",
   "execution_count": 71,
   "outputs": [
    {
     "data": {
      "text/plain": "society          83\neconomy          44\nsports           16\ntechnology       12\nentertainment     7\nscience           3\nName: category, dtype: int64"
     },
     "execution_count": 71,
     "metadata": {},
     "output_type": "execute_result"
    }
   ],
   "source": [
    "final_df.category.value_counts()"
   ],
   "metadata": {
    "collapsed": false,
    "pycharm": {
     "name": "#%%\n"
    }
   }
  },
  {
   "cell_type": "code",
   "execution_count": 72,
   "outputs": [
    {
     "data": {
      "text/plain": "meduzalive      37\nvedomosti       31\nvcnews          18\nTJournal        17\nthebell_io      17\nrbc_sport       15\nrussianmacro     8\nmeduzapro        7\nrozetked         5\nVwordMedia       5\nnplusone         3\naddmeto          1\nohmypain         1\nName: agency, dtype: int64"
     },
     "execution_count": 72,
     "metadata": {},
     "output_type": "execute_result"
    }
   ],
   "source": [
    "final_df.agency.value_counts()"
   ],
   "metadata": {
    "collapsed": false,
    "pycharm": {
     "name": "#%%\n"
    }
   }
  }
 ],
 "metadata": {
  "kernelspec": {
   "display_name": "Python 3",
   "language": "python",
   "name": "python3"
  },
  "language_info": {
   "codemirror_mode": {
    "name": "ipython",
    "version": 2
   },
   "file_extension": ".py",
   "mimetype": "text/x-python",
   "name": "python",
   "nbconvert_exporter": "python",
   "pygments_lexer": "ipython2",
   "version": "2.7.6"
  }
 },
 "nbformat": 4,
 "nbformat_minor": 0
}