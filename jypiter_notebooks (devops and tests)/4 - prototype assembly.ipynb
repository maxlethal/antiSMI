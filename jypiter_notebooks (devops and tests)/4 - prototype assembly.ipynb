{
 "cells": [
  {
   "cell_type": "code",
   "execution_count": 354,
   "metadata": {
    "pycharm": {
     "name": "#%%\n"
    }
   },
   "outputs": [
    {
     "name": "stdout",
     "output_type": "stream",
     "text": [
      "Collecting schedule\n",
      "  Downloading schedule-1.1.0-py2.py3-none-any.whl (10 kB)\n",
      "Installing collected packages: schedule\n",
      "Successfully installed schedule-1.1.0\n"
     ]
    }
   ],
   "source": [
    "!pip install schedule"
   ]
  },
  {
   "cell_type": "code",
   "execution_count": 380,
   "metadata": {
    "pycharm": {
     "name": "#%%\n"
    }
   },
   "outputs": [],
   "source": [
    "import pandas as pd\n",
    "# import timeit\n",
    "import schedule    \n",
    "import time\n",
    "from datetime import datetime\n",
    "\n",
    "import requests\n",
    "from bs4 import BeautifulSoup\n",
    "\n",
    "import fasttext\n",
    "from transformers import AutoTokenizer, AutoModelForSeq2SeqLM\n",
    "from transformers import T5ForConditionalGeneration"
   ]
  },
  {
   "cell_type": "code",
   "execution_count": 58,
   "metadata": {
    "pycharm": {
     "name": "#%%\n"
    }
   },
   "outputs": [
    {
     "name": "stderr",
     "output_type": "stream",
     "text": [
      "Warning : `load_model` does not return WordVectorModel or SupervisedModel any more, but a `FastText` object which is very similar.\n"
     ]
    }
   ],
   "source": [
    "model_class = fasttext.load_model(\"classification/ru_cat_v6.ftz\")"
   ]
  },
  {
   "cell_type": "code",
   "execution_count": 2,
   "metadata": {
    "pycharm": {
     "name": "#%%\n"
    }
   },
   "outputs": [],
   "source": [
    "tokenizer_resume = AutoTokenizer.from_pretrained(\"IlyaGusev/mbart_ru_sum_gazeta\")\n",
    "model_resume = AutoModelForSeq2SeqLM.from_pretrained(\"IlyaGusev/mbart_ru_sum_gazeta\")\n",
    "\n",
    "tokenizer_title = AutoTokenizer.from_pretrained(\"IlyaGusev/rut5_base_headline_gen_telegram\")\n",
    "model_title = T5ForConditionalGeneration.from_pretrained(\"IlyaGusev/rut5_base_headline_gen_telegram\")"
   ]
  },
  {
   "cell_type": "code",
   "execution_count": 7,
   "metadata": {
    "pycharm": {
     "name": "#%%\n"
    }
   },
   "outputs": [],
   "source": [
    "black_label = 'ДАННОЕ СООБЩЕНИЕ (МАТЕРИАЛ) СОЗДАНО И (ИЛИ) РАСПРОСТРАНЕНО ИНОСТРАННЫМ СРЕДСТВОМ МАССОВОЙ ИНФОРМАЦИИ, ВЫПОЛНЯЮЩИМ ФУНКЦИИ ИНОСТРАННОГО АГЕНТА, И (ИЛИ) РОССИЙСКИМ ЮРИДИЧЕСКИМ ЛИЦОМ, ВЫПОЛНЯЮЩИМ ФУНКЦИИ ИНОСТРАННОГО АГЕНТА'"
   ]
  },
  {
   "cell_type": "code",
   "execution_count": 11,
   "metadata": {
    "pycharm": {
     "name": "#%%\n"
    }
   },
   "outputs": [],
   "source": [
    "def article2summary(article_text):\n",
    "    \"\"\"Делает краткое саммари из новости\"\"\"\n",
    "    input_ids = tokenizer_resume(\n",
    "    [article_text],\n",
    "    max_length=600,\n",
    "    truncation=True,\n",
    "    return_tensors=\"pt\")[\"input_ids\"]\n",
    "    \n",
    "    output_ids = model_resume.generate(\n",
    "    input_ids=input_ids,\n",
    "    no_repeat_ngram_size=4)[0]\n",
    "    \n",
    "    summary = tokenizer_resume.decode(output_ids, skip_special_tokens=True)\n",
    "    \n",
    "    return summary  "
   ]
  },
  {
   "cell_type": "code",
   "execution_count": 4,
   "metadata": {
    "pycharm": {
     "name": "#%%\n"
    }
   },
   "outputs": [],
   "source": [
    "def summary2title(summary):\n",
    "    \"\"\"Делает заголовок из краткой новости\"\"\"\n",
    "    \n",
    "    input_ids = tokenizer_title(\n",
    "    [summary],\n",
    "    max_length=600,\n",
    "    add_special_tokens=True,\n",
    "    padding=\"max_length\",\n",
    "    truncation=True,\n",
    "    return_tensors=\"pt\")[\"input_ids\"]\n",
    "\n",
    "    output_ids = model_title.generate(\n",
    "    input_ids=input_ids)[0]\n",
    "    \n",
    "    title = tokenizer_title.decode(output_ids, skip_special_tokens=True)\n",
    "    \n",
    "    return title"
   ]
  },
  {
   "cell_type": "code",
   "execution_count": 384,
   "metadata": {
    "pycharm": {
     "name": "#%%\n"
    }
   },
   "outputs": [],
   "source": [
    "def make_clean_text(article, date):\n",
    "    soup = BeautifulSoup(article)\n",
    "    \n",
    "    first_a = soup.find('a')\n",
    "    try:\n",
    "        first_link = first_a.get('href')\n",
    "    except AttributeError:\n",
    "        first_link = 'NaN'\n",
    "    \n",
    "    text = soup.get_text()\n",
    "    text = text.replace(\"\\xa0\", ' ').replace(\"\\n\", ' ')\n",
    "    text = text.replace(black_label, '\\n')\n",
    "    short_news = article2summary(text)\n",
    "    title = summary2title(short_news)\n",
    "    \n",
    "    return {'date': date, 'title': title, 'short_news': short_news, 'first_link': first_link, 'raw_news': text}"
   ]
  },
  {
   "cell_type": "code",
   "execution_count": 604,
   "metadata": {
    "pycharm": {
     "name": "#%%\n"
    }
   },
   "outputs": [],
   "source": [
    "def make_articles_dict(channel_name):\n",
    "    answer = requests.get('https://tg.i-c-a.su/json/' + channel_name)\n",
    "    data = answer.json()\n",
    "    messages = data['messages']\n",
    "    \n",
    "    temp_df = pd.read_pickle('table_news.pkl')\n",
    "    start_id = temp_df.index[temp_df['agency'] == channel_name][0]  # вытаскиваем самую последнюю статью данного медиа из БД\n",
    "    del(temp_df)\n",
    "    \n",
    "    # выбираем только те статьи, которые старше последней\n",
    "    id_articles = [(el, messages[el]['id']) for el in range(len(messages)) if messages[el]['id'] > start_id]\n",
    "    \n",
    "    draft_articles = [make_clean_text(messages[el[0]]['message'], messages[el[0]]['date']) for el in id_articles]\n",
    "    articles_dict = {el[1]: draft_articles[el[0]] for el in id_articles}\n",
    "    \n",
    "    # Удаляем пустые статьи для новостей, которые не содержали текст\n",
    "    empty_keys = [k for k,v in articles_dict.items() if not v['raw_news']]\n",
    "    for k in empty_keys:\n",
    "        del articles_dict[k]\n",
    "    \n",
    "    return articles_dict"
   ]
  },
  {
   "cell_type": "code",
   "execution_count": 586,
   "metadata": {
    "scrolled": true,
    "pycharm": {
     "name": "#%%\n"
    }
   },
   "outputs": [
    {
     "data": {
      "text/plain": [
       "{'_': 'messages.channelMessages',\n",
       " 'flags': 0,\n",
       " 'inexact': False,\n",
       " 'pts': 157510,\n",
       " 'count': 62771,\n",
       " 'messages': [{'_': 'message',\n",
       "   'flags': 18048,\n",
       "   'out': False,\n",
       "   'mentioned': False,\n",
       "   'media_unread': False,\n",
       "   'silent': False,\n",
       "   'post': True,\n",
       "   'from_scheduled': False,\n",
       "   'legacy': False,\n",
       "   'edit_hide': False,\n",
       "   'pinned': False,\n",
       "   'noforwards': False,\n",
       "   'id': 63485,\n",
       "   'peer_id': {'_': 'peerChannel', 'channel_id': 1036240821},\n",
       "   'date': 1656669267,\n",
       "   'message': '<strong>Утренний брифинг Минобороны РФ<br />\\n</strong><br />\\nДАННОЕ С<a href=\"https://t.me/tass_agency/144718\" target=\"_blank\" rel=\"nofollow\">ООБЩЕНИ</a>Е (МАТЕРИАЛ) СОЗДАНО\\xa0И (ИЛИ) РАСПРОСТРАНЕНО ИНОСТРАННЫМ СРЕДСТВОМ МАССОВОЙ ИНФОРМАЦИИ, ВЫПОЛНЯЮЩИМ ФУНКЦИИ ИНОСТРАННОГО АГЕНТА, И\\xa0(ИЛИ) РОССИЙСКИМ ЮРИДИЧЕСКИМ ЛИЦОМ, ВЫПОЛНЯЮЩИМ ФУНКЦИИ ИНОСТРАННОГО АГЕНТА<br />\\n<br />\\n➤ВС РФ родолжают успешное наступление в\\xa0районе Лисичанска. За\\xa0прошедшие трое суток взяты под контроль Лисичанский нефтеперерабатывающий завод, шахта Матросская, Желатиновый завод, населенный пункт Тополевка. Союзные силы вышли непосредственно к\\xa0Лисичанску. <br />\\n<br />\\n➤Отмечается неорганизованный отход отдельных подразделений ВСУ из\\xa0Лисичанска. В\\xa0одном из\\xa0батальонов 17-й танковой бригады, действующем в\\xa0ДНР, осталось в\\xa0строю не\\xa0более\\xa020% личного состава от\\xa0штатной численности.<br />\\n<br />\\n➤В отношении командования и\\xa0бойцов 42\\xa0батальона 57\\xa0мотопехотной бригады, оборонявшихся в\\xa0«Горском котле», возбуждены уголовные дела. Военнослужащие задержаны и\\xa0помещены в\\xa0изолятор временного содержания города Краматорска.<br />\\n<br />\\n➤ВКС России за\\xa0сутки уничтожили два пункта управления, пять складов с\\xa0боеприпасами, а\\xa0также нанесли удары по живой силе и\\xa0военной технике ВСУ в\\xa026 районах.<br />\\n<br />\\n➤В\\xa0ходе контрбатарейной борьбы высокоточным оружием ВКС России поражены два взвода реактивных систем залпового огня и\\xa0два артиллерийских взвода, обстреливавших населенные пункты ДНР.<br />\\n<br />\\n➤Оперативно-тактической и\\xa0армейской авиацией, ракетными войсками и\\xa0артиллерией поражены: 32\\xa0пункта управления ВСУ, радиолокационная станция обнаружения воздушных целей, а\\xa0также живая сила и\\xa0военная техника в\\xa0297 районах.<br />\\n<br />\\n➤Средства ПВО сбили ва самолета Су-25 воздушных сил Украины в\\xa0Харьковской области. Также сбито 11\\xa0украинских беспилотных летательных аппаратов. Перехвачено восемь реактивных снарядов системы залпового огня.<br />\\n<br />\\n<i>В условиях войны невозможно проверить информацию, которую распространяют официальные представители сторон конфликта. Относитесь к ней с осторожностью.</i>',\n",
       "   'media': {'_': 'messageMediaWebPage',\n",
       "    'webpage': {'_': 'webPage',\n",
       "     'flags': 527,\n",
       "     'id': 9170793120592208520,\n",
       "     'url': 'https://t.me/tass_agency/144718',\n",
       "     'display_url': 't.me/tass_agency/144718',\n",
       "     'hash': 0,\n",
       "     'type': 'document',\n",
       "     'site_name': 'Telegram',\n",
       "     'title': 'ТАСС',\n",
       "     'description': 'Брифинг официального представителя Министерства обороны РФ Игоря Конашенкова.\\n\\nВидео: Минобороны России',\n",
       "     'document': {'_': 'document',\n",
       "      'flags': 1,\n",
       "      'id': 5330308513191172987,\n",
       "      'access_hash': -3382286217616918572,\n",
       "      'file_reference': {'_': 'bytes',\n",
       "       'bytes': 'AGK+xiB9+lFp4R0UDKkZPbHfgYAq'},\n",
       "      'date': 1656668889,\n",
       "      'mime_type': 'video/mp4',\n",
       "      'size': 25578222,\n",
       "      'thumbs': [{'_': 'photoStrippedSize',\n",
       "        'type': 'i',\n",
       "        'bytes': {'_': 'bytes',\n",
       "         'bytes': 'ARcodlkqzaPu3cdMVE6OgyRx7U6GWOIMZGC5xViJvPHnbOMfXmps81mGZDcBudmetaEciSrmNgw+tShtDz09aKM9s80UxGUrXZGRIOarM5Mv7xhke1FFOasiIybYmR0z8uc0+OV45CInwSKKKyRoTfaLv/np+gooorblRnzM'},\n",
       "        'inflated': {'_': 'bytes',\n",
       "         'bytes': '/9j/4AAQSkZJRgABAQAAAQABAAD/2wBDACgcHiMeGSgjISMtKygwPGRBPDc3PHtYXUlkkYCZlo+AjIqgtObDoKrarYqMyP/L2u71////m8H////6/+b9//j/2wBDASstLTw1PHZBQXb4pYyl+Pj4+Pj4+Pj4+Pj4+Pj4+Pj4+Pj4+Pj4+Pj4+Pj4+Pj4+Pj4+Pj4+Pj4+Pj4+Pj4+Pj/wAARCAAXACgDASIAAhEBAxEB/8QAHwAAAQUBAQEBAQEAAAAAAAAAAAECAwQFBgcICQoL/8QAtRAAAgEDAwIEAwUFBAQAAAF9AQIDAAQRBRIhMUEGE1FhByJxFDKBkaEII0KxwRVS0fAkM2JyggkKFhcYGRolJicoKSo0NTY3ODk6Q0RFRkdISUpTVFVWV1hZWmNkZWZnaGlqc3R1dnd4eXqDhIWGh4iJipKTlJWWl5iZmqKjpKWmp6ipqrKztLW2t7i5usLDxMXGx8jJytLT1NXW19jZ2uHi4+Tl5ufo6erx8vP09fb3+Pn6/8QAHwEAAwEBAQEBAQEBAQAAAAAAAAECAwQFBgcICQoL/8QAtREAAgECBAQDBAcFBAQAAQJ3AAECAxEEBSExBhJBUQdhcRMiMoEIFEKRobHBCSMzUvAVYnLRChYkNOEl8RcYGRomJygpKjU2Nzg5OkNERUZHSElKU1RVVldYWVpjZGVmZ2hpanN0dXZ3eHl6goOEhYaHiImKkpOUlZaXmJmaoqOkpaanqKmqsrO0tba3uLm6wsPExcbHyMnK0tPU1dbX2Nna4uPk5ebn6Onq8vP09fb3+Pn6/9oADAMBAAIRAxEAPwB2WSrNo+7dx0xUTo6DJHHtToZY4gxkYLnFWIm88eds4x9eamzzWYZkNwG52Z61oRyJKuY2DD61KG0PPT1ooz2zzRTEZStdkZEg5qszky/vGGR7UUU5qyIjJtiZHTPy5zT45XjkIifBIoorJGhN9ou/+en6CiiituVGfMz/2Q=='}},\n",
       "       {'_': 'photoSize', 'type': 'm', 'w': 320, 'h': 181, 'size': 11581}],\n",
       "      'dc_id': 2,\n",
       "      'attributes': [{'_': 'documentAttributeVideo',\n",
       "        'flags': 2,\n",
       "        'round_message': False,\n",
       "        'supports_streaming': True,\n",
       "        'duration': 210,\n",
       "        'w': 1274,\n",
       "        'h': 720},\n",
       "       {'_': 'documentAttributeFilename',\n",
       "        'file_name': 'Конашенков_01.07.mp4'}]}}},\n",
       "   'entities': [{'_': 'messageEntityBold', 'offset': 0, 'length': 31},\n",
       "    {'_': 'messageEntityTextUrl',\n",
       "     'offset': 9,\n",
       "     'length': 7,\n",
       "     'url': 'https://t.me/tass_agency/144718'},\n",
       "    {'_': 'messageEntityItalic', 'offset': 1720, 'length': 150}],\n",
       "   'views': 18742,\n",
       "   'forwards': 0},\n",
       "  {'_': 'message',\n",
       "   'flags': 17536,\n",
       "   'out': False,\n",
       "   'mentioned': False,\n",
       "   'media_unread': False,\n",
       "   'silent': False,\n",
       "   'post': True,\n",
       "   'from_scheduled': False,\n",
       "   'legacy': False,\n",
       "   'edit_hide': False,\n",
       "   'pinned': False,\n",
       "   'noforwards': False,\n",
       "   'id': 63484,\n",
       "   'peer_id': {'_': 'peerChannel', 'channel_id': 1036240821},\n",
       "   'date': 1656668052,\n",
       "   'message': '<strong>Спецпредставитель президента по вопросам природоохранной деятельности, экологии и транспорта Сергей Иванов <a href=\"https://www.rbc.ru/business/01/07/2022/62beb14c9a7947680492d3ba\" target=\"_blank\" rel=\"nofollow\">заявил</a>, что запасов дорожной и</strong> <strong>авиационной техники</strong> <strong>в России хватит на «три-четыре года»<br />\\n</strong><br />\\nДАННОЕ СООБЩЕНИЕ (МАТЕРИАЛ) СОЗДАНО И\\xa0(ИЛИ) РАСПРОСТРАНЕНО ИНОСТРАННЫМ СРЕДСТВОМ МАССОВОЙ ИНФОРМАЦИИ, ВЫПОЛНЯЮЩИМ ФУНКЦИИ ИНОСТРАННОГО АГЕНТА, И\\xa0(ИЛИ) РОССИЙСКИМ ЮРИДИЧЕСКИМ ЛИЦОМ, ВЫПОЛНЯЮЩИМ ФУНКЦИИ ИНОСТРАННОГО АГЕНТА<br />\\n<br />\\n«Но уже сейчас надо думать, что будет через три-четыре года», — сказал Иванов на расширенной коллегии Минтранса, сообщает РБК.<br />\\n<br />\\nИз-за санкций, наложенных на Россию в связи с вторжением в Украину, запрещены поставки авиатехники и запчастей к ней. Кроме того, многие международные компании после начала войны ушли с российского рынка.',\n",
       "   'entities': [{'_': 'messageEntityBold', 'offset': 0, 'length': 137},\n",
       "    {'_': 'messageEntityTextUrl',\n",
       "     'offset': 107,\n",
       "     'length': 6,\n",
       "     'url': 'https://www.rbc.ru/business/01/07/2022/62beb14c9a7947680492d3ba'},\n",
       "    {'_': 'messageEntityBold', 'offset': 138, 'length': 19},\n",
       "    {'_': 'messageEntityBold', 'offset': 158, 'length': 37}],\n",
       "   'views': 51942,\n",
       "   'forwards': 35},\n",
       "  {'_': 'message',\n",
       "   'flags': 17536,\n",
       "   'out': False,\n",
       "   'mentioned': False,\n",
       "   'media_unread': False,\n",
       "   'silent': False,\n",
       "   'post': True,\n",
       "   'from_scheduled': False,\n",
       "   'legacy': False,\n",
       "   'edit_hide': False,\n",
       "   'pinned': False,\n",
       "   'noforwards': False,\n",
       "   'id': 63483,\n",
       "   'peer_id': {'_': 'peerChannel', 'channel_id': 1036240821},\n",
       "   'date': 1656667346,\n",
       "   'message': '<strong>Замминистра внутренних дел Украины Евгений Енин сообщил, что, по последним данным, в результате обстрела Одесской области погибли 19 человек<br />\\n</strong><br />\\nДАННОЕ СООБЩЕНИЕ (МАТЕРИАЛ) СОЗДАНО И\\xa0(ИЛИ) РАСПРОСТРАНЕНО ИНОСТРАННЫМ СРЕДСТВОМ МАССОВОЙ ИНФОРМАЦИИ, ВЫПОЛНЯЮЩИМ ФУНКЦИИ ИНОСТРАННОГО АГЕНТА, И\\xa0(ИЛИ) РОССИЙСКИМ ЮРИДИЧЕСКИМ ЛИЦОМ, ВЫПОЛНЯЮЩИМ ФУНКЦИИ ИНОСТРАННОГО АГЕНТА<br />\\n<br />\\n38 человек, в том числе шестеро детей, получили ранения, добавил он. Состояние двоих пострадавших несовершеннолетних, <a href=\"https://t.me/dumskaya_net/40051\" target=\"_blank\" rel=\"nofollow\">цитирует</a> издание «Думская» заявление Енина, врачи оценивают как критическое.',\n",
       "   'entities': [{'_': 'messageEntityBold', 'offset': 0, 'length': 141},\n",
       "    {'_': 'messageEntityTextUrl',\n",
       "     'offset': 482,\n",
       "     'length': 8,\n",
       "     'url': 'https://t.me/dumskaya_net/40051'}],\n",
       "   'views': 64535,\n",
       "   'forwards': 1},\n",
       "  {'_': 'message',\n",
       "   'flags': 17536,\n",
       "   'out': False,\n",
       "   'mentioned': False,\n",
       "   'media_unread': False,\n",
       "   'silent': False,\n",
       "   'post': True,\n",
       "   'from_scheduled': False,\n",
       "   'legacy': False,\n",
       "   'edit_hide': False,\n",
       "   'pinned': False,\n",
       "   'noforwards': False,\n",
       "   'id': 63482,\n",
       "   'peer_id': {'_': 'peerChannel', 'channel_id': 1036240821},\n",
       "   'date': 1656666801,\n",
       "   'message': '<strong>В Верховной Раде выступили глава Еврокомиссии Урсула фон дер Ляйен и президент Украины Владимир Зеленский<br />\\n</strong><br />\\nДАННОЕ СООБЩЕНИЕ (МАТЕРИАЛ) СОЗДАНО И\\xa0(ИЛИ) РАСПРОСТРАНЕНО ИНОСТРАННЫМ СРЕДСТВОМ МАССОВОЙ ИНФОРМАЦИИ, ВЫПОЛНЯЮЩИМ ФУНКЦИИ ИНОСТРАННОГО АГЕНТА, И\\xa0(ИЛИ) РОССИЙСКИМ ЮРИДИЧЕСКИМ ЛИЦОМ, ВЫПОЛНЯЮЩИМ ФУНКЦИИ ИНОСТРАННОГО АГЕНТА<br />\\n<br />\\nИздание «Громадське» со ссылкой на пресс-службы Рады и офиса Зеленского <a href=\"https://hromadske.ua/posts/u-verhovnij-radi-vistupili-prezidentka-yevrokomisiyi-ta-prezident-ukrayini-sho-skazali\" target=\"_blank\" rel=\"nofollow\">пишет</a>, что фон дер Ляйен похвалила работу Украины относительно быстрого подачи заявки на кандидатство в члены ЕС, а также продолжения работы Верховной Рады и сохранения демократии во время войны. Она заверила, что Европа будет поддерживать Украину « столько, сколько нужно».<br />\\n<br />\\n<i>Мы в европейских институтах работаем денно и нощно, чтобы поддержать вас. Но это благодаря вашим усилиям работа сделана. Вы мобилизовали не только ваши институты, но и лучшую энергию вашей страны</i>.<i><br />\\n</i><br />\\nФон дер Ляйен, пишет «Громадське», подчеркнула, что впереди у Украины еще долгий путь: стране предстоят реформы в сфере законодательства. В частности, необходимо будет низить влияние олигархов на экономическую и политическую жизнь, принять законодательство по процедурам отбора судей, а также закон о СМИ, который приведет украинское законодательство в соответствие с действующими стандартами ЕС.<br />\\n<br />\\nВладимир Зеленский в своем выступлении, в частности, заявил, что оглашение про ассоциацию между Украиной и ЕС реализовано на 63%, <a href=\"https://t.me/stranaua/49978\" target=\"_blank\" rel=\"nofollow\">сообщает</a> издание «Страна».',\n",
       "   'entities': [{'_': 'messageEntityBold', 'offset': 0, 'length': 106},\n",
       "    {'_': 'messageEntityTextUrl',\n",
       "     'offset': 401,\n",
       "     'length': 5,\n",
       "     'url': 'https://hromadske.ua/posts/u-verhovnij-radi-vistupili-prezidentka-yevrokomisiyi-ta-prezident-ukrayini-sho-skazali'},\n",
       "    {'_': 'messageEntityItalic', 'offset': 677, 'length': 195},\n",
       "    {'_': 'messageEntityItalic', 'offset': 873, 'length': 1},\n",
       "    {'_': 'messageEntityTextUrl',\n",
       "     'offset': 1403,\n",
       "     'length': 8,\n",
       "     'url': 'https://t.me/stranaua/49978'}],\n",
       "   'views': 72899,\n",
       "   'forwards': 0},\n",
       "  {'_': 'message',\n",
       "   'flags': 18048,\n",
       "   'out': False,\n",
       "   'mentioned': False,\n",
       "   'media_unread': False,\n",
       "   'silent': False,\n",
       "   'post': True,\n",
       "   'from_scheduled': False,\n",
       "   'legacy': False,\n",
       "   'edit_hide': False,\n",
       "   'pinned': False,\n",
       "   'noforwards': False,\n",
       "   'id': 63481,\n",
       "   'peer_id': {'_': 'peerChannel', 'channel_id': 1036240821},\n",
       "   'date': 1656665771,\n",
       "   'message': '<strong>Советник мэра Мариуполя Петр Андрющенко заявил, что в городе обнаружена братская могила<br />\\n</strong><br />\\nДАННОЕ СООБЩЕНИЕ (МАТЕРИАЛ) СОЗДАНО И\\xa0(<a href=\"https://t.me/andriyshTime/1667\" target=\"_blank\" rel=\"nofollow\">ИЛИ) Р</a>АСПРОСТРАНЕНО ИНОСТРАННЫМ СРЕДСТВОМ МАССОВОЙ ИНФОРМАЦИИ, ВЫПОЛНЯЮЩИМ ФУНКЦИИ ИНОСТРАННОГО АГЕНТА, И\\xa0(ИЛИ) РОССИЙСКИМ ЮРИДИЧЕСКИМ ЛИЦОМ, ВЫПОЛНЯЮЩИМ ФУНКЦИИ ИНОСТРАННОГО АГЕНТА<br />\\n<br />\\nПо его словам, могила находится по адресу Киевская улица, 53. С конца февраля в ней были захоронены более 100 человек. «Оккупанты рядом разбирают завалы, опять о перезахоронении речь не идет», — написал Андрющенко. Источник информации о захоронении он уточнять не стал.<br />\\n<br />\\n<i>Во время войны невозможно оперативно проверить информацию, которую распространяют представители сторон конфликта.</i>',\n",
       "   'media': {'_': 'messageMediaWebPage',\n",
       "    'webpage': {'_': 'webPage',\n",
       "     'flags': 1551,\n",
       "     'id': 9170793120826948654,\n",
       "     'url': 'https://t.me/andriyshTime/1667',\n",
       "     'display_url': 't.me/andriyshTime/1667',\n",
       "     'hash': -1099539060,\n",
       "     'type': 'telegram_album',\n",
       "     'site_name': 'Telegram',\n",
       "     'title': 'Андрющенко Time',\n",
       "     'description': 'Маріуполь. На зараз. \\nСумні знахідки щотижня. Нова братська могила під завалами на Лівобережжі. Вул. Київська 53. Знов понад 100 тіл людей з кінця лютого. Окупанти поруч розбирають завали, знов про перепоховання не йдеться. Люди фактично продовжують жити в склепах.\\nЕксгумація. Фактично зупинена. Окупаційна влада настільки захопилась створенням картинки відновлення, що до перепоховань руки не дійшли. Тимчасові вуличні могили потрохи перетворюються в постійні. Центральний район. Вул. Котляревского 8-а в двох кроках від «гуманітарного штабу» могили з квітня. Досі. 👇',\n",
       "     'document': {'_': 'document',\n",
       "      'flags': 1,\n",
       "      'id': 5328052199366858427,\n",
       "      'access_hash': 1936901608145264979,\n",
       "      'file_reference': {'_': 'bytes',\n",
       "       'bytes': 'AGK+xiAdn/NeJ/PrvN2fW5RrmU76'},\n",
       "      'date': 1656657558,\n",
       "      'mime_type': 'video/mp4',\n",
       "      'size': 29374145,\n",
       "      'thumbs': [{'_': 'photoStrippedSize',\n",
       "        'type': 'i',\n",
       "        'bytes': {'_': 'bytes',\n",
       "         'bytes': 'ARYoijVdoI70+PGAWZRzzk81BA2SUH4VbhjUkjYGZRUjRXyjsSCyt/Cc9KtxSpJHiQe2SOtV0EZlKSqwYnjmpWCxzBELDcOD1H40DIXdELBSGHbjrRTHQSvyu0+uetFADw6o2fLQnscdKVZ2Dknr0yPSiigBdu75mO5umTTix6ZNFFIYCiiigD8='},\n",
       "        'inflated': {'_': 'bytes',\n",
       "         'bytes': '/9j/4AAQSkZJRgABAQAAAQABAAD/2wBDACgcHiMeGSgjISMtKygwPGRBPDc3PHtYXUlkkYCZlo+AjIqgtObDoKrarYqMyP/L2u71////m8H////6/+b9//j/2wBDASstLTw1PHZBQXb4pYyl+Pj4+Pj4+Pj4+Pj4+Pj4+Pj4+Pj4+Pj4+Pj4+Pj4+Pj4+Pj4+Pj4+Pj4+Pj4+Pj4+Pj/wAARCAAWACgDASIAAhEBAxEB/8QAHwAAAQUBAQEBAQEAAAAAAAAAAAECAwQFBgcICQoL/8QAtRAAAgEDAwIEAwUFBAQAAAF9AQIDAAQRBRIhMUEGE1FhByJxFDKBkaEII0KxwRVS0fAkM2JyggkKFhcYGRolJicoKSo0NTY3ODk6Q0RFRkdISUpTVFVWV1hZWmNkZWZnaGlqc3R1dnd4eXqDhIWGh4iJipKTlJWWl5iZmqKjpKWmp6ipqrKztLW2t7i5usLDxMXGx8jJytLT1NXW19jZ2uHi4+Tl5ufo6erx8vP09fb3+Pn6/8QAHwEAAwEBAQEBAQEBAQAAAAAAAAECAwQFBgcICQoL/8QAtREAAgECBAQDBAcFBAQAAQJ3AAECAxEEBSExBhJBUQdhcRMiMoEIFEKRobHBCSMzUvAVYnLRChYkNOEl8RcYGRomJygpKjU2Nzg5OkNERUZHSElKU1RVVldYWVpjZGVmZ2hpanN0dXZ3eHl6goOEhYaHiImKkpOUlZaXmJmaoqOkpaanqKmqsrO0tba3uLm6wsPExcbHyMnK0tPU1dbX2Nna4uPk5ebn6Onq8vP09fb3+Pn6/9oADAMBAAIRAxEAPwCKNV2gjvT48YBZlHPOTzUEDZJQfhVuGNSSNgZlFSNFfKOxILK38Jz0q3FKkkeJB7ZI61XQRmUpKrBieOalYLHMEQsNw4PUfjQMhd0QsFIYduOtFMdBK/K7T6560UAPDqjZ8tCexx0pVnYOSevTI9KKKAF27vmY7m6ZNOLHpk0UUhgKKKKAP//Z'}},\n",
       "       {'_': 'photoSize', 'type': 'm', 'w': 320, 'h': 180, 'size': 10831}],\n",
       "      'dc_id': 2,\n",
       "      'attributes': [{'_': 'documentAttributeVideo',\n",
       "        'flags': 2,\n",
       "        'round_message': False,\n",
       "        'supports_streaming': True,\n",
       "        'duration': 23,\n",
       "        'w': 1280,\n",
       "        'h': 720},\n",
       "       {'_': 'documentAttributeFilename',\n",
       "        'file_name': 'Могильник - HD 720p.mp4'}]},\n",
       "     'cached_page': {'_': 'page',\n",
       "      'flags': 0,\n",
       "      'part': False,\n",
       "      'rtl': False,\n",
       "      'v2': False,\n",
       "      'url': 'https://t.me/andriyshTime/1667',\n",
       "      'blocks': [{'_': 'pageBlockTitle',\n",
       "        'text': {'_': 'textPlain', 'text': 'Андрющенко Time'}},\n",
       "       {'_': 'pageBlockAuthorDate',\n",
       "        'author': {'_': 'textPlain', 'text': '@andriyshTime'},\n",
       "        'published_date': 1656658225},\n",
       "       {'_': 'pageBlockCollage',\n",
       "        'items': [{'_': 'pageBlockVideo',\n",
       "          'flags': 0,\n",
       "          'autoplay': False,\n",
       "          'loop': False,\n",
       "          'video_id': 5328052199366858427,\n",
       "          'caption': {'_': 'pageCaption',\n",
       "           'text': {'_': 'textEmpty'},\n",
       "           'credit': {'_': 'textEmpty'}}},\n",
       "         {'_': 'pageBlockPhoto',\n",
       "          'flags': 0,\n",
       "          'photo_id': 5328052199823096458,\n",
       "          'caption': {'_': 'pageCaption',\n",
       "           'text': {'_': 'textEmpty'},\n",
       "           'credit': {'_': 'textEmpty'}}},\n",
       "         {'_': 'pageBlockPhoto',\n",
       "          'flags': 0,\n",
       "          'photo_id': 5328052199823096459,\n",
       "          'caption': {'_': 'pageCaption',\n",
       "           'text': {'_': 'textEmpty'},\n",
       "           'credit': {'_': 'textEmpty'}}}],\n",
       "        'caption': {'_': 'pageCaption',\n",
       "         'text': {'_': 'textPlain',\n",
       "          'text': 'Маріуполь. На зараз. \\nСумні знахідки щотижня. Нова братська могила під завалами на Лівобережжі. Вул. Київська 53. Знов понад 100 тіл людей з кінця лютого. Окупанти поруч розбирають завали, знов про перепоховання не йдеться. Люди фактично продовжують жити в склепах.\\nЕксгумація. Фактично зупинена. Окупаційна влада настільки захопилась створенням картинки відновлення, що до перепоховань руки не дійшли. Тимчасові вуличні могили потрохи перетворюються в постійні. Центральний район. Вул. Котляревского 8-а в двох кроках від «гуманітарного штабу» могили з квітня. Досі. 👇'},\n",
       "         'credit': {'_': 'textEmpty'}}}],\n",
       "      'photos': [{'_': 'photo',\n",
       "        'flags': 0,\n",
       "        'has_stickers': False,\n",
       "        'id': 5328052199823096458,\n",
       "        'access_hash': -5019409991380264578,\n",
       "        'file_reference': {'_': 'bytes',\n",
       "         'bytes': 'AGK+xiDFX5bqDIBehoxY/aEw8HSW'},\n",
       "        'date': 1656657559,\n",
       "        'sizes': [{'_': 'photoStrippedSize',\n",
       "          'type': 'i',\n",
       "          'bytes': {'_': 'bytes',\n",
       "           'bytes': 'ASggZtcSBQoMYOGqSYtA+FPHHX6H/CrLlRGXxkewqpLKswJCEnHvx+nvU2GRSXEjkxlsqSoH49aFQuBsbDenqM1LHa+YiuRtIII/CmvbyxDcW+X1oEW43Cn7+T3pu5HBLLg59KrLJjvTt4PJbn0ouFydWQc4GfbiklnwgCgYz35qJcMQMdaBFs+UnPU5/GldgM2CgRjOaKKi4h4UelLwBRRQBw=='},\n",
       "          'inflated': {'_': 'bytes',\n",
       "           'bytes': '/9j/4AAQSkZJRgABAQAAAQABAAD/2wBDACgcHiMeGSgjISMtKygwPGRBPDc3PHtYXUlkkYCZlo+AjIqgtObDoKrarYqMyP/L2u71////m8H////6/+b9//j/2wBDASstLTw1PHZBQXb4pYyl+Pj4+Pj4+Pj4+Pj4+Pj4+Pj4+Pj4+Pj4+Pj4+Pj4+Pj4+Pj4+Pj4+Pj4+Pj4+Pj4+Pj/wAARCAAoACADASIAAhEBAxEB/8QAHwAAAQUBAQEBAQEAAAAAAAAAAAECAwQFBgcICQoL/8QAtRAAAgEDAwIEAwUFBAQAAAF9AQIDAAQRBRIhMUEGE1FhByJxFDKBkaEII0KxwRVS0fAkM2JyggkKFhcYGRolJicoKSo0NTY3ODk6Q0RFRkdISUpTVFVWV1hZWmNkZWZnaGlqc3R1dnd4eXqDhIWGh4iJipKTlJWWl5iZmqKjpKWmp6ipqrKztLW2t7i5usLDxMXGx8jJytLT1NXW19jZ2uHi4+Tl5ufo6erx8vP09fb3+Pn6/8QAHwEAAwEBAQEBAQEBAQAAAAAAAAECAwQFBgcICQoL/8QAtREAAgECBAQDBAcFBAQAAQJ3AAECAxEEBSExBhJBUQdhcRMiMoEIFEKRobHBCSMzUvAVYnLRChYkNOEl8RcYGRomJygpKjU2Nzg5OkNERUZHSElKU1RVVldYWVpjZGVmZ2hpanN0dXZ3eHl6goOEhYaHiImKkpOUlZaXmJmaoqOkpaanqKmqsrO0tba3uLm6wsPExcbHyMnK0tPU1dbX2Nna4uPk5ebn6Onq8vP09fb3+Pn6/9oADAMBAAIRAxEAPwBm1xIFCgxg4apJi0D4U8cdfof8KsuVEZfGR7CqksqzAkISce/H6e9TYZFJcSOTGWypKgfj1oVC4GxsN6eozUsdr5iK5G0ggj8Ka9vLENxb5fWgRbjcKfv5Pem7kcEsuDn0qssmO9O3g8lufSi4XJ1ZBzgZ9uKSWfCAKBjPfmolwxAx1oEWz5Sc9Tn8aV2AzYKBGM5ooqLiHhR6UvAFFFAH/9k='}},\n",
       "         {'_': 'photoSize', 'type': 'm', 'w': 255, 'h': 320, 'size': 42653},\n",
       "         {'_': 'photoSize', 'type': 'x', 'w': 637, 'h': 800, 'size': 237898},\n",
       "         {'_': 'photoSizeProgressive',\n",
       "          'type': 'y',\n",
       "          'w': 842,\n",
       "          'h': 1058,\n",
       "          'sizes': [14606, 52377, 116362, 169539, 273493]}],\n",
       "        'dc_id': 2},\n",
       "       {'_': 'photo',\n",
       "        'flags': 0,\n",
       "        'has_stickers': False,\n",
       "        'id': 5328052199823096459,\n",
       "        'access_hash': 5877858951364577395,\n",
       "        'file_reference': {'_': 'bytes',\n",
       "         'bytes': 'AGK+xiCPRvTmwIcFsN4xMym/6UH5'},\n",
       "        'date': 1656657559,\n",
       "        'sizes': [{'_': 'photoStrippedSize',\n",
       "          'type': 'i',\n",
       "          'bytes': {'_': 'bytes',\n",
       "           'bytes': 'ASgfj24pdmVNKA3anDPlv+FZgNQKvPce9IQOo4z1pPxoAx3pCDzCh461aWRGgycZx0qr5Q45685p4QqDmgaYzOegxS8596eI+vHvT1GQM9O9JsQ4/qaQjjB7UUVIC8cY7UH1FFFAzw=='},\n",
       "          'inflated': {'_': 'bytes',\n",
       "           'bytes': '/9j/4AAQSkZJRgABAQAAAQABAAD/2wBDACgcHiMeGSgjISMtKygwPGRBPDc3PHtYXUlkkYCZlo+AjIqgtObDoKrarYqMyP/L2u71////m8H////6/+b9//j/2wBDASstLTw1PHZBQXb4pYyl+Pj4+Pj4+Pj4+Pj4+Pj4+Pj4+Pj4+Pj4+Pj4+Pj4+Pj4+Pj4+Pj4+Pj4+Pj4+Pj4+Pj/wAARCAAoAB8DASIAAhEBAxEB/8QAHwAAAQUBAQEBAQEAAAAAAAAAAAECAwQFBgcICQoL/8QAtRAAAgEDAwIEAwUFBAQAAAF9AQIDAAQRBRIhMUEGE1FhByJxFDKBkaEII0KxwRVS0fAkM2JyggkKFhcYGRolJicoKSo0NTY3ODk6Q0RFRkdISUpTVFVWV1hZWmNkZWZnaGlqc3R1dnd4eXqDhIWGh4iJipKTlJWWl5iZmqKjpKWmp6ipqrKztLW2t7i5usLDxMXGx8jJytLT1NXW19jZ2uHi4+Tl5ufo6erx8vP09fb3+Pn6/8QAHwEAAwEBAQEBAQEBAQAAAAAAAAECAwQFBgcICQoL/8QAtREAAgECBAQDBAcFBAQAAQJ3AAECAxEEBSExBhJBUQdhcRMiMoEIFEKRobHBCSMzUvAVYnLRChYkNOEl8RcYGRomJygpKjU2Nzg5OkNERUZHSElKU1RVVldYWVpjZGVmZ2hpanN0dXZ3eHl6goOEhYaHiImKkpOUlZaXmJmaoqOkpaanqKmqsrO0tba3uLm6wsPExcbHyMnK0tPU1dbX2Nna4uPk5ebn6Onq8vP09fb3+Pn6/9oADAMBAAIRAxEAPwCPbil2ZU0oDdqcM+W/4VmA1Aq89x70hA6jjPWk/GgDHekIPMKHjrVpZEaDJxnHSqvlDjnrzmnhCoOaBpjM56DFLzn3p4j68e9PUZAz070mxDj+ppCOMHtRRUgLxxjtQfUUUUDP/9k='}},\n",
       "         {'_': 'photoSize', 'type': 'm', 'w': 250, 'h': 320, 'size': 41492},\n",
       "         {'_': 'photoSize', 'type': 'x', 'w': 626, 'h': 800, 'size': 209095},\n",
       "         {'_': 'photoSizeProgressive',\n",
       "          'type': 'y',\n",
       "          'w': 901,\n",
       "          'h': 1152,\n",
       "          'sizes': [16026, 59790, 118935, 169623, 260242]}],\n",
       "        'dc_id': 2}],\n",
       "      'documents': []}}},\n",
       "   'entities': [{'_': 'messageEntityBold', 'offset': 0, 'length': 88},\n",
       "    {'_': 'messageEntityTextUrl',\n",
       "     'offset': 40,\n",
       "     'length': 6,\n",
       "     'url': 'https://t.me/andriyshTime/1667'},\n",
       "    {'_': 'messageEntityItalic', 'offset': 582, 'length': 113}],\n",
       "   'views': 85489,\n",
       "   'forwards': 1},\n",
       "  {'_': 'message',\n",
       "   'flags': 18048,\n",
       "   'out': False,\n",
       "   'mentioned': False,\n",
       "   'media_unread': False,\n",
       "   'silent': False,\n",
       "   'post': True,\n",
       "   'from_scheduled': False,\n",
       "   'legacy': False,\n",
       "   'edit_hide': False,\n",
       "   'pinned': False,\n",
       "   'noforwards': False,\n",
       "   'id': 63480,\n",
       "   'peer_id': {'_': 'peerChannel', 'channel_id': 1036240821},\n",
       "   'date': 1656665120,\n",
       "   'message': 'ДАННОЕ СООБЩЕНИЕ (МАТЕРИАЛ) СОЗДАНО И (ИЛИ) РАСПРОСТРАНЕНО ИНОСТРАННЫМ СРЕДСТВОМ МАССОВОЙ ИНФОРМАЦИИ, ВЫПОЛНЯЮЩИМ ФУНКЦИИ ИНОСТРАННОГО АГЕНТА, И (ИЛИ) РОССИЙСКИМ ЮРИДИЧЕСКИМ ЛИЦОМ, ВЫПОЛНЯЮЩИМ ФУНКЦИИ ИНОСТРАННОГО АГЕНТА<br />\\n<br />\\nОнлайн о российском вторжении в Украину можно читать не только в телеграме, но и на сайте и в приложении «Медузы»: <br />\\n<br />\\n<a href=\"https://meduza.io/live/2022/07/01/voyna\" target=\"_blank\" rel=\"nofollow\">https://meduza.io/live/2022/07/01/voyna</a>',\n",
       "   'media': {'_': 'messageMediaPhoto',\n",
       "    'flags': 1,\n",
       "    'photo': {'_': 'photo',\n",
       "     'flags': 0,\n",
       "     'has_stickers': False,\n",
       "     'id': 5330090887654521628,\n",
       "     'access_hash': -2804138017545611665,\n",
       "     'file_reference': {'_': 'bytes',\n",
       "      'bytes': 'Aj3Dx7UAAPf4Yr7GIHRtAUUKMEK4H+7nJYdpUWY='},\n",
       "     'date': 1656665119,\n",
       "     'sizes': [{'_': 'photoStrippedSize',\n",
       "       'type': 'i',\n",
       "       'bytes': {'_': 'bytes',\n",
       "        'bytes': 'ASgo1SDk8/rQFY9zj60r8Hj+X/1qQMcdT+X/ANagB2w/3j+tGw/3j+Zpu5vU/l/9agMc8lvy/wDrUAPAI4zxRSAH+8T9RRQAj4PcfjTcD+8v6UpAyeR+dL8v98UANwP7y/pSjb/eAP4UuF/vCghf7woAcvTrmikUjoCDRQAhJyflP5mjJ/u0UUAKCx/hH50vzeg/OiigBaKKKAM='},\n",
       "       'inflated': {'_': 'bytes',\n",
       "        'bytes': '/9j/4AAQSkZJRgABAQAAAQABAAD/2wBDACgcHiMeGSgjISMtKygwPGRBPDc3PHtYXUlkkYCZlo+AjIqgtObDoKrarYqMyP/L2u71////m8H////6/+b9//j/2wBDASstLTw1PHZBQXb4pYyl+Pj4+Pj4+Pj4+Pj4+Pj4+Pj4+Pj4+Pj4+Pj4+Pj4+Pj4+Pj4+Pj4+Pj4+Pj4+Pj4+Pj/wAARCAAoACgDASIAAhEBAxEB/8QAHwAAAQUBAQEBAQEAAAAAAAAAAAECAwQFBgcICQoL/8QAtRAAAgEDAwIEAwUFBAQAAAF9AQIDAAQRBRIhMUEGE1FhByJxFDKBkaEII0KxwRVS0fAkM2JyggkKFhcYGRolJicoKSo0NTY3ODk6Q0RFRkdISUpTVFVWV1hZWmNkZWZnaGlqc3R1dnd4eXqDhIWGh4iJipKTlJWWl5iZmqKjpKWmp6ipqrKztLW2t7i5usLDxMXGx8jJytLT1NXW19jZ2uHi4+Tl5ufo6erx8vP09fb3+Pn6/8QAHwEAAwEBAQEBAQEBAQAAAAAAAAECAwQFBgcICQoL/8QAtREAAgECBAQDBAcFBAQAAQJ3AAECAxEEBSExBhJBUQdhcRMiMoEIFEKRobHBCSMzUvAVYnLRChYkNOEl8RcYGRomJygpKjU2Nzg5OkNERUZHSElKU1RVVldYWVpjZGVmZ2hpanN0dXZ3eHl6goOEhYaHiImKkpOUlZaXmJmaoqOkpaanqKmqsrO0tba3uLm6wsPExcbHyMnK0tPU1dbX2Nna4uPk5ebn6Onq8vP09fb3+Pn6/9oADAMBAAIRAxEAPwDVIOTz+tAVj3OPrSvweP5f/WpAxx1P5f8A1qAHbD/eP60bD/eP5mm7m9T+X/1qAxzyW/L/AOtQA8AjjPFFIAf7xP1FFACPg9x+NNwP7y/pSkDJ5H50vy/3xQA3A/vL+lKNv94A/hS4X+8KCF/vCgBy9OuaKRSOgINFACEnJ+U/maMn+7RRQAoLH+EfnS/N6D86KKAFooooA//Z'}},\n",
       "      {'_': 'photoSize', 'type': 'm', 'w': 320, 'h': 316, 'size': 30010},\n",
       "      {'_': 'photoSize', 'type': 'x', 'w': 800, 'h': 789, 'size': 120024},\n",
       "      {'_': 'photoSizeProgressive',\n",
       "       'type': 'y',\n",
       "       'w': 1276,\n",
       "       'h': 1258,\n",
       "       'sizes': [11423, 33294, 82875, 118789, 175194]}],\n",
       "     'dc_id': 2}},\n",
       "   'entities': [{'_': 'messageEntityUrl', 'offset': 339, 'length': 39}],\n",
       "   'views': 87592,\n",
       "   'forwards': 36},\n",
       "  {'_': 'message',\n",
       "   'flags': 18048,\n",
       "   'out': False,\n",
       "   'mentioned': False,\n",
       "   'media_unread': False,\n",
       "   'silent': False,\n",
       "   'post': True,\n",
       "   'from_scheduled': False,\n",
       "   'legacy': False,\n",
       "   'edit_hide': False,\n",
       "   'pinned': False,\n",
       "   'noforwards': False,\n",
       "   'id': 63479,\n",
       "   'peer_id': {'_': 'peerChannel', 'channel_id': 1036240821},\n",
       "   'date': 1656664592,\n",
       "   'message': '<strong>Новосибирского ученого Дмитрия Колкера арестовали по\\xa0делу о\\xa0госизмене. По словам родных, он\\xa0не\\xa0может самостоятельно есть из-за рака поджелудочной железы. ФСБ забрала его прямо из\\xa0больницы</strong><br />\\n<br />\\nДАННОЕ СООБЩЕНИЕ (МАТЕРИАЛ) СОЗДАНО И\\xa0(ИЛИ) РАСПРОСТРАНЕНО ИНОСТРАННЫМ СРЕДСТВОМ МАССОВОЙ ИНФОРМАЦИИ, ВЫПОЛНЯЮЩИМ ФУНКЦИИ ИНОСТРАННОГО АГЕНТА, И\\xa0(ИЛИ) РОССИЙСКИМ ЮРИДИЧЕСКИМ ЛИЦОМ, ВЫПОЛНЯЮЩИМ ФУНКЦИИ ИНОСТРАННОГО АГЕНТА<br />\\n<br />\\n54-летний Дмитрий Колкер — доктор физико-математических наук, заведующий лабораторией квантовых оптических технологий в Институте лазерной физики Сибирского отделения РАН и Новосибирском государственном университете, а также профессор кафедры лазерных систем Новосибирского государственного технического университета (НГТУ НЭТИ). <br />\\n<br />\\nПо словам родственников, у Дмитрия Колкера четвертая стадия рака поджелудочной железы. Сотрудники ФСБ забрали его из больницы, куда он попал накануне из-за ухудшения самочувствия; в частности, как рассказывают близкие ученого, он не может самостоятельно есть.<br />\\n<br />\\nФСБ ситуацию с\\xa0арестом Дмитрия Колкера пока не\\xa0комментировала.<br />\\n<br />\\n<a href=\"https://mdza.io/5jrcH-sy1HY\" target=\"_blank\" rel=\"nofollow\">https://mdza.io/5jrcH-sy1HY</a>',\n",
       "   'media': {'_': 'messageMediaWebPage',\n",
       "    'webpage': {'_': 'webPage',\n",
       "     'flags': 31,\n",
       "     'id': 1891734345353127489,\n",
       "     'url': 'https://mdza.io/5jrcH-sy1HY',\n",
       "     'display_url': 'meduza.io/feature/2022/07/01/novosibirskogo-uchenogo-dmitriya-kolkera-arestovali-po-delu-o-gosizmene',\n",
       "     'hash': 0,\n",
       "     'type': 'photo',\n",
       "     'site_name': 'Meduza',\n",
       "     'title': 'Новосибирского ученого Дмитрия Колкера арестовали по делу о госизмене По словам родных, он не может самостоятельно есть из-за рака поджелудочной железы. ФСБ забрала его прямо из больницы — Meduza',\n",
       "     'description': '30\\xa0июня суд в\\xa0Новосибирске арестовал ученого Дмитрия Колкера по\\xa0подозрению в\\xa0государственной измене. По\\xa0словам родственников, его отправили в\\xa0Москву —\\xa0в\\xa0СИЗО «Лефортово».',\n",
       "     'photo': {'_': 'photo',\n",
       "      'flags': 0,\n",
       "      'has_stickers': False,\n",
       "      'id': 5905488244710157868,\n",
       "      'access_hash': 8957037376646574628,\n",
       "      'file_reference': {'_': 'bytes',\n",
       "       'bytes': 'AGK+xiDKSMlgSxKiitngtO3/geP4'},\n",
       "      'date': 1656658950,\n",
       "      'sizes': [{'_': 'photoStrippedSize',\n",
       "        'type': 'i',\n",
       "        'bytes': {'_': 'bytes',\n",
       "         'bytes': 'ARUopJCxUEAHPqDSmF/RT/wH/wCtUsSEKM9PrUhUcdfzFSUVFhO/JAGO2DUjw5X5iB9acyKhB/qKedr/AOORTEUGXD7QaKfJsVzgknP4UUAWQ7KMBiB7GlLt/eP50UUwIZ5HVQdxyD61H9qlMbAseeOtFFAiEdc0UUUAfw=='},\n",
       "        'inflated': {'_': 'bytes',\n",
       "         'bytes': '/9j/4AAQSkZJRgABAQAAAQABAAD/2wBDACgcHiMeGSgjISMtKygwPGRBPDc3PHtYXUlkkYCZlo+AjIqgtObDoKrarYqMyP/L2u71////m8H////6/+b9//j/2wBDASstLTw1PHZBQXb4pYyl+Pj4+Pj4+Pj4+Pj4+Pj4+Pj4+Pj4+Pj4+Pj4+Pj4+Pj4+Pj4+Pj4+Pj4+Pj4+Pj4+Pj/wAARCAAVACgDASIAAhEBAxEB/8QAHwAAAQUBAQEBAQEAAAAAAAAAAAECAwQFBgcICQoL/8QAtRAAAgEDAwIEAwUFBAQAAAF9AQIDAAQRBRIhMUEGE1FhByJxFDKBkaEII0KxwRVS0fAkM2JyggkKFhcYGRolJicoKSo0NTY3ODk6Q0RFRkdISUpTVFVWV1hZWmNkZWZnaGlqc3R1dnd4eXqDhIWGh4iJipKTlJWWl5iZmqKjpKWmp6ipqrKztLW2t7i5usLDxMXGx8jJytLT1NXW19jZ2uHi4+Tl5ufo6erx8vP09fb3+Pn6/8QAHwEAAwEBAQEBAQEBAQAAAAAAAAECAwQFBgcICQoL/8QAtREAAgECBAQDBAcFBAQAAQJ3AAECAxEEBSExBhJBUQdhcRMiMoEIFEKRobHBCSMzUvAVYnLRChYkNOEl8RcYGRomJygpKjU2Nzg5OkNERUZHSElKU1RVVldYWVpjZGVmZ2hpanN0dXZ3eHl6goOEhYaHiImKkpOUlZaXmJmaoqOkpaanqKmqsrO0tba3uLm6wsPExcbHyMnK0tPU1dbX2Nna4uPk5ebn6Onq8vP09fb3+Pn6/9oADAMBAAIRAxEAPwCkkLFQQAc+oNKYX9FP/Af/AK1SxIQoz0+tSFRx1/MVJRUWE78kAY7YNSPDlfmIH1pzIqEH+op52v8A45FMRQZcPtBop8mxXOCSc/hRQBZDsowGIHsaUu394/nRRTAhnkdVB3HIPrUf2qUxsCx5460UUCIR1zRRRQB//9k='}},\n",
       "       {'_': 'photoSize', 'type': 'm', 'w': 320, 'h': 168, 'size': 20273},\n",
       "       {'_': 'photoSize', 'type': 'x', 'w': 800, 'h': 420, 'size': 86347},\n",
       "       {'_': 'photoSizeProgressive',\n",
       "        'type': 'y',\n",
       "        'w': 1200,\n",
       "        'h': 630,\n",
       "        'sizes': [11788, 32458, 61025, 88453, 145662]}],\n",
       "      'dc_id': 4}}},\n",
       "   'entities': [{'_': 'messageEntityBold', 'offset': 0, 'length': 187},\n",
       "    {'_': 'messageEntityUrl', 'offset': 1068, 'length': 27}],\n",
       "   'views': 91804,\n",
       "   'forwards': 283},\n",
       "  {'_': 'message',\n",
       "   'flags': 18052,\n",
       "   'out': False,\n",
       "   'mentioned': False,\n",
       "   'media_unread': False,\n",
       "   'silent': False,\n",
       "   'post': True,\n",
       "   'from_scheduled': False,\n",
       "   'legacy': False,\n",
       "   'edit_hide': False,\n",
       "   'pinned': False,\n",
       "   'noforwards': False,\n",
       "   'id': 63478,\n",
       "   'peer_id': {'_': 'peerChannel', 'channel_id': 1036240821},\n",
       "   'fwd_from': {'_': 'messageFwdHeader',\n",
       "    'flags': 5,\n",
       "    'imported': False,\n",
       "    'from_id': {'_': 'peerChannel', 'channel_id': 1338143548},\n",
       "    'date': 1656653728,\n",
       "    'channel_post': 9146},\n",
       "   'date': 1656663950,\n",
       "   'message': '🇺🇦<strong>Солист группы Imagine Dragons Дэн Рейнольдс посвятил речь Украине </strong><br />\\n<br />\\n\"Почему в 2022 году умирают дети и мы не можем остановить войну?  Почему мы не можем сделать что-либо большее, чем петь песни с поддержкой? Я чувствую себя беспомощно\", – сказал певец.<br />\\n<br />\\nЗатем исполнил песню Alphaville Forever Young для всех потерявших свой дом украинцев.<br />\\n<br />\\n<strong>Спасибо за поддержку</strong>💙💛<strong>После нашей победы обещаем зажигать на концертах \"драконов\"!</strong>',\n",
       "   'media': {'_': 'messageMediaDocument',\n",
       "    'flags': 1,\n",
       "    'document': {'_': 'document',\n",
       "     'flags': 1,\n",
       "     'id': 5330016013033412663,\n",
       "     'access_hash': -7339794343260045184,\n",
       "     'file_reference': {'_': 'bytes',\n",
       "      'bytes': 'Aj3Dx7UAAPf2Yr7GICeUT1O8DXoTHU6Sr4y2IBo='},\n",
       "     'date': 1656653728,\n",
       "     'mime_type': 'video/mp4',\n",
       "     'size': 6501630,\n",
       "     'thumbs': [{'_': 'photoStrippedSize',\n",
       "       'type': 'i',\n",
       "       'bytes': {'_': 'bytes',\n",
       "        'bytes': 'ASghxqUDPcVJJGFPyknnApvlnANXyO9hXG7T6UlKQVPcUo3NwMmpsxjaKXa3oaKLMB5cbQBnrViILux1we9U6ASO9aRqWd2KxPcoFfgVGjbQexppJPU0lKU7u6CxL5n+cUVFRS52FkJRRRUDCiiigAooooA/'},\n",
       "       'inflated': {'_': 'bytes',\n",
       "        'bytes': '/9j/4AAQSkZJRgABAQAAAQABAAD/2wBDACgcHiMeGSgjISMtKygwPGRBPDc3PHtYXUlkkYCZlo+AjIqgtObDoKrarYqMyP/L2u71////m8H////6/+b9//j/2wBDASstLTw1PHZBQXb4pYyl+Pj4+Pj4+Pj4+Pj4+Pj4+Pj4+Pj4+Pj4+Pj4+Pj4+Pj4+Pj4+Pj4+Pj4+Pj4+Pj4+Pj/wAARCAAoACEDASIAAhEBAxEB/8QAHwAAAQUBAQEBAQEAAAAAAAAAAAECAwQFBgcICQoL/8QAtRAAAgEDAwIEAwUFBAQAAAF9AQIDAAQRBRIhMUEGE1FhByJxFDKBkaEII0KxwRVS0fAkM2JyggkKFhcYGRolJicoKSo0NTY3ODk6Q0RFRkdISUpTVFVWV1hZWmNkZWZnaGlqc3R1dnd4eXqDhIWGh4iJipKTlJWWl5iZmqKjpKWmp6ipqrKztLW2t7i5usLDxMXGx8jJytLT1NXW19jZ2uHi4+Tl5ufo6erx8vP09fb3+Pn6/8QAHwEAAwEBAQEBAQEBAQAAAAAAAAECAwQFBgcICQoL/8QAtREAAgECBAQDBAcFBAQAAQJ3AAECAxEEBSExBhJBUQdhcRMiMoEIFEKRobHBCSMzUvAVYnLRChYkNOEl8RcYGRomJygpKjU2Nzg5OkNERUZHSElKU1RVVldYWVpjZGVmZ2hpanN0dXZ3eHl6goOEhYaHiImKkpOUlZaXmJmaoqOkpaanqKmqsrO0tba3uLm6wsPExcbHyMnK0tPU1dbX2Nna4uPk5ebn6Onq8vP09fb3+Pn6/9oADAMBAAIRAxEAPwDGpQM9xUkkYU/KSecCm+WcA1fI72FcbtPpSUpBU9xSjc3AyamzGNopdrehooswHlxtAGetWIgu7HXB71ToBI71pGpZ3YrE9ygV+BUaNtB7Gmkk9TSUpTu7oLEvmf5xRUVFLnYWQlFFFQMKKKKACiiigD//2Q=='}},\n",
       "      {'_': 'photoSize', 'type': 'm', 'w': 264, 'h': 320, 'size': 7656}],\n",
       "     'dc_id': 2,\n",
       "     'attributes': [{'_': 'documentAttributeVideo',\n",
       "       'flags': 2,\n",
       "       'round_message': False,\n",
       "       'supports_streaming': True,\n",
       "       'duration': 72,\n",
       "       'w': 528,\n",
       "       'h': 640},\n",
       "      {'_': 'documentAttributeFilename', 'file_name': '1.mp4'}]}},\n",
       "   'entities': [{'_': 'messageEntityBold', 'offset': 4, 'length': 66},\n",
       "    {'_': 'messageEntityBold', 'offset': 345, 'length': 20},\n",
       "    {'_': 'messageEntityBold', 'offset': 369, 'length': 60}],\n",
       "   'views': 96870,\n",
       "   'forwards': 453},\n",
       "  {'_': 'message',\n",
       "   'flags': 50304,\n",
       "   'out': False,\n",
       "   'mentioned': False,\n",
       "   'media_unread': False,\n",
       "   'silent': False,\n",
       "   'post': True,\n",
       "   'from_scheduled': False,\n",
       "   'legacy': False,\n",
       "   'edit_hide': False,\n",
       "   'pinned': False,\n",
       "   'noforwards': False,\n",
       "   'id': 63477,\n",
       "   'peer_id': {'_': 'peerChannel', 'channel_id': 1036240821},\n",
       "   'date': 1656663248,\n",
       "   'message': '<strong>Акционеры горнодобывающей и металлургической компании «Мечел» решили не выплачивать дивиденды по итогам 2021 года<br />\\n</strong><br />\\nДАННОЕ СООБЩЕНИЕ (МАТЕРИАЛ) СОЗДАНО И\\xa0(ИЛИ) РАСПРОСТРАНЕНО ИНОСТРАННЫМ СРЕДСТВОМ МАССОВОЙ ИНФОРМАЦИИ, ВЫПОЛНЯЮЩИМ ФУНКЦИИ ИНОСТРАННОГО АГЕНТА, И\\xa0(ИЛИ) РОССИЙСКИМ ЮРИДИЧЕСКИМ ЛИЦОМ, ВЫПОЛНЯЮЩИМ ФУНКЦИИ ИНОСТРАННОГО АГЕНТА<br />\\n<br />\\n«Прибыль по\\xa0результатам отчетного 2021 года в\\xa0размере 466,83 млн руб. оставить нераспределенной. Дивиденды по\\xa0обыкновенным и\\xa0привилегированным акциям ПАО „Мечел“ не\\xa0объявлять и\\xa0не\\xa0выплачивать», — <a href=\"https://t.me/kommersant/34886\" target=\"_blank\" rel=\"nofollow\">цитирует</a> «Коммерсант» сообщение компании. <br />\\n<br />\\nНакануне решение не выплачивать дивиденды приняли акционеры группы «Россети», «Газпрома» и «Сбербанка».<br />\\n<br />\\n«Роснефть», в свою очередь, заявила, что выплатит рекордные дивиденды, ее акции сегодня на Московской бирже растут.',\n",
       "   'entities': [{'_': 'messageEntityBold', 'offset': 0, 'length': 114},\n",
       "    {'_': 'messageEntityTextUrl',\n",
       "     'offset': 533,\n",
       "     'length': 8,\n",
       "     'url': 'https://t.me/kommersant/34886'}],\n",
       "   'views': 105298,\n",
       "   'forwards': 143,\n",
       "   'edit_date': 1656663311},\n",
       "  {'_': 'message',\n",
       "   'flags': 17540,\n",
       "   'out': False,\n",
       "   'mentioned': False,\n",
       "   'media_unread': False,\n",
       "   'silent': False,\n",
       "   'post': True,\n",
       "   'from_scheduled': False,\n",
       "   'legacy': False,\n",
       "   'edit_hide': False,\n",
       "   'pinned': False,\n",
       "   'noforwards': False,\n",
       "   'id': 63476,\n",
       "   'peer_id': {'_': 'peerChannel', 'channel_id': 1036240821},\n",
       "   'fwd_from': {'_': 'messageFwdHeader',\n",
       "    'flags': 5,\n",
       "    'imported': False,\n",
       "    'from_id': {'_': 'peerChannel', 'channel_id': 1149896996},\n",
       "    'date': 1656662141,\n",
       "    'channel_post': 22791},\n",
       "   'date': 1656662438,\n",
       "   'message': '<strong>Концерн \"Алмаз-Антей\" прекращает участие в международных рейтингах оборонных компаний<br />\\n<br />\\n</strong><i>\"Несмотря на рост выручки концерна по итогам 2021 года в сравнении с 2020 годом, раскрытие ее показателей считаем чувствительной информацией, распространение которой может быть использовано для дальнейшего усиления санкционного давления на компанию, ее российских и зарубежных партнеров\", - заявили в пресс-службе.<br />\\n<br />\\n</i><a href=\"tg://resolve?domain=@interfaxonline\" rel=\"nofollow\">@interfaxonline</a>',\n",
       "   'entities': [{'_': 'messageEntityBold', 'offset': 0, 'length': 87},\n",
       "    {'_': 'messageEntityItalic', 'offset': 87, 'length': 316},\n",
       "    {'_': 'messageEntityMention', 'offset': 403, 'length': 15}],\n",
       "   'views': 109510,\n",
       "   'forwards': 104}],\n",
       " 'chats': [{'_': 'channel',\n",
       "   'flags': 8420,\n",
       "   'creator': False,\n",
       "   'left': True,\n",
       "   'broadcast': True,\n",
       "   'verified': True,\n",
       "   'megagroup': False,\n",
       "   'restricted': False,\n",
       "   'signatures': False,\n",
       "   'min': False,\n",
       "   'scam': False,\n",
       "   'has_link': False,\n",
       "   'has_geo': False,\n",
       "   'slowmode_enabled': False,\n",
       "   'call_active': False,\n",
       "   'call_not_empty': False,\n",
       "   'fake': False,\n",
       "   'gigagroup': False,\n",
       "   'noforwards': False,\n",
       "   'join_to_send': False,\n",
       "   'join_request': False,\n",
       "   'id': 1036240821,\n",
       "   'access_hash': -7647905324589541251,\n",
       "   'title': 'Медуза — LIVE',\n",
       "   'username': 'meduzalive',\n",
       "   'photo': {'_': 'chatPhoto',\n",
       "    'flags': 2,\n",
       "    'has_video': False,\n",
       "    'photo_id': 5199636324099927930,\n",
       "    'stripped_thumb': {'_': 'bytes', 'bytes': 'AQgIzP3Hk9/Mx+uf8KKKKBk='},\n",
       "    'dc_id': 2},\n",
       "   'date': 1459943098},\n",
       "  {'_': 'channel',\n",
       "   'flags': 8292,\n",
       "   'creator': False,\n",
       "   'left': True,\n",
       "   'broadcast': True,\n",
       "   'verified': False,\n",
       "   'megagroup': False,\n",
       "   'restricted': False,\n",
       "   'signatures': False,\n",
       "   'min': False,\n",
       "   'scam': False,\n",
       "   'has_link': False,\n",
       "   'has_geo': False,\n",
       "   'slowmode_enabled': False,\n",
       "   'call_active': False,\n",
       "   'call_not_empty': False,\n",
       "   'fake': False,\n",
       "   'gigagroup': False,\n",
       "   'noforwards': False,\n",
       "   'join_to_send': False,\n",
       "   'join_request': False,\n",
       "   'id': 1338143548,\n",
       "   'access_hash': -2621696245892551152,\n",
       "   'title': 'УНИАН Lite',\n",
       "   'username': 'unianlite',\n",
       "   'photo': {'_': 'chatPhoto',\n",
       "    'flags': 2,\n",
       "    'has_video': False,\n",
       "    'photo_id': 555412140244182962,\n",
       "    'stripped_thumb': {'_': 'bytes', 'bytes': 'AQgIv/vhJnK7c9B6UUUVQH8='},\n",
       "    'dc_id': 2},\n",
       "   'date': 1567516244},\n",
       "  {'_': 'channel',\n",
       "   'flags': 8420,\n",
       "   'creator': False,\n",
       "   'left': True,\n",
       "   'broadcast': True,\n",
       "   'verified': True,\n",
       "   'megagroup': False,\n",
       "   'restricted': False,\n",
       "   'signatures': False,\n",
       "   'min': False,\n",
       "   'scam': False,\n",
       "   'has_link': False,\n",
       "   'has_geo': False,\n",
       "   'slowmode_enabled': False,\n",
       "   'call_active': False,\n",
       "   'call_not_empty': False,\n",
       "   'fake': False,\n",
       "   'gigagroup': False,\n",
       "   'noforwards': False,\n",
       "   'join_to_send': False,\n",
       "   'join_request': False,\n",
       "   'id': 1149896996,\n",
       "   'access_hash': -1096213148801205332,\n",
       "   'title': 'Интерфакс',\n",
       "   'username': 'interfaxonline',\n",
       "   'photo': {'_': 'chatPhoto',\n",
       "    'flags': 2,\n",
       "    'has_video': False,\n",
       "    'photo_id': 168081037324298212,\n",
       "    'stripped_thumb': {'_': 'bytes', 'bytes': 'AQgIVVmEpY7vP3dz0oooptiUEz8='},\n",
       "    'dc_id': 2},\n",
       "   'date': 1508857735}],\n",
       " 'users': [{'_': 'user',\n",
       "   'flags': 33570859,\n",
       "   'self': False,\n",
       "   'contact': False,\n",
       "   'mutual_contact': False,\n",
       "   'deleted': False,\n",
       "   'bot': True,\n",
       "   'bot_chat_history': False,\n",
       "   'bot_nochats': False,\n",
       "   'verified': False,\n",
       "   'restricted': False,\n",
       "   'min': False,\n",
       "   'bot_inline_geo': False,\n",
       "   'support': False,\n",
       "   'scam': False,\n",
       "   'apply_min_photo': True,\n",
       "   'fake': False,\n",
       "   'bot_attach_menu': False,\n",
       "   'id': 136817688,\n",
       "   'access_hash': 5729957751266450063,\n",
       "   'first_name': 'Channel',\n",
       "   'username': 'Channel_Bot',\n",
       "   'photo': {'_': 'userProfilePhoto',\n",
       "    'flags': 2,\n",
       "    'has_video': False,\n",
       "    'photo_id': 587627495930570665,\n",
       "    'stripped_thumb': {'_': 'bytes', 'bytes': 'AQgIsfL5X+1nNFFFcDOtHw=='},\n",
       "    'dc_id': 1},\n",
       "   'bot_info_version': 4}],\n",
       " 'sponsored_messages': []}"
      ]
     },
     "execution_count": 586,
     "metadata": {},
     "output_type": "execute_result"
    }
   ],
   "source": [
    "answer = requests.get('https://tg.i-c-a.su/json/' + 'meduzalive')\n",
    "data = answer.json()\n",
    "data"
   ]
  },
  {
   "cell_type": "code",
   "execution_count": 590,
   "metadata": {
    "pycharm": {
     "name": "#%%\n"
    }
   },
   "outputs": [
    {
     "data": {
      "text/plain": [
       "str"
      ]
     },
     "execution_count": 590,
     "metadata": {},
     "output_type": "execute_result"
    }
   ],
   "source": [
    "type(data['messages'][0]['message'])"
   ]
  },
  {
   "cell_type": "code",
   "execution_count": 593,
   "metadata": {
    "pycharm": {
     "name": "#%%\n"
    }
   },
   "outputs": [
    {
     "data": {
      "text/plain": [
       "1656669267"
      ]
     },
     "execution_count": 593,
     "metadata": {},
     "output_type": "execute_result"
    }
   ],
   "source": [
    "data['messages'][0]['date']"
   ]
  },
  {
   "cell_type": "code",
   "execution_count": 592,
   "metadata": {
    "pycharm": {
     "name": "#%%\n"
    }
   },
   "outputs": [
    {
     "data": {
      "text/plain": [
       "int"
      ]
     },
     "execution_count": 592,
     "metadata": {},
     "output_type": "execute_result"
    }
   ],
   "source": [
    "type(data['messages'][0]['date'])"
   ]
  },
  {
   "cell_type": "code",
   "execution_count": 460,
   "metadata": {
    "pycharm": {
     "name": "#%%\n"
    }
   },
   "outputs": [],
   "source": [
    "def agency2db(channel_name):\n",
    "    db = pd.read_pickle('db.pkl')\n",
    "    channel_dict = make_articles_dict(channel_name)\n",
    "    if channel_dict:\n",
    "        df = pd.DataFrame(channel_dict).T\n",
    "        df['category'] = df['short_news'].apply(lambda x: model_class.predict(x)[0][0].split('__')[-1])  # классифицируем\n",
    "        df = df.loc[df['category'] != 'not_news']  # удаляем новости, которые классификатор не признал новостями\n",
    "        df['date'] = df['date'].apply(lambda x: datetime.fromtimestamp(x))  # преобразовываем timestamp-число в дату\n",
    "        df['agency'] = channel_name\n",
    "        db = pd.concat([db, df]).sort_values('date', ascending=False)\n",
    "        db.to_pickle('db.pkl')"
   ]
  },
  {
   "cell_type": "code",
   "execution_count": 445,
   "metadata": {
    "pycharm": {
     "name": "#%%\n"
    }
   },
   "outputs": [],
   "source": [
    "def join_all(agency_list):\n",
    "    for agency in agency_list:\n",
    "        print(f'Собираю {agency}...')\n",
    "        agency2db(agency)\n",
    "        print(f'....... complited')\n",
    "\n",
    "    db = pd.read_pickle('db.pkl')\n",
    "    return db"
   ]
  },
  {
   "cell_type": "markdown",
   "metadata": {
    "pycharm": {
     "name": "#%% md\n"
    }
   },
   "source": [
    "### Разбираемся с датами и периодическим парсингом"
   ]
  },
  {
   "cell_type": "code",
   "execution_count": 48,
   "metadata": {
    "pycharm": {
     "name": "#%%\n"
    }
   },
   "outputs": [
    {
     "data": {
      "text/plain": [
       "228.33496230000037"
      ]
     },
     "execution_count": 48,
     "metadata": {},
     "output_type": "execute_result"
    }
   ],
   "source": [
    "timeit.timeit('nplusone = record_newsbatch2db(agency_name[1])', globals=globals(), number=1)"
   ]
  },
  {
   "cell_type": "code",
   "execution_count": 51,
   "metadata": {
    "scrolled": true,
    "pycharm": {
     "name": "#%%\n"
    }
   },
   "outputs": [
    {
     "data": {
      "text/plain": [
       "45.599999999999994"
      ]
     },
     "execution_count": 51,
     "metadata": {},
     "output_type": "execute_result"
    }
   ],
   "source": [
    "228/60*len(agency_name)"
   ]
  },
  {
   "cell_type": "code",
   "execution_count": 147,
   "metadata": {
    "pycharm": {
     "name": "#%%\n"
    }
   },
   "outputs": [
    {
     "data": {
      "text/plain": [
       "Timestamp('2022-06-26 09:14:01')"
      ]
     },
     "execution_count": 147,
     "metadata": {},
     "output_type": "execute_result"
    }
   ],
   "source": [
    "nplusone.date.loc[17990] + pd.Timedelta(\"1 hour\")"
   ]
  },
  {
   "cell_type": "code",
   "execution_count": 163,
   "metadata": {
    "pycharm": {
     "name": "#%%\n"
    }
   },
   "outputs": [
    {
     "data": {
      "text/plain": [
       "Timestamp('2022-06-29 07:00:00')"
      ]
     },
     "execution_count": 163,
     "metadata": {},
     "output_type": "execute_result"
    }
   ],
   "source": [
    "today =  pd.to_datetime('today').normalize()\n",
    "start_time = today + pd.Timedelta(\"7 hour\")\n",
    "start_time"
   ]
  },
  {
   "cell_type": "code",
   "execution_count": 166,
   "metadata": {
    "pycharm": {
     "name": "#%%\n"
    }
   },
   "outputs": [
    {
     "data": {
      "text/plain": [
       "2022-06-29 07:00:00    0\n",
       "2022-06-29 12:00:00    1\n",
       "2022-06-29 17:00:00    2\n",
       "2022-06-29 22:00:00    3\n",
       "Freq: 5H, dtype: int64"
      ]
     },
     "execution_count": 166,
     "metadata": {},
     "output_type": "execute_result"
    }
   ],
   "source": [
    "idx = pd.date_range(start_time, periods=4, freq=\"5H\")\n",
    "ts = pd.Series(range(len(idx)), index=idx)\n",
    "ts"
   ]
  },
  {
   "cell_type": "code",
   "execution_count": 173,
   "metadata": {
    "pycharm": {
     "name": "#%%\n"
    }
   },
   "outputs": [
    {
     "data": {
      "text/plain": [
       "(4, Timestamp('2022-06-29 07:00:00', freq='5H'))"
      ]
     },
     "execution_count": 173,
     "metadata": {},
     "output_type": "execute_result"
    }
   ],
   "source": [
    "len(idx), idx[0]"
   ]
  },
  {
   "cell_type": "code",
   "execution_count": 171,
   "metadata": {
    "pycharm": {
     "name": "#%%\n"
    }
   },
   "outputs": [
    {
     "data": {
      "text/plain": [
       "Timestamp('2022-06-29 08:37:33.273123')"
      ]
     },
     "execution_count": 171,
     "metadata": {},
     "output_type": "execute_result"
    }
   ],
   "source": [
    "pd.Timestamp.now()"
   ]
  },
  {
   "cell_type": "code",
   "execution_count": 353,
   "metadata": {
    "pycharm": {
     "name": "#%%\n"
    }
   },
   "outputs": [
    {
     "data": {
      "text/plain": [
       "Timestamp('2022-06-29 15:05:30')"
      ]
     },
     "execution_count": 353,
     "metadata": {},
     "output_type": "execute_result"
    }
   ],
   "source": [
    "df_pickle.date.iloc[0]"
   ]
  },
  {
   "cell_type": "code",
   "execution_count": 566,
   "metadata": {
    "pycharm": {
     "name": "#%%\n"
    }
   },
   "outputs": [],
   "source": [
    "first = pd.to_datetime('today')"
   ]
  },
  {
   "cell_type": "code",
   "execution_count": 567,
   "metadata": {
    "pycharm": {
     "name": "#%%\n"
    }
   },
   "outputs": [],
   "source": [
    "second = pd.to_datetime('today')"
   ]
  },
  {
   "cell_type": "code",
   "execution_count": 568,
   "metadata": {
    "pycharm": {
     "name": "#%%\n"
    }
   },
   "outputs": [
    {
     "name": "stdout",
     "output_type": "stream",
     "text": [
      "2022-07-01 12:37:28.951656 2022-07-01 12:37:42.411020\n"
     ]
    }
   ],
   "source": [
    "print(first, second)"
   ]
  },
  {
   "cell_type": "code",
   "execution_count": 584,
   "metadata": {
    "pycharm": {
     "name": "#%%\n"
    }
   },
   "outputs": [
    {
     "data": {
      "text/plain": [
       "'0 days 00:00:13.459364'"
      ]
     },
     "execution_count": 584,
     "metadata": {},
     "output_type": "execute_result"
    }
   ],
   "source": [
    "str(pd.to_timedelta(second - first))"
   ]
  },
  {
   "cell_type": "markdown",
   "metadata": {
    "pycharm": {
     "name": "#%% md\n"
    }
   },
   "source": [
    "### Запускаем парсинг"
   ]
  },
  {
   "cell_type": "code",
   "execution_count": 395,
   "metadata": {
    "pycharm": {
     "name": "#%%\n"
    }
   },
   "outputs": [
    {
     "data": {
      "text/html": [
       "<div>\n",
       "<style scoped>\n",
       "    .dataframe tbody tr th:only-of-type {\n",
       "        vertical-align: middle;\n",
       "    }\n",
       "\n",
       "    .dataframe tbody tr th {\n",
       "        vertical-align: top;\n",
       "    }\n",
       "\n",
       "    .dataframe thead th {\n",
       "        text-align: right;\n",
       "    }\n",
       "</style>\n",
       "<table border=\"1\" class=\"dataframe\">\n",
       "  <thead>\n",
       "    <tr style=\"text-align: right;\">\n",
       "      <th></th>\n",
       "      <th>date</th>\n",
       "      <th>title</th>\n",
       "      <th>short_news</th>\n",
       "      <th>first_link</th>\n",
       "      <th>raw_news</th>\n",
       "      <th>category</th>\n",
       "      <th>agency</th>\n",
       "    </tr>\n",
       "  </thead>\n",
       "  <tbody>\n",
       "    <tr>\n",
       "      <th>35212</th>\n",
       "      <td>2022-06-29 19:23:40</td>\n",
       "      <td>«Яндекс» подал заявление на ликвидацию структу...</td>\n",
       "      <td>«Яндекс» подал заявление на ликвидацию структу...</td>\n",
       "      <td>vc.ru/finance/452888</td>\n",
       "      <td>«Яндекс» подал заявление на ликвидацию структу...</td>\n",
       "      <td>economy</td>\n",
       "      <td>vcnews</td>\n",
       "    </tr>\n",
       "    <tr>\n",
       "      <th>35209</th>\n",
       "      <td>2022-06-29 18:30:11</td>\n",
       "      <td>Глава департамента предпринимательства Москвы ...</td>\n",
       "      <td>Глава департамента предпринимательства Москвы ...</td>\n",
       "      <td>https://go.the.tj/HPF6CE</td>\n",
       "      <td>Следить за новостями о новых мерах поддержки б...</td>\n",
       "      <td>economy</td>\n",
       "      <td>vcnews</td>\n",
       "    </tr>\n",
       "    <tr>\n",
       "      <th>35208</th>\n",
       "      <td>2022-06-29 18:15:52</td>\n",
       "      <td>Шведская компания Sandvik решила уйти из России</td>\n",
       "      <td>Минтранс заключил договоры с 20 авиакомпаниями...</td>\n",
       "      <td>vc.ru/finance/452252</td>\n",
       "      <td>Продолжаем следить за новостями:  — Минтранс з...</td>\n",
       "      <td>economy</td>\n",
       "      <td>vcnews</td>\n",
       "    </tr>\n",
       "    <tr>\n",
       "      <th>35207</th>\n",
       "      <td>2022-06-29 18:05:25</td>\n",
       "      <td>Закон об отзыве лицензии у СМИ за «фейки» прин...</td>\n",
       "      <td>Эксперты отмечают, что закон об отзыве лицензи...</td>\n",
       "      <td>vc.ru/legal/452811</td>\n",
       "      <td>Госдума во втором чтении одобрила законопроект...</td>\n",
       "      <td>society</td>\n",
       "      <td>vcnews</td>\n",
       "    </tr>\n",
       "    <tr>\n",
       "      <th>18002</th>\n",
       "      <td>2022-06-29 17:43:56</td>\n",
       "      <td>В Перуанском лесу обнаружен новый вид амфибий</td>\n",
       "      <td>В перуанском лесу обнаружен новый вид амфибий ...</td>\n",
       "      <td>https://nplus1.ru/news/2022/06/29/rhinella-una...</td>\n",
       "      <td>Иногда чтобы открыть новый вид животных, зооло...</td>\n",
       "      <td>science</td>\n",
       "      <td>nplusone</td>\n",
       "    </tr>\n",
       "    <tr>\n",
       "      <th>35206</th>\n",
       "      <td>2022-06-29 16:37:31</td>\n",
       "      <td>«ВКонтакте» тестирует верификацию страниц госо...</td>\n",
       "      <td>«ВКонтакте» тестирует верификацию страниц госо...</td>\n",
       "      <td>vc.ru/social/452700</td>\n",
       "      <td>Минцифры и «ВКонтакте» тестируют верификацию с...</td>\n",
       "      <td>society</td>\n",
       "      <td>vcnews</td>\n",
       "    </tr>\n",
       "    <tr>\n",
       "      <th>35205</th>\n",
       "      <td>2022-06-29 16:27:11</td>\n",
       "      <td>В «ВКонтакте» распространяют анонимные посты с...</td>\n",
       "      <td>В городских пабликах во «ВКонтакте» распростра...</td>\n",
       "      <td>vc.ru/marketing/452730</td>\n",
       "      <td>В городских пабликах во «ВКонтакте» распростра...</td>\n",
       "      <td>society</td>\n",
       "      <td>vcnews</td>\n",
       "    </tr>\n",
       "    <tr>\n",
       "      <th>35204</th>\n",
       "      <td>2022-06-29 15:56:08</td>\n",
       "      <td>«Новые решения» получили контроль над сервисам...</td>\n",
       "      <td>«Новые решения» получили контроль над сервисам...</td>\n",
       "      <td>vc.ru/services/452662</td>\n",
       "      <td>Новый владелец «СберЗвука», Okko, SberCloud и ...</td>\n",
       "      <td>society</td>\n",
       "      <td>vcnews</td>\n",
       "    </tr>\n",
       "    <tr>\n",
       "      <th>63325</th>\n",
       "      <td>2022-06-29 15:05:30</td>\n",
       "      <td>Губернатор Белгородской области перестал инфор...</td>\n",
       "      <td>Губернатор Белгородской области Вячеслав Гладк...</td>\n",
       "      <td>https://t.me/vvgladkov/500</td>\n",
       "      <td>Губернатор Белгородской области Вячеслав Гладк...</td>\n",
       "      <td>society</td>\n",
       "      <td>meduzalive</td>\n",
       "    </tr>\n",
       "    <tr>\n",
       "      <th>63324</th>\n",
       "      <td>2022-06-29 15:02:51</td>\n",
       "      <td>Губернатор Брянской области сообщил о сбитом у...</td>\n",
       "      <td>Губернатор Брянской области Александр Богомаз ...</td>\n",
       "      <td>https://t.me/avbogomaz/570</td>\n",
       "      <td>Губернатор Брянской области Александр Богомаз ...</td>\n",
       "      <td>society</td>\n",
       "      <td>meduzalive</td>\n",
       "    </tr>\n",
       "  </tbody>\n",
       "</table>\n",
       "</div>"
      ],
      "text/plain": [
       "                     date                                              title  \\\n",
       "35212 2022-06-29 19:23:40  «Яндекс» подал заявление на ликвидацию структу...   \n",
       "35209 2022-06-29 18:30:11  Глава департамента предпринимательства Москвы ...   \n",
       "35208 2022-06-29 18:15:52    Шведская компания Sandvik решила уйти из России   \n",
       "35207 2022-06-29 18:05:25  Закон об отзыве лицензии у СМИ за «фейки» прин...   \n",
       "18002 2022-06-29 17:43:56      В Перуанском лесу обнаружен новый вид амфибий   \n",
       "35206 2022-06-29 16:37:31  «ВКонтакте» тестирует верификацию страниц госо...   \n",
       "35205 2022-06-29 16:27:11  В «ВКонтакте» распространяют анонимные посты с...   \n",
       "35204 2022-06-29 15:56:08  «Новые решения» получили контроль над сервисам...   \n",
       "63325 2022-06-29 15:05:30  Губернатор Белгородской области перестал инфор...   \n",
       "63324 2022-06-29 15:02:51  Губернатор Брянской области сообщил о сбитом у...   \n",
       "\n",
       "                                              short_news  \\\n",
       "35212  «Яндекс» подал заявление на ликвидацию структу...   \n",
       "35209  Глава департамента предпринимательства Москвы ...   \n",
       "35208  Минтранс заключил договоры с 20 авиакомпаниями...   \n",
       "35207  Эксперты отмечают, что закон об отзыве лицензи...   \n",
       "18002  В перуанском лесу обнаружен новый вид амфибий ...   \n",
       "35206  «ВКонтакте» тестирует верификацию страниц госо...   \n",
       "35205  В городских пабликах во «ВКонтакте» распростра...   \n",
       "35204  «Новые решения» получили контроль над сервисам...   \n",
       "63325  Губернатор Белгородской области Вячеслав Гладк...   \n",
       "63324  Губернатор Брянской области Александр Богомаз ...   \n",
       "\n",
       "                                              first_link  \\\n",
       "35212                               vc.ru/finance/452888   \n",
       "35209                           https://go.the.tj/HPF6CE   \n",
       "35208                               vc.ru/finance/452252   \n",
       "35207                                 vc.ru/legal/452811   \n",
       "18002  https://nplus1.ru/news/2022/06/29/rhinella-una...   \n",
       "35206                                vc.ru/social/452700   \n",
       "35205                             vc.ru/marketing/452730   \n",
       "35204                              vc.ru/services/452662   \n",
       "63325                         https://t.me/vvgladkov/500   \n",
       "63324                         https://t.me/avbogomaz/570   \n",
       "\n",
       "                                                raw_news category      agency  \n",
       "35212  «Яндекс» подал заявление на ликвидацию структу...  economy      vcnews  \n",
       "35209  Следить за новостями о новых мерах поддержки б...  economy      vcnews  \n",
       "35208  Продолжаем следить за новостями:  — Минтранс з...  economy      vcnews  \n",
       "35207  Госдума во втором чтении одобрила законопроект...  society      vcnews  \n",
       "18002  Иногда чтобы открыть новый вид животных, зооло...  science    nplusone  \n",
       "35206  Минцифры и «ВКонтакте» тестируют верификацию с...  society      vcnews  \n",
       "35205  В городских пабликах во «ВКонтакте» распростра...  society      vcnews  \n",
       "35204  Новый владелец «СберЗвука», Okko, SberCloud и ...  society      vcnews  \n",
       "63325  Губернатор Белгородской области Вячеслав Гладк...  society  meduzalive  \n",
       "63324  Губернатор Брянской области Александр Богомаз ...  society  meduzalive  "
      ]
     },
     "execution_count": 395,
     "metadata": {},
     "output_type": "execute_result"
    }
   ],
   "source": [
    "db.head(10)"
   ]
  },
  {
   "cell_type": "code",
   "execution_count": 398,
   "metadata": {
    "pycharm": {
     "name": "#%%\n"
    }
   },
   "outputs": [
    {
     "data": {
      "text/plain": [
       "meduzalive    19\n",
       "vcnews        16\n",
       "TJournal      10\n",
       "nplusone      10\n",
       "rbc_sport     10\n",
       "vedomosti     10\n",
       "rozetked       8\n",
       "VwordMedia     8\n",
       "now_ka         8\n",
       "addmeto        7\n",
       "ohmypain       3\n",
       "Name: agency, dtype: int64"
      ]
     },
     "execution_count": 398,
     "metadata": {},
     "output_type": "execute_result"
    }
   ],
   "source": [
    "db.agency.value_counts()"
   ]
  },
  {
   "cell_type": "code",
   "execution_count": 399,
   "metadata": {
    "pycharm": {
     "name": "#%%\n"
    }
   },
   "outputs": [
    {
     "data": {
      "text/plain": [
       "society       55\n",
       "science       16\n",
       "economy       14\n",
       "technology    13\n",
       "sports        10\n",
       "other          1\n",
       "Name: category, dtype: int64"
      ]
     },
     "execution_count": 399,
     "metadata": {},
     "output_type": "execute_result"
    }
   ],
   "source": [
    "db.category.value_counts()"
   ]
  },
  {
   "cell_type": "code",
   "execution_count": 408,
   "metadata": {
    "pycharm": {
     "name": "#%%\n"
    }
   },
   "outputs": [
    {
     "name": "stdout",
     "output_type": "stream",
     "text": [
      "«Яндекс» подал заявление на ликвидацию структуры в Ирландии\n",
      "Глава департамента предпринимательства Москвы Алексей Фурсин в прямом эфире отвечает на вопросы предпринимателей\n",
      "Шведская компания Sandvik решила уйти из России\n",
      "Закон об отзыве лицензии у СМИ за «фейки» принят во втором чтении\n",
      "В Перуанском лесу обнаружен новый вид амфибий\n",
      "«ВКонтакте» тестирует верификацию страниц госорганизаций через Госуслуги\n",
      "В «ВКонтакте» распространяют анонимные посты с рекомендацией есть кошачий корм «365 дней» на гарнир\n",
      "«Новые решения» получили контроль над сервисами «СберЗвука», Okko, SberCloud и ЦРТ\n",
      "Губернатор Белгородской области перестал информировать население о происшествиях на границе с Украиной\n",
      "Губернатор Брянской области сообщил о сбитом украинском беспилотнике\n",
      "Основатель Virgin Galactic изучил возможности реконструкции аэродрома «Антонов»\n",
      "Российская авиация нанесла ракетный удар по Одесской области\n",
      "Зеленский выступил на саммите НАТО с призывом «помочь Украине закончить войну победой на поле боя»\n",
      "В IKEA началась закрытая распродажа для сотрудников\n",
      "Nokian Tyres может продолжить операционную деятельность в России\n",
      "Госдума приняла закон об «иноагентах»\n",
      "В Беларуси завершилось расследование по первому делу «рельсовых партизан»\n",
      "В США массово удаляют приложения для отслеживания менструального цикла\n",
      "Силуанов: США готовы пожертвовать частью сырьевых сверхдоходов для стабилизации рубля\n",
      "В Госдуме предложили «смягчить» наказание СМИ за публикацию фейков\n",
      "В Херсонской области открывается первое отделение Промсвязьбанка\n",
      "Evraz не будет покупать «Спартак»\n",
      "Ник Кирьос плюнул в сторону фаната во время матча на Уимблдоне\n",
      "«Литрес» запустил подписку на аудиокниги\n",
      "Курс доллара может опуститься до 50,2 рублей\n",
      "«Яндекс Погода» выходит на международный рынок\n",
      "Блогерша Инса Ландер, обвиняемая в терроризме, уехала в Литву\n",
      "В Москве пройдет вебинар об организации клиентского сервиса с помощью платформы ELMA ChatDesk\n",
      "«Яндекс.Погода» начинает работать с зарубежными компаниями\n",
      "Около 30 тысяч машин сняли на складах в Подмосковье\n",
      "Польша включила симулятор выживания This War of Mine в школьную программу\n",
      "Мосбиржа открылась с повышением курса доллара до 51,50 руб.\n",
      "С 1 октября все банки разрешат клиентам ограничивать онлайн-операции\n",
      "«Роскосмос» сообщил о DDoS-атаке на свой сайт\n",
      "На картах отметят удобные маршруты для людей с инвалидностью\n",
      "Российские сервисы по ремонту вынуждены разбирать на запчасти новые гаджеты\n",
      "В Курской области опубликовали фото сбитого украинского беспилотника\n",
      "Институт изучения войны о ситуации в Донбассе за последние 24 часа\n",
      "В Siemens отвергли обвинения «Газпрома» в сокращении поставок по «Северному потоку»\n",
      "Норвегия не разрешила тресту «Арктикуголь» привезти в Баренцбург продукты для российских шахтеров\n",
      "В Херсонской области готовятся к проведению референдума о присоединении к России\n",
      "Сервисные центры начали разбирать новые и подержанные устройства\n",
      "Утренняя сводка Генштаба ВСУ — на Волынском и Полесском направлениях идет проверка боевой готовности ВСУ\n",
      "Евросоюзу потребуется более трех лет, чтобы компенсировать остановку поставок газа из России\n",
      "В Днепропетровской области в результате обстрела автотранспортного предприятия погибли два человека\n",
      "Астрономы впервые нашли изопропанол и его изомер пропанол-1 в межзвездной среде\n",
      "В результате обстрела многоэтажки в Николаеве погибли два человека\n",
      "Флаги КНР и Гонконга украшают жилой дом\n",
      "Что будет с ценами на российское золото в 2023 году?\n",
      "Ничушкин играл в финале Кубка Стэнли с переломом ноги\n",
      "Утро среды: Kraftway анонсировал запуск производства микрочипов в 2023 году, в России стало больше мошеннических сайтов, в России стало больше мошеннических сайтов\n",
      "Интернет Archive оштрафовали на 800 тысяч рублей за неудаление запрещённых материалов\n",
      "Турция возглавила список стран по спросу на жилье у состоятельных россиян, Турция возглавила список стран по спросу на жилье у состоятельных россиян\n",
      "Рафаэль Надаль обыграл Серундоло в четырех сетах Уимблдона\n",
      "Bull разорвала контракт с Випсом из-за расистского высказывания в интернете\n",
      "США и Финляндия отказались поддерживать Курдскую партию\n",
      "Ига Свёнтек одержала 36-й победу подряд на турнире Уимблдона\n",
      "Названы самые дорогие футболисты мира в разных возрастных группах\n",
      "Airbnb запретила проводить вечеринки в арендуемом жилье\n",
      "Цифровой полис ОМС можно будет оформить с 1 декабря\n",
      "Интернет Archive оштрафовали на 800 тысяч рублей за неудаление запрещённых материалов\n",
      "Ализе Корне вышла во второй круг Уимблдона\n",
      "Голосовой помощник «Тинькофф банка» заблокировал карту клиента\n",
      "G7 пообещала новые «суровые и немедленные» меры против России\n",
      "ЦБ объявил о запрете на переводы и выдачу онлайн-кредитов\n",
      "Майнеры биткоинов распродают запасы криптовалюты из-за падения её стоимости\n",
      "Чилийская компания случайно выплатила сотруднику 286 месячных зарплат за раз\n",
      "Кирилл Дозмаров: IKEA — символ российской антимонопольной службы\n",
      "В Якутии найден шерстистый мамонтенок\n",
      "В Луну врезалась неизвестная ракета\n",
      "Екатеринбургец продавал читы для World of Tanks и World of Warships на 670 млн рублей\n",
      "«Сбер» перевёл банкоматы на собственное программное обеспечение\n",
      "Альберт Демченко отказался от участия в отчетно-выборной конференции ФБР\n",
      "Nokian Tyres объявил о контролируемом уходе из российского рынка\n",
      "Эксперты объяснили, почему Китай не выручает\n",
      "Веррати ограбили на €3 млн во время отдыха в доме Роналдо\n",
      "Британская компания Diageo уходит из России\n",
      "В Госдуме предложили создать российский игровой движок для шутера Atomic Heart\n",
      "СМИ: Nothing Phone выйдет в трёх конфигурациях и двух цветах\n",
      "«Тwitch, Pinterest, AirBnB и UPS» оштрафованы за отказ хранить персональные данные россиян в России\n",
      "Откуда берутся странные аллергии?\n",
      "В Клондайке нашли мумию мамонтенка\n",
      "Дислексия помогла человечеству адаптироваться к изменчивым условиям окружающей среды\n",
      "В Южной Африке найден череп австралопитека Sts-5\n",
      "Астрономы впервые проследили процесс разрушения и фрагментации кометы 323P/SOHO\n",
      "Умерла астрономка, открывшая туманность «Конская голова»\n",
      "Черепахи достигли почтенного возраста в 190 лет\n",
      "Астрономы отыскали астероид 2019 OK менее чем за сутки до близкого пролета мимо Земли\n",
      "Ученые создали функциональный цитоскелет клетки из ДНК\n",
      "В США запретили отправлять по почте детей весом до 5 кг\n",
      "Физики почувствовали концерт Rammstein\n",
      "Ученые нашли следы азота из зубной эмали мегалодона\n",
      "Маск предоставил еще больше данных, включая риалтайм доступ к API\n",
      "Китай планирует построить космическую станцию длиной более километра\n",
      "ЦБ снизил максимальную ставку по вкладам в 10 банках-лидерах\n",
      "В преддверии новогодних праздников курс доллара может упасть до 55 рублей\n",
      "Астрономы обнаружили «голубые капли»\n",
      "Путин прокомментировал длинные заметки в Твиттере\n",
      "PornHub покинули сразу два топа, причем какие!\n",
      "Россияне в мае принесли в банки валюты на $2,2 млрд\n",
      "В сети появился новый форум стандартов для метавселенных Metaverse Standards Forum\n",
      "Борис Минаев – о первом и последнем госсекретаре России, который мог модерировать «гражданскую войну»\n",
      "В Южной Корее запретили покидать страну десяткам сотрудников Terraform Labs\n",
      "На западе Украины возрастает риск вспышки полиомиелита\n",
      "Колонка Сергея Чапнина об отставке митрополита Илариона – на сайте VPost\n",
      "Тренировка в виртуальной реальности может снизить психосоциальный стресс и тревогу\n",
      "Ученые обнаружили молодую планету с массой Юпитера\n",
      "Ученые нашли новый способ лечения хронической боли\n",
      "На острове Уайт обнаружен крупнейший в Европе сухопутный хищник\n"
     ]
    }
   ],
   "source": [
    "for el in db['title']:\n",
    "    print(el)"
   ]
  },
  {
   "cell_type": "code",
   "execution_count": 409,
   "metadata": {
    "pycharm": {
     "name": "#%%\n"
    }
   },
   "outputs": [
    {
     "name": "stdout",
     "output_type": "stream",
     "text": [
      "«Яндекс» подал заявление на ликвидацию структуры в Ирландии, которую зарегистрировал в январе 2022 года. Так компания хотела получить налоговые льготы, рассказал источник «Коммерсанта». Но от идеи отказались — чтобы «никого не провоцировать».\n",
      "Глава департамента предпринимательства Москвы Алексей Фурсин в прямом эфире отвечает на вопросы предпринимателей в телеграм-канале Алексея Фурсина. Напоминает о дедлайнах подачи заявок на гранты и отчитывается о проделанной работе. Например, в июне активно рассказывал о деловой составляющей Moscow Fashion Week.\n",
      "Минтранс заключил договоры с 20 авиакомпаниями о субсидировании возврата денег пассажирам за отменённые после 24 февраля рейсы на общую сумму 16,9 млрд рублей; Шведская компания Sandvik, которая занимается инжинирингом в горнодобывающей отрасли, решила уйти из России.\n",
      "Эксперты отмечают, что закон об отзыве лицензии у СМИ за «фейки» будет принят во втором чтении. Теперь это будут делать не сразу — за первое нарушение работу СМИ приостановят на три месяца, за второе — на полгода.\n",
      "В перуанском лесу обнаружен новый вид амфибий — мелких буроватых жаб из рода Rhinella, маскирующихся под сухие листья. Они предпочитают тропические леса, растущие на белых песках и на небольшой высоте. Это не первый случай, когда ученый Роммель Рохас открывает новый вид животных на территории университета. Несколько лет назад, во время учебы в аспирантуре Федерального университета Амазонас в бразильском Манаусе, он обнаружил на территории его кампуса неизвестный ранее вид жаб, который получил название Amazophrynella manaos.\n",
      "«ВКонтакте» тестирует верификацию страниц госорганизаций в соцсети через Госуслуги. Функция доступна школам, больницам и органам власти. А в будущем, например, со страницы поликлиники в «ВКонтакте» можно будет записаться к врачу vc.ru/social/452700.\n",
      "В городских пабликах во «ВКонтакте» распространяют анонимные посты с рекомендацией есть кошачий корм «365 дней» на гарнир — авторы считают, что это «выход» на фоне экономического кризиса. Кто распространяет записи, неизвестно, но под подозрением «Лента» — владелец марки «365 дней».\n",
      "«Новые решения» получили контроль над сервисами «СберЗвука», Okko, SberCloud и ЦРТ после попадания «Сбера» под санкции США. Официально ограничения связаны с «получением выгоды от правительства России в секторе информационных технологий» vc.ru/services/452662.\n",
      "Губернатор Белгородской области Вячеслав Гладков перестал информировать население о происшествиях на границе региона с Украиной. За май Гладков опубликовал в Telegram 38 постов об обстрелах, гибели людей, восстановлении домов и опровержений.\n",
      "Губернатор Брянской области Александр Богомаз сообщил о сбитом украинском беспилотнике в приграничном селе Случевск Погарского района. Накануне глава Курской области заявлял о подбитом БПЛА «Стриж» Ту-141, произведенном еще в советское время.\n",
      "Основатель компании Virgin Galactic Ричард Брэнсон посетил аэродром «Антонов» и изучил возможности его реконструкции. В результате обстрела аэродрома был уничтожен самый большой в мире самолет «Мрия», существовавший в единственном экземпляре.\n",
      "Российская стратегическая авиация нанесла ракетный удар по Одесской области. По данным украинских военных, ракета воздушного базирования Х-22 была выпущена с бомбардировщика Ту-22 по направлению к Черному морю, ее нейтрализовали силы ПВО над полями Одесского района. Разрушений и пострадавших в результате инцидента нет.\n",
      "Президент Украины Владимир Зеленский выступил на саммите НАТО в Мадриде с призывом «помочь Украине сейчас закончить эту войну победой на поле боя». По словам украинского лидера, поддержать именно Украину и сейчас оружием, финансами и политически, такими санкциями против России, которые остановят ее способность оплачивать войну, — это абсолютная необходимость.\n",
      "В IKEA начала закрытую распродажу для сотрудников. Купленные на ней товары запретили перепродавать. По правилам магазина, сотрудники не могут закупаться оптом и приобретать товары для последующей перепродажи. Но эти правила им не помешали https://mdza.io/ZxJbc3FUBQY.\n",
      "Nokian Tyres может продолжить операционную деятельность в России в автономном режиме. 28 июня компания сообщила, что покинет российский рынок.\n",
      "Госдума приняла в третьем чтении закон об «иностранных агентах». Он позволяет объявлять «иноагентами» всех, кто получает поддержку из-за рубежа или находится «под иностранным влиянием в иных формах» и при этом не получает иностранное финансирование, как сейчас.\n",
      "В Беларуси завершилось расследование по первому делу «рельсовых партизан». Троих мужчин обвиняют в терроризме на железной дороге. По вменяемым статьям им грозит высшая мера наказания — смертная казнь.\n",
      "В США массово удаляют приложения, которые помогают отслеживать менструальный цикл. Люди боятся, что власти узнают об аборте. Но у полиции остается много других способов преследовать за незаконный аборт.\n",
      "States готовы пожертвовать частью сырьевых сверхдоходов для стабилизации рубля. Об этом заявил глава Минфина Антон Силуанов. По его словам, это последняя мера из «тяжелой артиллерии».\n",
      "В Госдуме предложили «смягчить» наказание СМИ за публикацию фейков. Согласно новой версии законопроекта, генпрокуратура сможет приостановить лицензию СМИ на три месяца, если издание опубликует информацию, признанную российскими властями недостоверной.\n",
      "Открывается первое отделение Промсвязьбанка в Херсонской области. В регионе будут доступны все услуги, которые оказывает банк на территории России, отметил глава военно-гражданской администрации области Владимир Сальдо.\n",
      "Российский футбольный концерн Evraz не будет покупать московский «Спартак». По словам представителя компании, Evraz не рассматривает какие-либо сделки по приобретению спортивных команд или клубов.\n",
      "Форвард сборной Австралии Ник Кирьос плюнул в сторону фаната во время матча на Уимблдоне. Австралиец заявил, что во время встречи первого круга против британца Пола Джубба зрители на трибунах его постоянно оскорбляли. За свое поведение Кирьосу теперь может грозить штраф.\n",
      "«Литрес» запустил подписку на аудиокниги. В каталог по подписке вошло более 190 000 цифровых произведений, включая новинки и бестселлеры. Стоимость подписки в месяц составит 399 рублей.\n",
      "В ближайшее время курс доллара может опуститься до 50,2 рублей, евро — до 52,89 рублей. При этом министр финансов Антон Силуанов не исключил проведение Минфином валютных интервенций для ослабления рубля. Так как нынешний курс не выгоден для бюджета.\n",
      "«Яндекс Погода» выходит на международный рынок: компания будет предлагать свои решения на основе технологии гиперлокального прогноза погоды зарубежному бизнесу. Первыми станут Мексика и Бразилия vc.ru/services/452357\n",
      "Российская Блогерша Инса Ландер, обвиняемая в содействии терроризму из-за переписки об исламе во «ВКонтакте», после 15-дневного ожидания на грузинской границе уехала в Литву. Пограничники отказывались пропускать девушку на территорию страны из-за возбуждённого против неё в России уголовного дела.\n",
      "В Москве 7 июля состоится вебинар об организации клиентского сервиса с помощью платформы ELMA ChatDesk vc.ru/449744 Специалисты расскажут о преимуществах сервиса, как использовать информацию о клиенте, повысить LTV и построить эффективную работу с обращениями из мессенджеров и почты.\n",
      "«Яндекс.Погода» начинает работать с зарубежными компаниями. Технологию прогноза погоды Meteum собираются применить в разных странах. Первыми станут Мексика и Бразилия.\n",
      "дилеры сняли около 30 тысяч машин на складах в Подмосковье. Это новые Kia и Hyundai калининградской сборки, Mercedes-Benz, Haval и Geely. Но некоторые дилеры говорят о дефиците и продают по завышенным ценам. Поставки иностранных машин ограничены, поэтому запасы можно продавать «бесконечно».\n",
      "Польша включила симулятор выживания This War of Mine во внеклассную школьную программу. Все желающие теперь могут скачать его с сайта правительства страны. Для учителей власти подготовили 62-страничную информационную брошюру и план уроков, посвящённых демонстрации жизни в оккупированном городе на примере игры.\n",
      "В пятницу Мосбиржа открылась с повышением курса доллара до 51,50 руб. (-0,30 руб.) 🔺 Нефть Brent – $117,09 за барр. (+$0,09) 🔻 Индекс Мосбиржи – 2 384 (-1,02%) 🔺 Индекс РТС – 1 486 (+1,39%) ⬆️ Лидеры роста (0,26-1,96%): Сургутнефтегаз, Газпром, Лукойл ⬇️ Лидеры падения (0,82-1,63%) депозитарные расписки TCS, Сбербанк, Алроса, Татнефть, Норникель @vedomosti.\n",
      "С 1 октября все российские банки разрешат клиентам ограничивать или запрещать онлайн-операции. Мера актуальна для людей, наиболее подверженных влиянию кибермошенников, считает регулятор.\n",
      "«Роскосмос» сообщает о DDoS-атаке на свой сайт Накануне госкорпорация опубликовала спутниковые снимки и координаты «центров принятия решений, поддерживающих украинских националистов». Как утверждалось, это было сделано «на всякий случай» в преддверии саммита НАТО.\n",
      "На картах отметят удобные маршруты для людей с инвалидностью К концу 2024 года Минцифры вместе с Общественной палатой запустит рейтинг доступности объектов инфраструктуры для инвалидов. Его могут интегрировать в картографические сервисы.\n",
      "Российские сервисы по ремонту вынуждены разбирать на запчасти новые гаджеты и использовать детали подержанных устройств, сообщает « Коммерсант». Кроме того, ожидается рост сроков ремонта как минимум вдвое: технику, ввезённую по параллельному импорту, придется отправлять в страны исходного назначения, поскольку по требованиям производителя гарантийное обслуживание должно осуществляться в этих странах.\n",
      "В Курской области опубликовали фото сбитого накануне беспилотника. По данным Романа Старовойта, это украинский «Стриж» Ту-141, произведенный в СССР.\n",
      "Сводка Института изучения войны о ситуации в Донбассе за последние 24 часа — Российские войска продолжали штурм к югу и юго-западу от Лисичанска. Представители самопровозглашенной ЛНР заявляют, что украинские силы начали отход от города, но ISW не может подтвердить эти заявления.\n",
      "В Siemens отвергли обвинения «Газпрома» в сокращении поставок из-за ремонта турбин «Северного потока» и назвали «очень удобным» заявление «Газпрома», что поставки газа в Германию по «Северному потоку» упали, потому что компания не вернула после ремонта турбину для трубопровода.\n",
      "Норвегия не разрешила тресту «Арктикуголь» привезти в Баренцбург продовольственные товары для российских шахтеров. По мнению вице-спикера Совета Федерации Константина Косачева, это нарушает положения Парижского договора, определяющего международно-правовой статус архипелага Шпицберген.\n",
      "В Херсонской области готовятся к проведению референдума о присоединении к России. По словам назначенного РФ «замглавы военно-гражданской администрации области» Кирилла Стремоусова, регион примет решение и присоединится к России, станет полноценным субъектом, который сможет быть как одно единое государство.\n",
      "На фоне приостановки поставок запчастей сервисные центры начали разбирать новые и подержанные устройства и использовать их комплектующие для ремонта. Ситуация осложняется параллельным импортом, по гарантии технику надо будет отправлять в страну ввоза.\n",
      "Утренняя сводка Генштаба ВСУ — На Волынском и Полесском направлениях идет проверка боевой готовности Вооруженных сил Беларуси. Сохраняется угроза авиационных и ракетных ударов из Беларуси по Украине — На Северском направлении противник продолжает удерживать в приграничных районах в Брянской и Курской областях три батальонные тактические группы из состава 1-й танковой и 20-й общевойсковой армий и подразделений воздушно-десантных войск.\n",
      "Евросоюзу потребуется более трех лет, чтобы в условиях санкций компенсировать остановку поставок газа из России. Аналитики считают, что риску внезапного отключения газа наиболее подвержены Словакия, Венгрия и Чехия. Меньше всех пострадают Польша, Литва и Румыния.\n",
      "В Днепропетровской области в результате обстрела автотранспортного предприятия погибли два человека. Они не были военными, у них не было оружия. На месте взрыва специалисты обнаружили обломки ракеты «Калибр». Накануне враг направил в область шесть таких ракет, четыре из них наши военные сбили.\n",
      "Астрономы впервые нашли изопропанол и его изомер пропанол-1 в межзвездной среде. Это указывает на сходство химических процессов, которые формируют эти семейства молекул. Ученые считают, что пропанол рождается в ледяных оболочках пылинок в результате реакций фотодиссоциации между гидроксилом OH и пропиленом.\n",
      "В результате обстрела многоэтажки в Николаеве погибли два человека, еще трое местных жителей и один сотрудник службы по чрезвычайным ситуациям ранены. Как ранее сообщал мэр города Александр Сенкевич, обстрелу также подверглись местный стадион и военный объект. Взрывной волной были повреждены восемь многоэтажных жилых домов, в которых выбиты стекла.\n",
      "Специальный административный район Гонконга празднует 25-летие. На фото — флаги КНР и Гонконга украшают жилой дом. 1 июля отмечается 25-летие образования Специального административного района Гонконг.\n",
      "Минфин ждет роста поступлений от НДФЛ на богатых на 40% в 2023 году, а ФАС предложила привязать цены на газ в России к споту Но для этого сначала надо добиться ликвидности на биржевых торгах газом 📍Как эмбарго на российское золото отразится на рынке и золотодобытчиках Последствия не будут катастрофическими, с одной стороны, но и не подстегнут сильно внутренний спрос 📍Бывших школьников не возьмут на контракт в армию Соответствующие поправки сняты с голосования в Госдуме 📩 Дайджест всего cвежего номера мы ежедневно рассылаем на e-mail.\n",
      "ating.com опубликовал видеозапись финала Кубка Стэнли, в котором Валерий Ничушкин играл в финале с переломом ноги.\n",
      "Утро среды. Следим за новостями и текстами на фоне «спецоперации»: Kraftway анонсировал запуск производства микрочипов в 2023 году в партнёрстве с Китаем; в России стало больше мошеннических сайтов, которые обещают доставить посылки за рубеж; Сервисные центры начали использовать для ремонта техники запчасти из подержанных и новых устройств.\n",
      "В Internet Archive оштрафовали на 800 тысяч рублей за неудаление запрещённых материалов — это первый такой штраф для организации. Юрист просила ограничиться предупреждением и говорила о миссии Internet Archive. Судья признал, что Internet Archive и «Википедия» — «молодцы, но у нас вот так».\n",
      "Завершаем трансляцию новостей: — Национальный клиринговый центр разослал участникам рынка письмо с порядком действий на случай введения ограничений на иностранные валюты; — Турция возглавила список стран по спросу на жилье у состоятельных россиян; — The Bell разбирается, стоит ли покупать юань, как его контролирует Китай и какие у него перспективы на Мосбирже;\n",
      "Рафаэль Надаль, получивший второй номер посева, стартовал на Уимблдоне с победы над Франсиско Серундоло. Испанец обыграл аргентинца в четырех сетах, для этого одному из фаворитов турнира потребовалось более трех с половиной часов.\n",
      "Team «Формулы-1» Bull разорвала контракт с пилотом Юри Випсом. Поводом для этого стало расистское высказывание эстонского пилота во время стрима в интернете.\n",
      "States и Финляндия взяли на себя обязательство не поддерживать Рабочую партию Курдистана террористической организацией. Ранее Турция требовала от этих двух стран признать курдские организации террористической организацией и отказывались поддерживать их членство в НАТО.\n",
      "Российская теннисистка Ига Свёнтек в первом круге Уимблдона обыграла хорватку Яну Фетт. Для польской спортсменки эта победа стала 36-й подряд. Свёнтек превзошла достижение американки Винус Уильямс, которая 22 года назад одержала 35 побед подряд на турнирах серии WTA.\n",
      "На портале Transfermarkt опубликовали список самых дорогих футболистов мира в разных возрастных группах. Кто вошел в рейтинг — в материале РБК.\n",
      "Airbnb окончательно запретила проводить вечеринки в арендуемом жилье. Запрет ввели в августе 2020 года из-за пандемии Covid-19. Он оказался эффективным, поэтому компания решила его не отменять vc.ru/services/452162\n",
      "Цифровой полис ОМС можно будет оформить с 1 декабря. Технологии для работы цифрового полиса находятся в высокой степени готовности, внимание уделено защите сведений, в том числе персональных данных и медицинской информации участников ОМС, отметили в пресс-службе Федерального фонда обязательного медицинского страхования.\n",
      "В Internet Archive оштрафовали на 800 тысяч рублей за неудаление запрещённых материалов — это первый такой штраф для организации. Юрист просила ограничиться предупреждением и говорила о миссии Internet Archive. Судья признал, что Internet Archive и «Википедия» — «молодцы, но у нас вот так» vc.ru/legal/452147.\n",
      "Французская теннисистка Ализе Корне вышла во второй круг Уимблдона. В первом матче она обыграла представительницу Казахстана Юлию Путинцеву.\n",
      "Голосовой помощник «Тинькофф банка» Олег поговорил сам с собой по телефону — и заблокировал карту клиента. Теперь пользователи соцсетей шутят, что бот сможет так же оформлять кредиты или переводить деньги. Но для этого нужно подтверждение, а в этом случае блокировка произошла как раз из-за его отсутствия.\n",
      "В четверг G7 обсудила Седьмой пакет антироссийских санкций. Быстрые, а, главное, подготовленные решения закончились. Лидеры G7 пообещали новые «суровые и немедленные меры» против России, но... так ничего и не предложили, во всяком случае «немедленно».\n",
      "С 1 октября клиенты банков смогут сами устанавливать запрет на переводы или выдачу онлайн-кредитов, объявил ЦБ. Кроме того, можно будет ограничивать их максимальную сумму или лимит на определённый период. А банки обяжут подтверждать телефоны и почту своих клиентов.\n",
      "Майнеры биткоинов распродают запасы криптовалюты из-за падения её стоимости, роста цен на энергию и усиления конкуренции, которые сказываются на прибыльности. В том числе из-за этого монета может падать ещё сильнее.\n",
      "Чилийская компания случайно выплатила сотруднику 286 месячных зарплат за раз. Тот сам сообщил об ошибке — а потом исчез. В переводе на рубли, вместо примерно 30 тысяч работник получил 9,8 млн. Он пообещал вернуть лишнее через банк, но вместо чека в офис пришло заявление об увольнении.\n",
      "IKEA  как символ российской антимонопольной службы — это всего две проблемы в деятельности службы в России, считает юрист Кирилл Дозмаров: контроль цен и уход иностранцев с рынка. Развитие конкуренции, что должно быть основным смыслом антимонополной деятельности, упоминается Шаскольским только риторически, сетуют юристы.\n",
      "В Якутии найден шерстистый мамонтенок, которого прозвали Юка. Ученые выяснили, что это не самка, а самец.\n",
      "В Луну врезалась неизвестная ракета — никто на Земле не признается, чья она. Эксперты считают, что ракета связана с китайской лунной миссией 2014 года. Однако Китай это отрицает, говоря, что их ракета-носитель «благополучно вошла в атмосферу Земли и полностью сгорела».\n",
      "Гражданин Екатеринбурга признал свою вину в совершении киберпреступления в области игровой индустрии. Уроженец Екатеринбурга продавал читы для игр World of Tanks и World of Warships. Ущерб от действий обвиняемого оценивается в 670 млн рублей. Теперь ему грозит до 5 лет лишения свободы.\n",
      "«Сбер» перевёл банкоматы на собственное программное обеспечение. Инженеры кардинально перестроили архитектуру решений и пересмотрели процессы внутри сети.\n",
      "Российский бобслеист Альберт Демченко отказался от участия в отчетно-выборной конференции Федерации бобслея России, где избирался новый президент. В итоге главой ФБР единогласно избрали Анатолия Пегова.\n",
      "Nokian Tyres, крупнейший производитель шин в России, объявил о контролируемом уходе из российского рынка.\n",
      "Китай пока не выручает: он увеличил закупки сырья, но экспорт сократил на те же 40%, что и в прошлом году. По мнению экспертов, это связано с тем, что санкции против России работают с помощью Китая.\n",
      "Футболиста ПСЖ и сборной Италии Марко Веррати ограбили на €3 млн во время отдыха в доме Роналдо на Ибице.\n",
      "Британская компания Diageo, которая занимается производством алкогольных напитков под брендами Smirnoff, Johnnie Walker, Guinness, Baileys, Captain Morgan, уходит из России.\n",
      "Заместитель председателя комитета Госдумы по информационной политике и депутат Антон Горелкин предложил «в срочном порядке» создать российский игровой движок для шутера Atomic Heart. Ранее Горелкин упомянул шутер Atomic Heart от московской студии Mundfish, доступ к которому «в любой момент может быть прекращён», а «конкурентоспособных аналогов у России пока нет».\n",
      "По данным источников, Nothing Phone (1) будут продавать по цене от 397 долларов (~21 100 рублей). Аппарат выйдет в трёх конфигурациях (включая 12+256 ГБ) и двух цветах: чёрном и белом.\n",
      "«Тwitch, Pinterest, AirBnB и UPS за отказ хранить персональные данные россиян в России» — таковы последние новости из мира Толкиена: Московский суд оштрафовал эти компании за игнорирование закона.\n",
      "В мире существуют очень странные аллергии. Хотите узнать, откуда они берутся и у каких людей есть? Читайте в канале Health Buddy.\n",
      "В Клондайке нашли мумию мамонтенка. Она примерно такого же размера, что и известная 42-тысячелетняя мумия мамонтенка Любы, найденная на Ямале в 2007 году.\n",
      "Считается, что дислексия помогала человечеству выживать и адаптироваться к изменчивым условиям окружающей среды. Это работает потому что разные способы мышления у людей в одной группе дополняют друг друга. Дислексия встречается у 20% популяции и сейчас классифицируется как неврологическое расстройство. Удивительно сколько вещей мы называем расстройством просто потому что это не вписывается в общепринятую норму.\n",
      "В Южной Африке найден череп австралопитека Sts-5, датированный возрастом около 3,7–3,4 миллиона лет назад.\n",
      "Астрономы впервые проследили процесс разрушения и фрагментации периодической околосолнечной кометы 323P/SOHO. Это произошло из-за перегрева ядра кометы, при котором оно потеряло 0,1–10 процентов массы ядра.\n",
      "Скончалась американская астрономка Вильямина Флеминг, которая открыла туманность «Конская голова».\n",
      "Черепахи достигли почтенного возраста в 190 лет, выяснили американские ученые. Их скорость старения в этом возрасте равна нулю, а риск смерти у них растет с возрастом даже в неволе, где они защищены от хищников и получают корм и лечение.\n",
      "В июле 2019 года астрономы сделали неприятное открытие, отыскав астероид 2019 OK менее чем за сутки до близкого пролета мимо Земли. Они опубликовали результаты радиолокационных наблюдений за этим небесным телом. Определенный видимый диаметр 2019 OK составил от 70 до 130 метров, что в сочетании с абсолютной звездной величиной H = 23,3 дает значение оптического альбедо от 0,05 до 0,17.\n",
      "Ученые создали функциональный цитоскелет клетки из ДНК, который оставался стабильным в маленьких компартментах размером с клетку. Эта конструкция оказалась способна к управляемой сборке — на систему влиял АТФ. Под его воздействием трубочки собирались, а с добавлением его антагониста — разбирались.\n",
      "В США запретили отправлять по почте детей весом до 5 кг. Эта практика приобрела такой размах в некоторых штатах, что ее пришлось официально запретить и определить, что дети не являются «маленькими безвредными животными», которых можно было пересылать по почте.\n",
      "Физики, работающие на синхротроне DESY, сообщили, как их сейсмограф почувствовал концерт группы Rammstein. Примечательно, что это был не звук, а микроземлетрясение, состоящее из поперечных колебаний Жителю Камбоджи, который рыбачил на берегу Меконга, удалось выловить настоящего гиганта — пресноводного ската длиной около четырех метров и весом около 300 килограммов\n",
      "Маленький Мегалодон, вымерший около 3 миллионов лет назад, поедал все что хотел, включая других хищников, выяснили исследователи с помощью следов азота из зубной эмали мегалодона.\n",
      "Вслед за Твиттером Маск предоставил еще больше данных, включая риалтайм доступ к API. И это был по сути ответ на его претензию, что доступа к историческим данным недостаточно для оценки компании. Такое чувство, что это будет самый технологичный и одновременно самый маркетинговый процесс покупки компании.\n",
      "Китай прорабатывает возможность построения космической станции длиной более километра. И я, кстати, уверен, что Китай смог бы потянуть по бюджетам такой гигантский проект. Один только вопрос — как они столько массы собираются доставить на орбиту? Сейчас у всего человечества недостаточно ресурсов для такого масштаба.\n",
      "Средняя максимальная ставка по вкладам в 10 банках-лидерах по портфелю средств населения во второй декаде июня снизилась почти на процентный пункт – до 8,14% годовых, сообщил Центробанк. Такой же ставки были в первой декаде февраля, перед признанием ДНР и ЛНР и началом «спецоперации» на Украине. Ставки по вкладам падают вслед за ключевой – 10 июня ЦБ снизил ее на 150 пунктов до 9,5% годовых.\n",
      "В преддверии новогодних праздников курс доллара может упасть до 55 рублей за доллар. При этом эксперты считают, что в ближайшее время курс доллара вряд ли будет выше 70 рублей за американскую валюту.\n",
      "В звездной системе Астрономы обнаружены «голубые капли» — скопления молодых голубых звёзд, похожие на крошечные карликовые галактики, но находятся изолированно, так что определить материнскую галактику нет возможности.\n",
      "Президент России Владимир Путин провел встречу с главой Твиттера Владимиром Путиным, в ходе которой он прокомментировал длинные заметки в Твиттере.\n",
      "В мире большого айти очень серьезное потрясение: PornHub покинули сразу два топа, причем какие! — ушли операционный и исполнительный директоры. Все эти пертурбации происходят судя по всему из-за продолжающегося суда между MindGeek (разработчики сервиса) и несколькими моделями, представленными на сайте.\n",
      "Россияне в мае принесли в банки валюты на $2,2 млрд. При этом из 98 млрд руб. рублевого притока часть связана с выплатами на детей.\n",
      "В сети появился новый форум стандартов для метавселенных Metaverse Standards Forum. Задача форума — решать проблемы интероперабильности разных метаверсов, её считают ключевой для будущего виртуальных миров.\n",
      "Политолог Борис Минаев – о Геннадии Бурбулисе, первом и последнем госсекретаре России, который мог модерировать «гражданскую войну».\n",
      "В Южнокорейской прокуратуре запретили покидать страну нескольким десяткам сотрудников Terraform Labs. Причина — расследование и возможный суд вокруг крушения LUNA.\n",
      "На западе Украины возрастает риск вспышки полиомиелита в связи с началом войны. По словам ученых, ситуация усугубилась из-за пандемии, войны и продолжающейся реформы здравоохранения.\n",
      "ging.ru – Колонка Сергея Чапнина об отставке митрополита Илариона – на сайте VPost.\n",
      "Тренировка в виртуальной реальности может снизить психосоциальный стресс и тревогу, выяснили японские ученые. Это означает, что люди с ограниченной подвижностью могут таким образом улучшить свое психическое самочувствие.\n",
      "Спутники далеких звезд Мозаика пыльных, вращающихся дисков показывает образец изображений, полученных международной обсерваторией Gemini в рамках беспрецедентного исследования 44 молодых массивных звезд. Ученые использовали телескоп в Чили для изучения формирования планет и обнаружили потенциальную молодую планету с массой Юпитера, а также подтвердили существование двух коричневых карликов.\n",
      "молекула в нервной системе может быть ключом к лечению хронической боли Исследователи открыли потенциально новый способ лечения хронической боли с помощью противораковых препаратов вместо обезболивающих на основе опиоидов.\n",
      "На острове Уайт обнаружен крупнейший в Европе сухопутный хищник. Палеонтологи идентифицировали останки одного из крупнейших в Европе наземных охотников: динозавра, длина которого составляла более 10 метров и который жил около 125 миллионов лет назад.\n"
     ]
    }
   ],
   "source": [
    "for el in db['short_news']:\n",
    "    print(el)"
   ]
  },
  {
   "cell_type": "code",
   "execution_count": 248,
   "metadata": {
    "pycharm": {
     "name": "#%%\n"
    }
   },
   "outputs": [
    {
     "data": {
      "text/plain": [
       "society       42\n",
       "science       14\n",
       "technology    12\n",
       "economy       11\n",
       "sports        10\n",
       "other          1\n",
       "Name: category, dtype: int64"
      ]
     },
     "execution_count": 248,
     "metadata": {},
     "output_type": "execute_result"
    }
   ],
   "source": [
    "df.category.value_counts()"
   ]
  },
  {
   "cell_type": "code",
   "execution_count": 252,
   "metadata": {
    "pycharm": {
     "name": "#%%\n"
    }
   },
   "outputs": [
    {
     "data": {
      "text/plain": [
       "TJournal      10\n",
       "rbc_sport     10\n",
       "vedomosti     10\n",
       "vcnews         9\n",
       "meduzalive     9\n",
       "rozetked       8\n",
       "nplusone       8\n",
       "VwordMedia     8\n",
       "now_ka         8\n",
       "addmeto        7\n",
       "ohmypain       3\n",
       "Name: agency, dtype: int64"
      ]
     },
     "execution_count": 252,
     "metadata": {},
     "output_type": "execute_result"
    }
   ],
   "source": [
    "df.agency.value_counts()"
   ]
  },
  {
   "cell_type": "code",
   "execution_count": 345,
   "metadata": {
    "pycharm": {
     "name": "#%%\n"
    }
   },
   "outputs": [],
   "source": [
    "db = pd.read_pickle('db.pkl')"
   ]
  },
  {
   "cell_type": "code",
   "execution_count": 413,
   "metadata": {
    "pycharm": {
     "name": "#%%\n"
    }
   },
   "outputs": [],
   "source": [
    "del(db)"
   ]
  },
  {
   "cell_type": "code",
   "execution_count": 443,
   "metadata": {
    "pycharm": {
     "name": "#%%\n"
    }
   },
   "outputs": [
    {
     "name": "stdout",
     "output_type": "stream",
     "text": [
      "Собираю rbc_sport...\n",
      "....... complited\n",
      "\n",
      "\n",
      "Собираю ohmypain...\n",
      "....... complited\n",
      "\n",
      "\n",
      "Собираю addmeto...\n",
      "....... complited\n",
      "\n",
      "\n"
     ]
    },
    {
     "data": {
      "text/html": [
       "<div>\n",
       "<style scoped>\n",
       "    .dataframe tbody tr th:only-of-type {\n",
       "        vertical-align: middle;\n",
       "    }\n",
       "\n",
       "    .dataframe tbody tr th {\n",
       "        vertical-align: top;\n",
       "    }\n",
       "\n",
       "    .dataframe thead th {\n",
       "        text-align: right;\n",
       "    }\n",
       "</style>\n",
       "<table border=\"1\" class=\"dataframe\">\n",
       "  <thead>\n",
       "    <tr style=\"text-align: right;\">\n",
       "      <th></th>\n",
       "      <th>date</th>\n",
       "      <th>title</th>\n",
       "      <th>short_news</th>\n",
       "      <th>first_link</th>\n",
       "      <th>raw_news</th>\n",
       "      <th>category</th>\n",
       "      <th>agency</th>\n",
       "    </tr>\n",
       "  </thead>\n",
       "  <tbody>\n",
       "    <tr>\n",
       "      <th>63382</th>\n",
       "      <td>2022-06-30 10:25:46</td>\n",
       "      <td>Вячеслав Володин прокомментировал вступление Ф...</td>\n",
       "      <td>Вячеслав Володин прокомментировал возможное вс...</td>\n",
       "      <td>https://t.me/vv_volodin/504</td>\n",
       "      <td>Вячеслав Володин прокомментировал возможное вс...</td>\n",
       "      <td>society</td>\n",
       "      <td>meduzalive</td>\n",
       "    </tr>\n",
       "    <tr>\n",
       "      <th>63381</th>\n",
       "      <td>2022-06-30 10:23:57</td>\n",
       "      <td>В Беларуси сорвали праздник для детей беженцев</td>\n",
       "      <td>В Беларуси сорвали праздник для детей украинск...</td>\n",
       "      <td>https://news.zerkalo.io/life/16948.html?tg</td>\n",
       "      <td>В Беларуси сорвали праздник для детей украинск...</td>\n",
       "      <td>society</td>\n",
       "      <td>meduzalive</td>\n",
       "    </tr>\n",
       "    <tr>\n",
       "      <th>22885</th>\n",
       "      <td>2022-06-30 10:22:09</td>\n",
       "      <td>Мосбиржа открылась с повышением курса доллара ...</td>\n",
       "      <td>В пятницу Мосбиржа открылась с повышением курс...</td>\n",
       "      <td>tg://resolve?domain=@vedomosti</td>\n",
       "      <td>Как открылась Мосбиржа  🔻 Курс доллара на 10:1...</td>\n",
       "      <td>economy</td>\n",
       "      <td>vedomosti</td>\n",
       "    </tr>\n",
       "    <tr>\n",
       "      <th>12985</th>\n",
       "      <td>2022-06-30 10:04:52</td>\n",
       "      <td>Xiaomi представит новый фитнес-браслет с увели...</td>\n",
       "      <td>В июле Xiaomi представит новый фитнес-браслет ...</td>\n",
       "      <td>https://rozetked.me/news/24218-xiaomi-ob-yavil...</td>\n",
       "      <td>Это Xiaomi Smart Band 7 Pro!  Презентация фитн...</td>\n",
       "      <td>technology</td>\n",
       "      <td>rozetked</td>\n",
       "    </tr>\n",
       "    <tr>\n",
       "      <th>63379</th>\n",
       "      <td>2022-06-30 10:04:07</td>\n",
       "      <td>В Москве появились билборды, прославляющие уча...</td>\n",
       "      <td>В Москве и других городах России появились бил...</td>\n",
       "      <td>https://tvzvezda.ru/news/2022317134-wtzsO.html</td>\n",
       "      <td>🤦‍♂️🔍 В Москве и других городах появились билб...</td>\n",
       "      <td>society</td>\n",
       "      <td>meduzalive</td>\n",
       "    </tr>\n",
       "    <tr>\n",
       "      <th>...</th>\n",
       "      <td>...</td>\n",
       "      <td>...</td>\n",
       "      <td>...</td>\n",
       "      <td>...</td>\n",
       "      <td>...</td>\n",
       "      <td>...</td>\n",
       "      <td>...</td>\n",
       "    </tr>\n",
       "    <tr>\n",
       "      <th>5713</th>\n",
       "      <td>2022-06-20 13:31:02</td>\n",
       "      <td>Колонка Сергея Чапнина об отставке митрополита...</td>\n",
       "      <td>ging.ru – Колонка Сергея Чапнина об отставке м...</td>\n",
       "      <td>https://vpost-media.ru/opinions/za-chto-patria...</td>\n",
       "      <td>Колонка Сергея Чапнина об отставке митрополита...</td>\n",
       "      <td>society</td>\n",
       "      <td>VwordMedia</td>\n",
       "    </tr>\n",
       "    <tr>\n",
       "      <th>242</th>\n",
       "      <td>2022-06-17 23:33:42</td>\n",
       "      <td>Тренировка в виртуальной реальности может сниз...</td>\n",
       "      <td>Тренировка в виртуальной реальности может сниз...</td>\n",
       "      <td>https://www.tohoku.ac.jp/en/press/training_vir...</td>\n",
       "      <td>🔋🧠💻 Тренировка в виртуальной реальности может ...</td>\n",
       "      <td>science</td>\n",
       "      <td>now_ka</td>\n",
       "    </tr>\n",
       "    <tr>\n",
       "      <th>241</th>\n",
       "      <td>2022-06-15 23:05:59</td>\n",
       "      <td>Ученые обнаружили молодую планету с массой Юпи...</td>\n",
       "      <td>Спутники далеких звезд Мозаика пыльных, вращаю...</td>\n",
       "      <td>https://noirlab.edu/public/news/noirlab2212/</td>\n",
       "      <td>🛸 Изображения с телескопа Gemini South в Чили ...</td>\n",
       "      <td>science</td>\n",
       "      <td>now_ka</td>\n",
       "    </tr>\n",
       "    <tr>\n",
       "      <th>239</th>\n",
       "      <td>2022-06-13 23:50:58</td>\n",
       "      <td>Ученые нашли новый способ лечения хронической ...</td>\n",
       "      <td>молекула в нервной системе может быть ключом к...</td>\n",
       "      <td>https://ucalgary.ca/news/ucalgary-researchers-...</td>\n",
       "      <td>💊🧠 Молекула в нервной системе может быть ключо...</td>\n",
       "      <td>science</td>\n",
       "      <td>now_ka</td>\n",
       "    </tr>\n",
       "    <tr>\n",
       "      <th>238</th>\n",
       "      <td>2022-06-10 23:45:26</td>\n",
       "      <td>На острове Уайт обнаружен крупнейший в Европе ...</td>\n",
       "      <td>На острове Уайт обнаружен крупнейший в Европе ...</td>\n",
       "      <td>https://www.southampton.ac.uk/news/2022/06/din...</td>\n",
       "      <td>🦕🌳 На острове Уайт обнаружен крупнейший в Евро...</td>\n",
       "      <td>science</td>\n",
       "      <td>now_ka</td>\n",
       "    </tr>\n",
       "  </tbody>\n",
       "</table>\n",
       "<p>155 rows × 7 columns</p>\n",
       "</div>"
      ],
      "text/plain": [
       "                     date                                              title  \\\n",
       "63382 2022-06-30 10:25:46  Вячеслав Володин прокомментировал вступление Ф...   \n",
       "63381 2022-06-30 10:23:57     В Беларуси сорвали праздник для детей беженцев   \n",
       "22885 2022-06-30 10:22:09  Мосбиржа открылась с повышением курса доллара ...   \n",
       "12985 2022-06-30 10:04:52  Xiaomi представит новый фитнес-браслет с увели...   \n",
       "63379 2022-06-30 10:04:07  В Москве появились билборды, прославляющие уча...   \n",
       "...                   ...                                                ...   \n",
       "5713  2022-06-20 13:31:02  Колонка Сергея Чапнина об отставке митрополита...   \n",
       "242   2022-06-17 23:33:42  Тренировка в виртуальной реальности может сниз...   \n",
       "241   2022-06-15 23:05:59  Ученые обнаружили молодую планету с массой Юпи...   \n",
       "239   2022-06-13 23:50:58  Ученые нашли новый способ лечения хронической ...   \n",
       "238   2022-06-10 23:45:26  На острове Уайт обнаружен крупнейший в Европе ...   \n",
       "\n",
       "                                              short_news  \\\n",
       "63382  Вячеслав Володин прокомментировал возможное вс...   \n",
       "63381  В Беларуси сорвали праздник для детей украинск...   \n",
       "22885  В пятницу Мосбиржа открылась с повышением курс...   \n",
       "12985  В июле Xiaomi представит новый фитнес-браслет ...   \n",
       "63379  В Москве и других городах России появились бил...   \n",
       "...                                                  ...   \n",
       "5713   ging.ru – Колонка Сергея Чапнина об отставке м...   \n",
       "242    Тренировка в виртуальной реальности может сниз...   \n",
       "241    Спутники далеких звезд Мозаика пыльных, вращаю...   \n",
       "239    молекула в нервной системе может быть ключом к...   \n",
       "238    На острове Уайт обнаружен крупнейший в Европе ...   \n",
       "\n",
       "                                              first_link  \\\n",
       "63382                        https://t.me/vv_volodin/504   \n",
       "63381         https://news.zerkalo.io/life/16948.html?tg   \n",
       "22885                     tg://resolve?domain=@vedomosti   \n",
       "12985  https://rozetked.me/news/24218-xiaomi-ob-yavil...   \n",
       "63379     https://tvzvezda.ru/news/2022317134-wtzsO.html   \n",
       "...                                                  ...   \n",
       "5713   https://vpost-media.ru/opinions/za-chto-patria...   \n",
       "242    https://www.tohoku.ac.jp/en/press/training_vir...   \n",
       "241         https://noirlab.edu/public/news/noirlab2212/   \n",
       "239    https://ucalgary.ca/news/ucalgary-researchers-...   \n",
       "238    https://www.southampton.ac.uk/news/2022/06/din...   \n",
       "\n",
       "                                                raw_news    category  \\\n",
       "63382  Вячеслав Володин прокомментировал возможное вс...     society   \n",
       "63381  В Беларуси сорвали праздник для детей украинск...     society   \n",
       "22885  Как открылась Мосбиржа  🔻 Курс доллара на 10:1...     economy   \n",
       "12985  Это Xiaomi Smart Band 7 Pro!  Презентация фитн...  technology   \n",
       "63379  🤦‍♂️🔍 В Москве и других городах появились билб...     society   \n",
       "...                                                  ...         ...   \n",
       "5713   Колонка Сергея Чапнина об отставке митрополита...     society   \n",
       "242    🔋🧠💻 Тренировка в виртуальной реальности может ...     science   \n",
       "241    🛸 Изображения с телескопа Gemini South в Чили ...     science   \n",
       "239    💊🧠 Молекула в нервной системе может быть ключо...     science   \n",
       "238    🦕🌳 На острове Уайт обнаружен крупнейший в Евро...     science   \n",
       "\n",
       "           agency  \n",
       "63382  meduzalive  \n",
       "63381  meduzalive  \n",
       "22885   vedomosti  \n",
       "12985    rozetked  \n",
       "63379  meduzalive  \n",
       "...           ...  \n",
       "5713   VwordMedia  \n",
       "242        now_ka  \n",
       "241        now_ka  \n",
       "239        now_ka  \n",
       "238        now_ka  \n",
       "\n",
       "[155 rows x 7 columns]"
      ]
     },
     "execution_count": 443,
     "metadata": {},
     "output_type": "execute_result"
    }
   ],
   "source": [
    "join_all(agency_list)"
   ]
  },
  {
   "cell_type": "code",
   "execution_count": 463,
   "metadata": {
    "pycharm": {
     "name": "#%%\n"
    }
   },
   "outputs": [
    {
     "data": {
      "text/plain": [
       "society          78\n",
       "economy          22\n",
       "technology       21\n",
       "science          16\n",
       "sports           11\n",
       "entertainment     6\n",
       "other             1\n",
       "Name: category, dtype: int64"
      ]
     },
     "execution_count": 463,
     "metadata": {},
     "output_type": "execute_result"
    }
   ],
   "source": [
    "db.category.value_counts()"
   ]
  },
  {
   "cell_type": "code",
   "execution_count": 464,
   "metadata": {
    "pycharm": {
     "name": "#%%\n"
    }
   },
   "outputs": [
    {
     "data": {
      "text/plain": [
       "meduzalive    27\n",
       "vcnews        23\n",
       "vedomosti     19\n",
       "TJournal      18\n",
       "rbc_sport     14\n",
       "rozetked      12\n",
       "VwordMedia    11\n",
       "nplusone      10\n",
       "addmeto        9\n",
       "now_ka         8\n",
       "ohmypain       4\n",
       "Name: agency, dtype: int64"
      ]
     },
     "execution_count": 464,
     "metadata": {},
     "output_type": "execute_result"
    }
   ],
   "source": [
    "db.agency.value_counts()"
   ]
  },
  {
   "cell_type": "code",
   "execution_count": 465,
   "metadata": {
    "pycharm": {
     "name": "#%%\n"
    }
   },
   "outputs": [],
   "source": [
    "agencies = [\n",
    "    'vcnews',\n",
    "    'nplusone',\n",
    "    'TJournal',\n",
    "    'vedomosti',\n",
    "    'VwordMedia',\n",
    "    'meduzalive',\n",
    "    'rozetked',\n",
    "    'now_ka',\n",
    "    'rbc_sport',\n",
    "    'ohmypain', \n",
    "    'addmeto']"
   ]
  },
  {
   "cell_type": "code",
   "execution_count": 468,
   "metadata": {
    "pycharm": {
     "name": "#%%\n"
    }
   },
   "outputs": [],
   "source": [
    "# schedule.every().day.at(\"07:00\").do(join_all, agency_list = agencies)\n",
    "# schedule.every().day.at(\"13:05\").do(join_all, agency_list = agencies)\n",
    "# schedule.every().day.at(\"17:12\").do(join_all, agency_list = agencies)\n",
    "# schedule.every().day.at(\"21:00\").do(join_all, agency_list = agencies)\n",
    "\n",
    "# while True:\n",
    "#     schedule.run_pending()\n",
    "#     time.sleep(1)"
   ]
  },
  {
   "cell_type": "code",
   "execution_count": 477,
   "metadata": {
    "pycharm": {
     "name": "#%%\n"
    }
   },
   "outputs": [],
   "source": [
    "db.to_csv('db.csv', encoding='utf-8')"
   ]
  },
  {
   "cell_type": "code",
   "execution_count": 509,
   "metadata": {
    "pycharm": {
     "name": "#%%\n"
    }
   },
   "outputs": [],
   "source": [
    "db = pd.read_pickle('db.pkl')"
   ]
  },
  {
   "cell_type": "code",
   "execution_count": 508,
   "metadata": {
    "pycharm": {
     "name": "#%%\n"
    }
   },
   "outputs": [],
   "source": [
    "schedule.clear()"
   ]
  },
  {
   "cell_type": "code",
   "execution_count": 560,
   "metadata": {
    "pycharm": {
     "name": "#%%\n"
    }
   },
   "outputs": [],
   "source": [
    "db.index.names = ['id_news']"
   ]
  },
  {
   "cell_type": "code",
   "execution_count": 511,
   "metadata": {
    "pycharm": {
     "name": "#%%\n"
    }
   },
   "outputs": [
    {
     "data": {
      "text/plain": [
       "society          147\n",
       "economy           44\n",
       "technology        36\n",
       "sports            20\n",
       "science           17\n",
       "entertainment     13\n",
       "other              1\n",
       "Name: category, dtype: int64"
      ]
     },
     "execution_count": 511,
     "metadata": {},
     "output_type": "execute_result"
    }
   ],
   "source": [
    "db.category.value_counts()"
   ]
  },
  {
   "cell_type": "code",
   "execution_count": 512,
   "metadata": {
    "pycharm": {
     "name": "#%%\n"
    }
   },
   "outputs": [
    {
     "data": {
      "text/plain": [
       "12993    «Обидно видеть то, что не можешь купить, правд...\n",
       "63455    «Беспорно» — фильм-исповедь подростка, который...\n",
       "63454    В Гоголь-центре из Авиньона прошла премьера сп...\n",
       "63449    Volkswagen зарабатывает «так много, как никогд...\n",
       "22918    Сбербанк повысит зарплаты сотрудникам на 8,5%....\n",
       "                               ...                        \n",
       "5714     Политолог Борис Минаев – о Геннадии Бурбулисе,...\n",
       "242      Тренировка в виртуальной реальности может сниз...\n",
       "241      Спутники далеких звезд Мозаика пыльных, вращаю...\n",
       "239      молекула в нервной системе может быть ключом к...\n",
       "238      На острове Уайт обнаружен крупнейший в Европе ...\n",
       "Name: short_news, Length: 131, dtype: object"
      ]
     },
     "execution_count": 512,
     "metadata": {},
     "output_type": "execute_result"
    }
   ],
   "source": [
    "db.short_news[db.category != 'society']"
   ]
  },
  {
   "cell_type": "code",
   "execution_count": 553,
   "metadata": {
    "pycharm": {
     "name": "#%%\n"
    }
   },
   "outputs": [],
   "source": [
    "length = db.category.to_list()"
   ]
  },
  {
   "cell_type": "code",
   "execution_count": 556,
   "metadata": {
    "pycharm": {
     "name": "#%%\n"
    }
   },
   "outputs": [
    {
     "data": {
      "text/plain": [
       "13"
      ]
     },
     "execution_count": 556,
     "metadata": {},
     "output_type": "execute_result"
    }
   ],
   "source": [
    "result = max(len(x) for x in length)\n",
    "result"
   ]
  },
  {
   "cell_type": "code",
   "execution_count": 621,
   "metadata": {
    "pycharm": {
     "name": "#%%\n"
    }
   },
   "outputs": [],
   "source": [
    "schedule.clear()"
   ]
  },
  {
   "cell_type": "code",
   "execution_count": 599,
   "metadata": {
    "pycharm": {
     "name": "#%%\n"
    }
   },
   "outputs": [
    {
     "data": {
      "text/plain": [
       "meduzalive      55\n",
       "vedomosti       46\n",
       "vcnews          44\n",
       "TJournal        31\n",
       "rbc_sport       22\n",
       "rozetked        19\n",
       "VwordMedia      14\n",
       "nplusone        13\n",
       "addmeto         11\n",
       "russianmacro    10\n",
       "now_ka           8\n",
       "ohmypain         5\n",
       "Name: agency, dtype: int64"
      ]
     },
     "execution_count": 599,
     "metadata": {},
     "output_type": "execute_result"
    }
   ],
   "source": [
    "db.agency.value_counts()"
   ]
  },
  {
   "cell_type": "code",
   "execution_count": 601,
   "metadata": {
    "pycharm": {
     "name": "#%%\n"
    }
   },
   "outputs": [
    {
     "data": {
      "text/html": [
       "<div>\n",
       "<style scoped>\n",
       "    .dataframe tbody tr th:only-of-type {\n",
       "        vertical-align: middle;\n",
       "    }\n",
       "\n",
       "    .dataframe tbody tr th {\n",
       "        vertical-align: top;\n",
       "    }\n",
       "\n",
       "    .dataframe thead th {\n",
       "        text-align: right;\n",
       "    }\n",
       "</style>\n",
       "<table border=\"1\" class=\"dataframe\">\n",
       "  <thead>\n",
       "    <tr style=\"text-align: right;\">\n",
       "      <th></th>\n",
       "      <th>date</th>\n",
       "      <th>title</th>\n",
       "      <th>short_news</th>\n",
       "      <th>first_link</th>\n",
       "      <th>raw_news</th>\n",
       "      <th>category</th>\n",
       "      <th>agency</th>\n",
       "    </tr>\n",
       "    <tr>\n",
       "      <th>id_news</th>\n",
       "      <th></th>\n",
       "      <th></th>\n",
       "      <th></th>\n",
       "      <th></th>\n",
       "      <th></th>\n",
       "      <th></th>\n",
       "      <th></th>\n",
       "    </tr>\n",
       "  </thead>\n",
       "  <tbody>\n",
       "    <tr>\n",
       "      <th>14884</th>\n",
       "      <td>2022-06-30 18:30:10</td>\n",
       "      <td>ЦБ увеличил лимит перевода средств физлиц на с...</td>\n",
       "      <td>ЦБ увеличил лимит перевода средств физлиц на с...</td>\n",
       "      <td>http://cbr.ru/press/event/?id=13976</td>\n",
       "      <td>ЦБ ПРОДОЛЖАЕТ ПОПЫТКИ ВЫТОЛКАТЬ ВАЛЮТУ ИЗ СТРА...</td>\n",
       "      <td>economy</td>\n",
       "      <td>russianmacro</td>\n",
       "    </tr>\n",
       "    <tr>\n",
       "      <th>14883</th>\n",
       "      <td>2022-06-30 15:08:22</td>\n",
       "      <td>В мае грузооборот транспорта в РФ снизился на ...</td>\n",
       "      <td>В мае грузооборот транспорта в РФ снизился на ...</td>\n",
       "      <td>NaN</td>\n",
       "      <td>ГРУЗООБОРОТ В МАЕ: ТРУБОПРОВОДНЫЙ ТРАНСПОРТ НЕ...</td>\n",
       "      <td>economy</td>\n",
       "      <td>russianmacro</td>\n",
       "    </tr>\n",
       "    <tr>\n",
       "      <th>14882</th>\n",
       "      <td>2022-06-30 14:30:05</td>\n",
       "      <td>Российский ипотечный рынок пережил коллапс</td>\n",
       "      <td>Российский ипотечный рынок пережил коллапс. В ...</td>\n",
       "      <td>NaN</td>\n",
       "      <td>КОЛЛАПС ИПОТЕЧНОГО РЫНКА, НАЧАВШИЙСЯ В АПРЕЛЕ,...</td>\n",
       "      <td>economy</td>\n",
       "      <td>russianmacro</td>\n",
       "    </tr>\n",
       "    <tr>\n",
       "      <th>14881</th>\n",
       "      <td>2022-06-30 12:31:58</td>\n",
       "      <td>Российские санкции, отключение России от SWIFT...</td>\n",
       "      <td>Российские санкции, отключение России от SWIFT...</td>\n",
       "      <td>tg://resolve?domain=@e_magic</td>\n",
       "      <td>⚡️В связи со сложившейся геополитической ситуа...</td>\n",
       "      <td>economy</td>\n",
       "      <td>russianmacro</td>\n",
       "    </tr>\n",
       "    <tr>\n",
       "      <th>14880</th>\n",
       "      <td>2022-06-30 12:03:42</td>\n",
       "      <td>Российский фондовый рынок – это гиблое место д...</td>\n",
       "      <td>Российский фондовый рынок – это сейчас гиблое ...</td>\n",
       "      <td>https://www.gazprom.ru/press/news/2022/june/ar...</td>\n",
       "      <td>ЕСТЬ ВЕЩИ ПОВАЖНЕЕ ФОНДОВОГО РЫНКА  После того...</td>\n",
       "      <td>economy</td>\n",
       "      <td>russianmacro</td>\n",
       "    </tr>\n",
       "    <tr>\n",
       "      <th>14879</th>\n",
       "      <td>2022-06-30 11:30:49</td>\n",
       "      <td>Росстат зафиксировал замедление промышленного ...</td>\n",
       "      <td>Росстат зафиксировал замедление промышленного ...</td>\n",
       "      <td>https://t.me/russianmacro/14865</td>\n",
       "      <td>ПАДЕНИЕ ПРОМЫШЛЕННОСТИ В МАЕ ЗАМЕДЛИЛОСЬ. ВЫПУ...</td>\n",
       "      <td>economy</td>\n",
       "      <td>russianmacro</td>\n",
       "    </tr>\n",
       "    <tr>\n",
       "      <th>14878</th>\n",
       "      <td>2022-06-30 10:15:24</td>\n",
       "      <td>Эксперты «Газпромбанка.Мнение» обновляют прогн...</td>\n",
       "      <td>Эксперты «Газпромбанка.Мнение» обновляют прогн...</td>\n",
       "      <td>https://telegra.ph/Svezhie-makroprognozy-06-30</td>\n",
       "      <td>💡Сегодня в еженедельной рубрике «Газпромбанк.М...</td>\n",
       "      <td>economy</td>\n",
       "      <td>russianmacro</td>\n",
       "    </tr>\n",
       "    <tr>\n",
       "      <th>14877</th>\n",
       "      <td>2022-06-30 10:01:52</td>\n",
       "      <td>Инфляция во Франции продолжит расти</td>\n",
       "      <td>На фоне ускорения цен на энергоносители инфляц...</td>\n",
       "      <td>https://t.me/russianmacro/14870</td>\n",
       "      <td>ИНФЛЯЦИЯ ВО ФРАНЦИИ: ТЕМПЫ ПРОДОЛЖАЮТ УВЕРЕННО...</td>\n",
       "      <td>economy</td>\n",
       "      <td>russianmacro</td>\n",
       "    </tr>\n",
       "    <tr>\n",
       "      <th>14876</th>\n",
       "      <td>2022-06-30 09:12:03</td>\n",
       "      <td>Китайские индексы торгуются в плюсе на хороших...</td>\n",
       "      <td>Снижение ВВП США в 1кв22, с -1.5% до -1.6% анн...</td>\n",
       "      <td>https://t.me/russianmacro/14875</td>\n",
       "      <td>🔴🟢 - минимальные ценовые изменения на WallStre...</td>\n",
       "      <td>economy</td>\n",
       "      <td>russianmacro</td>\n",
       "    </tr>\n",
       "    <tr>\n",
       "      <th>14875</th>\n",
       "      <td>2022-06-30 08:10:05</td>\n",
       "      <td>ДЕЛОВАЯ АКТИВНОСТь в КИТАе в ИЮНЕ – ЛОКДАУНЫ С...</td>\n",
       "      <td>ДЕЛОВАЯ АКТИВНОСТь в КИТАе в ИЮНЕ – ЛОКДАУНЫ С...</td>\n",
       "      <td>NaN</td>\n",
       "      <td>ДЕЛОВАЯ АКТИВНОСТЬ В КИТАЕ В ИЮНЕ – ЛОКДАУНЫ С...</td>\n",
       "      <td>society</td>\n",
       "      <td>russianmacro</td>\n",
       "    </tr>\n",
       "  </tbody>\n",
       "</table>\n",
       "</div>"
      ],
      "text/plain": [
       "                       date  \\\n",
       "id_news                       \n",
       "14884   2022-06-30 18:30:10   \n",
       "14883   2022-06-30 15:08:22   \n",
       "14882   2022-06-30 14:30:05   \n",
       "14881   2022-06-30 12:31:58   \n",
       "14880   2022-06-30 12:03:42   \n",
       "14879   2022-06-30 11:30:49   \n",
       "14878   2022-06-30 10:15:24   \n",
       "14877   2022-06-30 10:01:52   \n",
       "14876   2022-06-30 09:12:03   \n",
       "14875   2022-06-30 08:10:05   \n",
       "\n",
       "                                                     title  \\\n",
       "id_news                                                      \n",
       "14884    ЦБ увеличил лимит перевода средств физлиц на с...   \n",
       "14883    В мае грузооборот транспорта в РФ снизился на ...   \n",
       "14882           Российский ипотечный рынок пережил коллапс   \n",
       "14881    Российские санкции, отключение России от SWIFT...   \n",
       "14880    Российский фондовый рынок – это гиблое место д...   \n",
       "14879    Росстат зафиксировал замедление промышленного ...   \n",
       "14878    Эксперты «Газпромбанка.Мнение» обновляют прогн...   \n",
       "14877                  Инфляция во Франции продолжит расти   \n",
       "14876    Китайские индексы торгуются в плюсе на хороших...   \n",
       "14875    ДЕЛОВАЯ АКТИВНОСТь в КИТАе в ИЮНЕ – ЛОКДАУНЫ С...   \n",
       "\n",
       "                                                short_news  \\\n",
       "id_news                                                      \n",
       "14884    ЦБ увеличил лимит перевода средств физлиц на с...   \n",
       "14883    В мае грузооборот транспорта в РФ снизился на ...   \n",
       "14882    Российский ипотечный рынок пережил коллапс. В ...   \n",
       "14881    Российские санкции, отключение России от SWIFT...   \n",
       "14880    Российский фондовый рынок – это сейчас гиблое ...   \n",
       "14879    Росстат зафиксировал замедление промышленного ...   \n",
       "14878    Эксперты «Газпромбанка.Мнение» обновляют прогн...   \n",
       "14877    На фоне ускорения цен на энергоносители инфляц...   \n",
       "14876    Снижение ВВП США в 1кв22, с -1.5% до -1.6% анн...   \n",
       "14875    ДЕЛОВАЯ АКТИВНОСТь в КИТАе в ИЮНЕ – ЛОКДАУНЫ С...   \n",
       "\n",
       "                                                first_link  \\\n",
       "id_news                                                      \n",
       "14884                  http://cbr.ru/press/event/?id=13976   \n",
       "14883                                                  NaN   \n",
       "14882                                                  NaN   \n",
       "14881                         tg://resolve?domain=@e_magic   \n",
       "14880    https://www.gazprom.ru/press/news/2022/june/ar...   \n",
       "14879                      https://t.me/russianmacro/14865   \n",
       "14878       https://telegra.ph/Svezhie-makroprognozy-06-30   \n",
       "14877                      https://t.me/russianmacro/14870   \n",
       "14876                      https://t.me/russianmacro/14875   \n",
       "14875                                                  NaN   \n",
       "\n",
       "                                                  raw_news category  \\\n",
       "id_news                                                               \n",
       "14884    ЦБ ПРОДОЛЖАЕТ ПОПЫТКИ ВЫТОЛКАТЬ ВАЛЮТУ ИЗ СТРА...  economy   \n",
       "14883    ГРУЗООБОРОТ В МАЕ: ТРУБОПРОВОДНЫЙ ТРАНСПОРТ НЕ...  economy   \n",
       "14882    КОЛЛАПС ИПОТЕЧНОГО РЫНКА, НАЧАВШИЙСЯ В АПРЕЛЕ,...  economy   \n",
       "14881    ⚡️В связи со сложившейся геополитической ситуа...  economy   \n",
       "14880    ЕСТЬ ВЕЩИ ПОВАЖНЕЕ ФОНДОВОГО РЫНКА  После того...  economy   \n",
       "14879    ПАДЕНИЕ ПРОМЫШЛЕННОСТИ В МАЕ ЗАМЕДЛИЛОСЬ. ВЫПУ...  economy   \n",
       "14878    💡Сегодня в еженедельной рубрике «Газпромбанк.М...  economy   \n",
       "14877    ИНФЛЯЦИЯ ВО ФРАНЦИИ: ТЕМПЫ ПРОДОЛЖАЮТ УВЕРЕННО...  economy   \n",
       "14876    🔴🟢 - минимальные ценовые изменения на WallStre...  economy   \n",
       "14875    ДЕЛОВАЯ АКТИВНОСТЬ В КИТАЕ В ИЮНЕ – ЛОКДАУНЫ С...  society   \n",
       "\n",
       "               agency  \n",
       "id_news                \n",
       "14884    russianmacro  \n",
       "14883    russianmacro  \n",
       "14882    russianmacro  \n",
       "14881    russianmacro  \n",
       "14880    russianmacro  \n",
       "14879    russianmacro  \n",
       "14878    russianmacro  \n",
       "14877    russianmacro  \n",
       "14876    russianmacro  \n",
       "14875    russianmacro  "
      ]
     },
     "execution_count": 601,
     "metadata": {},
     "output_type": "execute_result"
    }
   ],
   "source": [
    "db[db.agency == 'russianmacro']"
   ]
  },
  {
   "cell_type": "code",
   "execution_count": 602,
   "metadata": {
    "pycharm": {
     "name": "#%%\n"
    }
   },
   "outputs": [],
   "source": [
    "def ag(channel_name: str) -> None:\n",
    "\t\"\"\"Получает словарь текущего СМИ, и пишет его в нашу базу данных, предварительно обработав и отсортировав\"\"\"\n",
    "\tdb = pd.read_pickle('table_news.pkl')\n",
    "\tchannel_dict = make_articles_dict(channel_name)\n",
    "\tif channel_dict:\n",
    "\t\tdf = pd.DataFrame(channel_dict).T\n",
    "\t\tdf['category'] = df['short_news'].apply(\n",
    "\t\t\tlambda x: model_class.predict(x)[0][0].split('__')[-1])  # классифицируем fasttext-ом, достаём класс\n",
    "\t\tdf = df.loc[df['category'] != 'not_news']  # удаляем новости, которые классификатор не признал новостями\n",
    "\t\tdf['date'] = df['date'].apply(lambda x: datetime.fromtimestamp(x))  # преобразовываем timestamp-число в дату\n",
    "\t\tdf['agency'] = channel_name\n",
    "\t\tch_news = pd.concat([db, df]).sort_values('date', ascending=False)\n",
    "\t\tch_news.to_pickle('table_news.pkl')"
   ]
  },
  {
   "cell_type": "code",
   "execution_count": 609,
   "metadata": {
    "pycharm": {
     "name": "#%%\n"
    }
   },
   "outputs": [],
   "source": [
    "def make_articles_dict(channel_name):\n",
    "    answer = requests.get('https://tg.i-c-a.su/json/' + channel_name)\n",
    "    data = answer.json()\n",
    "    messages = data['messages']\n",
    "    \n",
    "#     temp_df = pd.read_pickle('table_news.pkl')\n",
    "    start_id = 0  # вытаскиваем самую последнюю статью данного медиа из БД\n",
    "#     del(temp_df)\n",
    "    \n",
    "    # выбираем только те статьи, которые старше последней\n",
    "    id_articles = [(el, messages[el]['id']) for el in range(len(messages)) if messages[el]['id'] > start_id]\n",
    "    \n",
    "    draft_articles = [make_clean_text(messages[el[0]]['message'], messages[el[0]]['date']) for el in id_articles]\n",
    "    articles_dict = {el[1]: draft_articles[el[0]] for el in id_articles}\n",
    "    \n",
    "    # Удаляем пустые статьи для новостей, которые не содержали текст\n",
    "    empty_keys = [k for k,v in articles_dict.items() if not v['raw_news']]\n",
    "    for k in empty_keys:\n",
    "        del articles_dict[k]\n",
    "    \n",
    "    return articles_dict"
   ]
  },
  {
   "cell_type": "code",
   "execution_count": 616,
   "metadata": {
    "pycharm": {
     "name": "#%%\n"
    }
   },
   "outputs": [],
   "source": [
    "meduzapro = make_articles_dict('meduzapro')"
   ]
  },
  {
   "cell_type": "code",
   "execution_count": 617,
   "metadata": {
    "pycharm": {
     "name": "#%%\n"
    }
   },
   "outputs": [],
   "source": [
    "channel_dict = meduzapro"
   ]
  },
  {
   "cell_type": "code",
   "execution_count": 618,
   "metadata": {
    "pycharm": {
     "name": "#%%\n"
    }
   },
   "outputs": [],
   "source": [
    "db = pd.read_pickle('table_news.pkl')\n",
    "df = pd.DataFrame(channel_dict).T\n",
    "df['category'] = df['short_news'].apply(\n",
    "    lambda x: model_class.predict(x)[0][0].split('__')[-1])  # классифицируем fasttext-ом, достаём класс\n",
    "df = df.loc[df['category'] != 'not_news']  # удаляем новости, которые классификатор не признал новостями\n",
    "df['date'] = df['date'].apply(lambda x: datetime.fromtimestamp(x))  # преобразовываем timestamp-число в дату\n",
    "df['agency'] = 'meduzapro'\n",
    "ch_news = pd.concat([db, df]).sort_values('date', ascending=False)\n",
    "ch_news.to_pickle('table_news.pkl')"
   ]
  },
  {
   "cell_type": "code",
   "execution_count": 3,
   "outputs": [],
   "source": [
    "import pandas as pd"
   ],
   "metadata": {
    "collapsed": false,
    "pycharm": {
     "name": "#%%\n"
    }
   }
  },
  {
   "cell_type": "code",
   "execution_count": 4,
   "outputs": [],
   "source": [
    "db = pd.read_pickle('table_news.pkl')"
   ],
   "metadata": {
    "collapsed": false,
    "pycharm": {
     "name": "#%%\n"
    }
   }
  },
  {
   "cell_type": "code",
   "execution_count": 5,
   "metadata": {
    "pycharm": {
     "name": "#%%\n"
    }
   },
   "outputs": [
    {
     "data": {
      "text/plain": "                     date                                              title  \\\n22966 2022-07-03 12:00:54  Где в Подмосковье отдохнуть с палаткой: в Пушк...   \n18843 2022-07-03 11:57:40  Российская сторона нанесла удар по Белгороду р...   \n57262 2022-07-03 11:56:53  Мирзиёев второй раз за сутки вылетел в Каракал...   \n6474  2022-07-03 11:55:09  Минобороны РФ обвинило Украину в ударе по Белг...   \n63625 2022-07-03 11:54:19  Российское Минобороны: Белгород был обстрелян ...   \n...                   ...                                                ...   \n5713  2022-06-20 13:31:02  Колонка Сергея Чапнина об отставке митрополита...   \n242   2022-06-17 23:33:42  Тренировка в виртуальной реальности может сниз...   \n241   2022-06-15 23:05:59  Ученые обнаружили молодую планету с массой Юпи...   \n239   2022-06-13 23:50:58  Ученые нашли новый способ лечения хронической ...   \n238   2022-06-10 23:45:26  На острове Уайт обнаружен крупнейший в Европе ...   \n\n                                              short_news  \\\n22966  ⛺️ Где в Подмосковье отдохнуть с палаткой: в П...   \n18843  Российская сторона нанесла удар по Белгороду р...   \n57262  Президент Узбекистана Шавкат Мирзиёев пообещал...   \n6474   Минобороны РФ обвинило Украину в ударе по Белг...   \n63625  Российское Минобороны утверждает, что Белгород...   \n...                                                  ...   \n5713   ging.ru – Колонка Сергея Чапнина об отставке м...   \n242    Тренировка в виртуальной реальности может сниз...   \n241    Спутники далеких звезд Мозаика пыльных, вращаю...   \n239    молекула в нервной системе может быть ключом к...   \n238    На острове Уайт обнаружен крупнейший в Европе ...   \n\n                                              first_link  \\\n22966                              http://vdmsti.ru/gurb   \n18843              https://www.interfax.ru/russia/850182   \n57262                    https://tjournal.ru/news/668194   \n6474   https://meduza.io/news/2022/07/03/minoborony-r...   \n63625                                                NaN   \n...                                                  ...   \n5713   https://vpost-media.ru/opinions/za-chto-patria...   \n242    https://www.tohoku.ac.jp/en/press/training_vir...   \n241         https://noirlab.edu/public/news/noirlab2212/   \n239    https://ucalgary.ca/news/ucalgary-researchers-...   \n238    https://www.southampton.ac.uk/news/2022/06/din...   \n\n                                                raw_news category      agency  \n22966  ⛺️ Где в Подмосковье отдохнуть с палаткой Новы...  society   vedomosti  \n18843  По сообщению российского Минобороны, украинска...  society  thebell_io  \n57262  Президент Узбекистана прибыл в Каракалпакстан ...  society    TJournal  \n6474   ДАННОЕ СООБЩЕНИЕ (МАТЕРИАЛ) СОЗДАНО И (ИЛИ) РА...  society   meduzapro  \n63625  Российское Минобороны утверждает, что Белгород...  society  meduzalive  \n...                                                  ...      ...         ...  \n5713   Колонка Сергея Чапнина об отставке митрополита...  society  VwordMedia  \n242    🔋🧠💻 Тренировка в виртуальной реальности может ...  science      now_ka  \n241    🛸 Изображения с телескопа Gemini South в Чили ...  science      now_ka  \n239    💊🧠 Молекула в нервной системе может быть ключо...  science      now_ka  \n238    🦕🌳 На острове Уайт обнаружен крупнейший в Евро...  science      now_ka  \n\n[543 rows x 7 columns]",
      "text/html": "<div>\n<style scoped>\n    .dataframe tbody tr th:only-of-type {\n        vertical-align: middle;\n    }\n\n    .dataframe tbody tr th {\n        vertical-align: top;\n    }\n\n    .dataframe thead th {\n        text-align: right;\n    }\n</style>\n<table border=\"1\" class=\"dataframe\">\n  <thead>\n    <tr style=\"text-align: right;\">\n      <th></th>\n      <th>date</th>\n      <th>title</th>\n      <th>short_news</th>\n      <th>first_link</th>\n      <th>raw_news</th>\n      <th>category</th>\n      <th>agency</th>\n    </tr>\n  </thead>\n  <tbody>\n    <tr>\n      <th>22966</th>\n      <td>2022-07-03 12:00:54</td>\n      <td>Где в Подмосковье отдохнуть с палаткой: в Пушк...</td>\n      <td>⛺️ Где в Подмосковье отдохнуть с палаткой: в П...</td>\n      <td>http://vdmsti.ru/gurb</td>\n      <td>⛺️ Где в Подмосковье отдохнуть с палаткой Новы...</td>\n      <td>society</td>\n      <td>vedomosti</td>\n    </tr>\n    <tr>\n      <th>18843</th>\n      <td>2022-07-03 11:57:40</td>\n      <td>Российская сторона нанесла удар по Белгороду р...</td>\n      <td>Российская сторона нанесла удар по Белгороду р...</td>\n      <td>https://www.interfax.ru/russia/850182</td>\n      <td>По сообщению российского Минобороны, украинска...</td>\n      <td>society</td>\n      <td>thebell_io</td>\n    </tr>\n    <tr>\n      <th>57262</th>\n      <td>2022-07-03 11:56:53</td>\n      <td>Мирзиёев второй раз за сутки вылетел в Каракал...</td>\n      <td>Президент Узбекистана Шавкат Мирзиёев пообещал...</td>\n      <td>https://tjournal.ru/news/668194</td>\n      <td>Президент Узбекистана прибыл в Каракалпакстан ...</td>\n      <td>society</td>\n      <td>TJournal</td>\n    </tr>\n    <tr>\n      <th>6474</th>\n      <td>2022-07-03 11:55:09</td>\n      <td>Минобороны РФ обвинило Украину в ударе по Белг...</td>\n      <td>Минобороны РФ обвинило Украину в ударе по Белг...</td>\n      <td>https://meduza.io/news/2022/07/03/minoborony-r...</td>\n      <td>ДАННОЕ СООБЩЕНИЕ (МАТЕРИАЛ) СОЗДАНО И (ИЛИ) РА...</td>\n      <td>society</td>\n      <td>meduzapro</td>\n    </tr>\n    <tr>\n      <th>63625</th>\n      <td>2022-07-03 11:54:19</td>\n      <td>Российское Минобороны: Белгород был обстрелян ...</td>\n      <td>Российское Минобороны утверждает, что Белгород...</td>\n      <td>NaN</td>\n      <td>Российское Минобороны утверждает, что Белгород...</td>\n      <td>society</td>\n      <td>meduzalive</td>\n    </tr>\n    <tr>\n      <th>...</th>\n      <td>...</td>\n      <td>...</td>\n      <td>...</td>\n      <td>...</td>\n      <td>...</td>\n      <td>...</td>\n      <td>...</td>\n    </tr>\n    <tr>\n      <th>5713</th>\n      <td>2022-06-20 13:31:02</td>\n      <td>Колонка Сергея Чапнина об отставке митрополита...</td>\n      <td>ging.ru – Колонка Сергея Чапнина об отставке м...</td>\n      <td>https://vpost-media.ru/opinions/za-chto-patria...</td>\n      <td>Колонка Сергея Чапнина об отставке митрополита...</td>\n      <td>society</td>\n      <td>VwordMedia</td>\n    </tr>\n    <tr>\n      <th>242</th>\n      <td>2022-06-17 23:33:42</td>\n      <td>Тренировка в виртуальной реальности может сниз...</td>\n      <td>Тренировка в виртуальной реальности может сниз...</td>\n      <td>https://www.tohoku.ac.jp/en/press/training_vir...</td>\n      <td>🔋🧠💻 Тренировка в виртуальной реальности может ...</td>\n      <td>science</td>\n      <td>now_ka</td>\n    </tr>\n    <tr>\n      <th>241</th>\n      <td>2022-06-15 23:05:59</td>\n      <td>Ученые обнаружили молодую планету с массой Юпи...</td>\n      <td>Спутники далеких звезд Мозаика пыльных, вращаю...</td>\n      <td>https://noirlab.edu/public/news/noirlab2212/</td>\n      <td>🛸 Изображения с телескопа Gemini South в Чили ...</td>\n      <td>science</td>\n      <td>now_ka</td>\n    </tr>\n    <tr>\n      <th>239</th>\n      <td>2022-06-13 23:50:58</td>\n      <td>Ученые нашли новый способ лечения хронической ...</td>\n      <td>молекула в нервной системе может быть ключом к...</td>\n      <td>https://ucalgary.ca/news/ucalgary-researchers-...</td>\n      <td>💊🧠 Молекула в нервной системе может быть ключо...</td>\n      <td>science</td>\n      <td>now_ka</td>\n    </tr>\n    <tr>\n      <th>238</th>\n      <td>2022-06-10 23:45:26</td>\n      <td>На острове Уайт обнаружен крупнейший в Европе ...</td>\n      <td>На острове Уайт обнаружен крупнейший в Европе ...</td>\n      <td>https://www.southampton.ac.uk/news/2022/06/din...</td>\n      <td>🦕🌳 На острове Уайт обнаружен крупнейший в Евро...</td>\n      <td>science</td>\n      <td>now_ka</td>\n    </tr>\n  </tbody>\n</table>\n<p>543 rows × 7 columns</p>\n</div>"
     },
     "execution_count": 5,
     "metadata": {},
     "output_type": "execute_result"
    }
   ],
   "source": [
    "db"
   ]
  },
  {
   "cell_type": "code",
   "execution_count": 6,
   "outputs": [
    {
     "ename": "IndexError",
     "evalue": "index 0 is out of bounds for axis 0 with size 0",
     "output_type": "error",
     "traceback": [
      "\u001B[1;31m---------------------------------------------------------------------------\u001B[0m",
      "\u001B[1;31mIndexError\u001B[0m                                Traceback (most recent call last)",
      "\u001B[1;32m<ipython-input-6-78700614565d>\u001B[0m in \u001B[0;36m<module>\u001B[1;34m\u001B[0m\n\u001B[1;32m----> 1\u001B[1;33m \u001B[0mstart_id\u001B[0m \u001B[1;33m=\u001B[0m \u001B[0mdb\u001B[0m\u001B[1;33m.\u001B[0m\u001B[0mindex\u001B[0m\u001B[1;33m[\u001B[0m\u001B[0mdb\u001B[0m\u001B[1;33m[\u001B[0m\u001B[1;34m'agency'\u001B[0m\u001B[1;33m]\u001B[0m \u001B[1;33m==\u001B[0m \u001B[1;34m'nltk'\u001B[0m\u001B[1;33m]\u001B[0m\u001B[1;33m[\u001B[0m\u001B[1;36m0\u001B[0m\u001B[1;33m]\u001B[0m\u001B[1;33m\u001B[0m\u001B[1;33m\u001B[0m\u001B[0m\n\u001B[0m",
      "\u001B[1;32m~\\anaconda3\\lib\\site-packages\\pandas\\core\\indexes\\base.py\u001B[0m in \u001B[0;36m__getitem__\u001B[1;34m(self, key)\u001B[0m\n\u001B[0;32m   4099\u001B[0m         \u001B[1;32mif\u001B[0m \u001B[0mis_scalar\u001B[0m\u001B[1;33m(\u001B[0m\u001B[0mkey\u001B[0m\u001B[1;33m)\u001B[0m\u001B[1;33m:\u001B[0m\u001B[1;33m\u001B[0m\u001B[1;33m\u001B[0m\u001B[0m\n\u001B[0;32m   4100\u001B[0m             \u001B[0mkey\u001B[0m \u001B[1;33m=\u001B[0m \u001B[0mcom\u001B[0m\u001B[1;33m.\u001B[0m\u001B[0mcast_scalar_indexer\u001B[0m\u001B[1;33m(\u001B[0m\u001B[0mkey\u001B[0m\u001B[1;33m,\u001B[0m \u001B[0mwarn_float\u001B[0m\u001B[1;33m=\u001B[0m\u001B[1;32mTrue\u001B[0m\u001B[1;33m)\u001B[0m\u001B[1;33m\u001B[0m\u001B[1;33m\u001B[0m\u001B[0m\n\u001B[1;32m-> 4101\u001B[1;33m             \u001B[1;32mreturn\u001B[0m \u001B[0mgetitem\u001B[0m\u001B[1;33m(\u001B[0m\u001B[0mkey\u001B[0m\u001B[1;33m)\u001B[0m\u001B[1;33m\u001B[0m\u001B[1;33m\u001B[0m\u001B[0m\n\u001B[0m\u001B[0;32m   4102\u001B[0m \u001B[1;33m\u001B[0m\u001B[0m\n\u001B[0;32m   4103\u001B[0m         \u001B[1;32mif\u001B[0m \u001B[0misinstance\u001B[0m\u001B[1;33m(\u001B[0m\u001B[0mkey\u001B[0m\u001B[1;33m,\u001B[0m \u001B[0mslice\u001B[0m\u001B[1;33m)\u001B[0m\u001B[1;33m:\u001B[0m\u001B[1;33m\u001B[0m\u001B[1;33m\u001B[0m\u001B[0m\n",
      "\u001B[1;31mIndexError\u001B[0m: index 0 is out of bounds for axis 0 with size 0"
     ]
    }
   ],
   "source": [
    "start_id = db.index[db['agency'] == 'nltk'][0]"
   ],
   "metadata": {
    "collapsed": false,
    "pycharm": {
     "name": "#%%\n"
    }
   }
  },
  {
   "cell_type": "code",
   "execution_count": 622,
   "metadata": {
    "pycharm": {
     "name": "#%%\n"
    }
   },
   "outputs": [],
   "source": [
    "# schedule.clear()"
   ]
  }
 ],
 "metadata": {
  "kernelspec": {
   "display_name": "Python 3",
   "language": "python",
   "name": "python3"
  },
  "language_info": {
   "codemirror_mode": {
    "name": "ipython",
    "version": 3
   },
   "file_extension": ".py",
   "mimetype": "text/x-python",
   "name": "python",
   "nbconvert_exporter": "python",
   "pygments_lexer": "ipython3",
   "version": "3.8.5"
  }
 },
 "nbformat": 4,
 "nbformat_minor": 4
}